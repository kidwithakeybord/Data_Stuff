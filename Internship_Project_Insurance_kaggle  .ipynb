{
 "cells": [
  {
   "cell_type": "code",
   "execution_count": 1,
   "metadata": {},
   "outputs": [],
   "source": [
    "# loading guns (-_-)... i'm kidding loading requred packages \n",
    "import numpy as np\n",
    "import pandas as pd\n",
    "import math \n",
    "import matplotlib.pyplot as plt\n",
    "import missingno as msno\n",
    "import seaborn as sns"
   ]
  },
  {
   "cell_type": "code",
   "execution_count": 2,
   "metadata": {},
   "outputs": [],
   "source": [
    "data = pd.read_csv(\"insurance.csv\")\n",
    "dfrev = pd.read_csv(\"insurance.csv\")"
   ]
  },
  {
   "cell_type": "code",
   "execution_count": 3,
   "metadata": {},
   "outputs": [
    {
     "data": {
      "text/html": [
       "<div>\n",
       "<style scoped>\n",
       "    .dataframe tbody tr th:only-of-type {\n",
       "        vertical-align: middle;\n",
       "    }\n",
       "\n",
       "    .dataframe tbody tr th {\n",
       "        vertical-align: top;\n",
       "    }\n",
       "\n",
       "    .dataframe thead th {\n",
       "        text-align: right;\n",
       "    }\n",
       "</style>\n",
       "<table border=\"1\" class=\"dataframe\">\n",
       "  <thead>\n",
       "    <tr style=\"text-align: right;\">\n",
       "      <th></th>\n",
       "      <th>age</th>\n",
       "      <th>sex</th>\n",
       "      <th>bmi</th>\n",
       "      <th>children</th>\n",
       "      <th>smoker</th>\n",
       "      <th>region</th>\n",
       "      <th>charges</th>\n",
       "    </tr>\n",
       "  </thead>\n",
       "  <tbody>\n",
       "    <tr>\n",
       "      <th>0</th>\n",
       "      <td>19</td>\n",
       "      <td>female</td>\n",
       "      <td>27.900</td>\n",
       "      <td>0</td>\n",
       "      <td>yes</td>\n",
       "      <td>southwest</td>\n",
       "      <td>16884.92400</td>\n",
       "    </tr>\n",
       "    <tr>\n",
       "      <th>1</th>\n",
       "      <td>18</td>\n",
       "      <td>male</td>\n",
       "      <td>33.770</td>\n",
       "      <td>1</td>\n",
       "      <td>no</td>\n",
       "      <td>southeast</td>\n",
       "      <td>1725.55230</td>\n",
       "    </tr>\n",
       "    <tr>\n",
       "      <th>2</th>\n",
       "      <td>28</td>\n",
       "      <td>male</td>\n",
       "      <td>33.000</td>\n",
       "      <td>3</td>\n",
       "      <td>no</td>\n",
       "      <td>southeast</td>\n",
       "      <td>4449.46200</td>\n",
       "    </tr>\n",
       "    <tr>\n",
       "      <th>3</th>\n",
       "      <td>33</td>\n",
       "      <td>male</td>\n",
       "      <td>22.705</td>\n",
       "      <td>0</td>\n",
       "      <td>no</td>\n",
       "      <td>northwest</td>\n",
       "      <td>21984.47061</td>\n",
       "    </tr>\n",
       "    <tr>\n",
       "      <th>4</th>\n",
       "      <td>32</td>\n",
       "      <td>male</td>\n",
       "      <td>28.880</td>\n",
       "      <td>0</td>\n",
       "      <td>no</td>\n",
       "      <td>northwest</td>\n",
       "      <td>3866.85520</td>\n",
       "    </tr>\n",
       "  </tbody>\n",
       "</table>\n",
       "</div>"
      ],
      "text/plain": [
       "   age     sex     bmi  children smoker     region      charges\n",
       "0   19  female  27.900         0    yes  southwest  16884.92400\n",
       "1   18    male  33.770         1     no  southeast   1725.55230\n",
       "2   28    male  33.000         3     no  southeast   4449.46200\n",
       "3   33    male  22.705         0     no  northwest  21984.47061\n",
       "4   32    male  28.880         0     no  northwest   3866.85520"
      ]
     },
     "execution_count": 3,
     "metadata": {},
     "output_type": "execute_result"
    }
   ],
   "source": [
    "data.head()"
   ]
  },
  {
   "cell_type": "code",
   "execution_count": 4,
   "metadata": {},
   "outputs": [
    {
     "data": {
      "text/plain": [
       "False"
      ]
     },
     "execution_count": 4,
     "metadata": {},
     "output_type": "execute_result"
    }
   ],
   "source": [
    "data.isnull().sum().any()"
   ]
  },
  {
   "cell_type": "code",
   "execution_count": 5,
   "metadata": {},
   "outputs": [
    {
     "data": {
      "text/plain": [
       "age           int64\n",
       "sex          object\n",
       "bmi         float64\n",
       "children      int64\n",
       "smoker       object\n",
       "region       object\n",
       "charges     float64\n",
       "dtype: object"
      ]
     },
     "execution_count": 5,
     "metadata": {},
     "output_type": "execute_result"
    }
   ],
   "source": [
    "data.dtypes"
   ]
  },
  {
   "cell_type": "code",
   "execution_count": 6,
   "metadata": {},
   "outputs": [
    {
     "data": {
      "text/plain": [
       "(1338, 7)"
      ]
     },
     "execution_count": 6,
     "metadata": {},
     "output_type": "execute_result"
    }
   ],
   "source": [
    "data.shape"
   ]
  },
  {
   "cell_type": "code",
   "execution_count": 7,
   "metadata": {},
   "outputs": [],
   "source": [
    " x = list(range(0, 1338))"
   ]
  },
  {
   "cell_type": "code",
   "execution_count": 8,
   "metadata": {},
   "outputs": [],
   "source": [
    "cata= ['smoke','region','sex']"
   ]
  },
  {
   "cell_type": "code",
   "execution_count": 9,
   "metadata": {},
   "outputs": [],
   "source": [
    "categorical_Attributes = data.select_dtypes(include=['object']).columns"
   ]
  },
  {
   "cell_type": "code",
   "execution_count": 10,
   "metadata": {},
   "outputs": [],
   "source": [
    "from sklearn import preprocessing\n",
    "le = preprocessing.LabelEncoder()\n",
    "le.fit(data['smoker'])\n",
    "data['smoker']=le.transform(data['smoker'])\n",
    "le.fit(data['region'])\n",
    "data['region']=le.transform(data['region'])\n",
    "le.fit(data['sex'])\n",
    "data['sex']=le.transform(data['sex'])"
   ]
  },
  {
   "cell_type": "code",
   "execution_count": 11,
   "metadata": {},
   "outputs": [
    {
     "data": {
      "text/html": [
       "<div>\n",
       "<style scoped>\n",
       "    .dataframe tbody tr th:only-of-type {\n",
       "        vertical-align: middle;\n",
       "    }\n",
       "\n",
       "    .dataframe tbody tr th {\n",
       "        vertical-align: top;\n",
       "    }\n",
       "\n",
       "    .dataframe thead th {\n",
       "        text-align: right;\n",
       "    }\n",
       "</style>\n",
       "<table border=\"1\" class=\"dataframe\">\n",
       "  <thead>\n",
       "    <tr style=\"text-align: right;\">\n",
       "      <th></th>\n",
       "      <th>age</th>\n",
       "      <th>sex</th>\n",
       "      <th>bmi</th>\n",
       "      <th>children</th>\n",
       "      <th>smoker</th>\n",
       "      <th>region</th>\n",
       "      <th>charges</th>\n",
       "    </tr>\n",
       "  </thead>\n",
       "  <tbody>\n",
       "    <tr>\n",
       "      <th>0</th>\n",
       "      <td>19</td>\n",
       "      <td>0</td>\n",
       "      <td>27.900</td>\n",
       "      <td>0</td>\n",
       "      <td>1</td>\n",
       "      <td>3</td>\n",
       "      <td>16884.92400</td>\n",
       "    </tr>\n",
       "    <tr>\n",
       "      <th>1</th>\n",
       "      <td>18</td>\n",
       "      <td>1</td>\n",
       "      <td>33.770</td>\n",
       "      <td>1</td>\n",
       "      <td>0</td>\n",
       "      <td>2</td>\n",
       "      <td>1725.55230</td>\n",
       "    </tr>\n",
       "    <tr>\n",
       "      <th>2</th>\n",
       "      <td>28</td>\n",
       "      <td>1</td>\n",
       "      <td>33.000</td>\n",
       "      <td>3</td>\n",
       "      <td>0</td>\n",
       "      <td>2</td>\n",
       "      <td>4449.46200</td>\n",
       "    </tr>\n",
       "    <tr>\n",
       "      <th>3</th>\n",
       "      <td>33</td>\n",
       "      <td>1</td>\n",
       "      <td>22.705</td>\n",
       "      <td>0</td>\n",
       "      <td>0</td>\n",
       "      <td>1</td>\n",
       "      <td>21984.47061</td>\n",
       "    </tr>\n",
       "    <tr>\n",
       "      <th>4</th>\n",
       "      <td>32</td>\n",
       "      <td>1</td>\n",
       "      <td>28.880</td>\n",
       "      <td>0</td>\n",
       "      <td>0</td>\n",
       "      <td>1</td>\n",
       "      <td>3866.85520</td>\n",
       "    </tr>\n",
       "  </tbody>\n",
       "</table>\n",
       "</div>"
      ],
      "text/plain": [
       "   age  sex     bmi  children  smoker  region      charges\n",
       "0   19    0  27.900         0       1       3  16884.92400\n",
       "1   18    1  33.770         1       0       2   1725.55230\n",
       "2   28    1  33.000         3       0       2   4449.46200\n",
       "3   33    1  22.705         0       0       1  21984.47061\n",
       "4   32    1  28.880         0       0       1   3866.85520"
      ]
     },
     "execution_count": 11,
     "metadata": {},
     "output_type": "execute_result"
    }
   ],
   "source": [
    "data.head()"
   ]
  },
  {
   "cell_type": "code",
   "execution_count": 12,
   "metadata": {},
   "outputs": [
    {
     "data": {
      "image/png": "[encoded data removed]",
      "text/plain": [
       "<Figure size 576x432 with 2 Axes>"
      ]
     },
     "metadata": {},
     "output_type": "display_data"
    }
   ],
   "source": [
    "sns.heatmap(data.corr(),annot=True, cmap='terrain', linewidths=0.1)\n",
    "fig=plt.gcf()\n",
    "fig.set_size_inches(8,6)\n",
    "plt.show()"
   ]
  },
  {
   "cell_type": "markdown",
   "metadata": {},
   "source": [
    "look like age and smoking is highly correated to charges "
   ]
  },
  {
   "cell_type": "code",
   "execution_count": 13,
   "metadata": {},
   "outputs": [
    {
     "name": "stderr",
     "output_type": "stream",
     "text": [
      "C:\\Annaconda\\lib\\site-packages\\scipy\\stats\\stats.py:1713: FutureWarning: Using a non-tuple sequence for multidimensional indexing is deprecated; use `arr[tuple(seq)]` instead of `arr[seq]`. In the future this will be interpreted as an array index, `arr[np.array(seq)]`, which will result either in an error or a different result.\n",
      "  return np.add.reduce(sorted[indexer] * weights, axis=axis) / sumval\n"
     ]
    },
    {
     "data": {
      "text/plain": [
       "<matplotlib.axes._subplots.AxesSubplot at 0x1dee0b55b38>"
      ]
     },
     "execution_count": 13,
     "metadata": {},
     "output_type": "execute_result"
    },
    {
     "data": {
      "image/png": "[encoded data removed]",
      "text/plain": [
       "<Figure size 432x288 with 1 Axes>"
      ]
     },
     "metadata": {},
     "output_type": "display_data"
    }
   ],
   "source": [
    "sns.regplot(x=\"bmi\", y=\"charges\", data=data)"
   ]
  },
  {
   "cell_type": "code",
   "execution_count": 14,
   "metadata": {},
   "outputs": [],
   "source": [
    "from sklearn.model_selection import train_test_split"
   ]
  },
  {
   "cell_type": "code",
   "execution_count": 15,
   "metadata": {
    "scrolled": true
   },
   "outputs": [],
   "source": [
    "data_X = data.drop(['charges'],axis=1)\n",
    "data_Y = data['charges']  \n",
    "\n",
    "trainX, testX, train_Y, test_Y = train_test_split(data_X, data_Y, test_size=0.2, random_state=122)"
   ]
  },
  {
   "cell_type": "code",
   "execution_count": 16,
   "metadata": {},
   "outputs": [
    {
     "name": "stdout",
     "output_type": "stream",
     "text": [
      "(1070, 6)\n",
      "(268, 6)\n",
      "(1070,)\n",
      "(268,)\n"
     ]
    }
   ],
   "source": [
    "print(trainX.shape)\n",
    "print(testX.shape)\n",
    "print(train_Y.shape)\n",
    "print(test_Y.shape)"
   ]
  },
  {
   "cell_type": "code",
   "execution_count": 17,
   "metadata": {},
   "outputs": [
    {
     "name": "stderr",
     "output_type": "stream",
     "text": [
      "C:\\Annaconda\\lib\\site-packages\\sklearn\\preprocessing\\data.py:645: DataConversionWarning: Data with input dtype int32, int64, float64 were all converted to float64 by StandardScaler.\n",
      "  return self.partial_fit(X, y)\n",
      "C:\\Annaconda\\lib\\site-packages\\ipykernel_launcher.py:4: DataConversionWarning: Data with input dtype int32, int64, float64 were all converted to float64 by StandardScaler.\n",
      "  after removing the cwd from sys.path.\n",
      "C:\\Annaconda\\lib\\site-packages\\ipykernel_launcher.py:5: DataConversionWarning: Data with input dtype int32, int64, float64 were all converted to float64 by StandardScaler.\n",
      "  \"\"\"\n"
     ]
    }
   ],
   "source": [
    "from sklearn.preprocessing import StandardScaler\n",
    "scaler = StandardScaler()\n",
    "scaler.fit(trainX)\n",
    "trainX = scaler.transform(trainX) \n",
    "testX = scaler.transform(testX)"
   ]
  },
  {
   "cell_type": "code",
   "execution_count": null,
   "metadata": {},
   "outputs": [],
   "source": []
  },
  {
   "cell_type": "code",
   "execution_count": 18,
   "metadata": {},
   "outputs": [
    {
     "data": {
      "text/plain": [
       "0.8033772284172229"
      ]
     },
     "execution_count": 18,
     "metadata": {},
     "output_type": "execute_result"
    }
   ],
   "source": [
    "from sklearn.model_selection import train_test_split \n",
    "from sklearn.linear_model import LinearRegression\n",
    "from sklearn.metrics import r2_score\n",
    "reg = LinearRegression()\n",
    "X_train, X_test, y_train, y_test = train_test_split(trainX, train_Y, test_size=0.4, \n",
    "                                                    random_state=123)\n",
    "reg.fit(X_train, y_train)\n",
    "predict1 = reg.predict(testX)\n",
    "r2_score(test_Y,predict1) "
   ]
  },
  {
   "cell_type": "code",
   "execution_count": 19,
   "metadata": {
    "scrolled": true
   },
   "outputs": [
    {
     "name": "stdout",
     "output_type": "stream",
     "text": [
      "Coefficients: \n",
      " [3341.7323215   269.55823782 1890.81800732  684.45621887 9286.24330177\n",
      " -418.21160592]\n",
      "Variance score: 0.7634758977076318\n"
     ]
    },
    {
     "data": {
      "image/png": "[encoded data removed]",
      "text/plain": [
       "<Figure size 432x288 with 1 Axes>"
      ]
     },
     "metadata": {},
     "output_type": "display_data"
    }
   ],
   "source": [
    "\n",
    "# regression coefficients \n",
    "print('Coefficients: \\n', reg.coef_) \n",
    "\n",
    "# variance score: 1 means perfect prediction \n",
    "print('Variance score: {}'.format(reg.score(X_test, y_test))) \n",
    "\n",
    "# plot for residual error \n",
    "\n",
    "## setting plot style \n",
    "plt.style.use('fivethirtyeight') \n",
    "\n",
    "## plotting residual errors in training data \n",
    "plt.scatter(reg.predict(X_train), reg.predict(X_train) - y_train, \n",
    "\t\t\tcolor = \"green\", s = 10, label = 'Train data') \n",
    "\n",
    "## plotting residual errors in test data \n",
    "plt.scatter(reg.predict(X_test), reg.predict(X_test) - y_test, \n",
    "\t\t\tcolor = \"blue\", s = 10, label = 'Test data') \n",
    "\n",
    "## plotting line for zero residual error \n",
    "plt.hlines(y = 0, xmin = 0, xmax = 50, linewidth = 2) \n",
    "\n",
    "## plotting legend \n",
    "plt.legend(loc = 'upper right') \n",
    "\n",
    "## plot title \n",
    "plt.title(\"Residual errors\") \n",
    "\n",
    "## function to show plot \n",
    "plt.show() \n"
   ]
  },
  {
   "cell_type": "code",
   "execution_count": null,
   "metadata": {},
   "outputs": [],
   "source": [
    "\n"
   ]
  },
  {
   "cell_type": "code",
   "execution_count": 20,
   "metadata": {},
   "outputs": [
    {
     "data": {
      "text/plain": [
       "0.80092457019967"
      ]
     },
     "execution_count": 20,
     "metadata": {},
     "output_type": "execute_result"
    }
   ],
   "source": [
    "X_train, X_test, y_train, y_test = train_test_split(trainX, train_Y, test_size=0.4, \n",
    "                                                    random_state=125)\n",
    "reg.fit(X_train, y_train)\n",
    "predict2 = reg.predict(testX)\n",
    "r2_score(test_Y,predict2) "
   ]
  },
  {
   "cell_type": "code",
   "execution_count": 21,
   "metadata": {},
   "outputs": [
    {
     "data": {
      "text/plain": [
       "0.7912535105481838"
      ]
     },
     "execution_count": 21,
     "metadata": {},
     "output_type": "execute_result"
    }
   ],
   "source": [
    "X_train, X_test, y_train, y_test = train_test_split(trainX, train_Y, test_size=0.4, \n",
    "                                                    random_state=205)\n",
    "reg.fit(X_train, y_train)\n",
    "predict3 = reg.predict(testX)\n",
    "r2_score(test_Y,predict3) "
   ]
  },
  {
   "cell_type": "code",
   "execution_count": 22,
   "metadata": {},
   "outputs": [
    {
     "data": {
      "text/plain": [
       "0.8050739528904581"
      ]
     },
     "execution_count": 22,
     "metadata": {},
     "output_type": "execute_result"
    }
   ],
   "source": [
    "X_train, X_test, y_train, y_test = train_test_split(trainX, train_Y, test_size=0.4, \n",
    "                                                    random_state=4050)\n",
    "reg.fit(X_train, y_train)\n",
    "predict4 = reg.predict(testX)\n",
    "r2_score(test_Y,predict4) "
   ]
  },
  {
   "cell_type": "code",
   "execution_count": 23,
   "metadata": {},
   "outputs": [
    {
     "data": {
      "text/plain": [
       "0.7980626064408547"
      ]
     },
     "execution_count": 23,
     "metadata": {},
     "output_type": "execute_result"
    }
   ],
   "source": [
    "X_train, X_test, y_train, y_test = train_test_split(trainX, train_Y, test_size=0.4, \n",
    "                                                    random_state=900)\n",
    "reg.fit(X_train, y_train)\n",
    "predict5 = reg.predict(testX)\n",
    "r2_score(test_Y,predict5) "
   ]
  },
  {
   "cell_type": "code",
   "execution_count": 24,
   "metadata": {},
   "outputs": [
    {
     "data": {
      "text/plain": [
       "0.8036124490721532"
      ]
     },
     "execution_count": 24,
     "metadata": {},
     "output_type": "execute_result"
    }
   ],
   "source": [
    "X_train, X_test, y_train, y_test = train_test_split(trainX, train_Y, test_size=0.4, \n",
    "                                                    random_state=800)\n",
    "reg.fit(X_train, y_train)\n",
    "predict6 = reg.predict(testX)\n",
    "r2_score(test_Y,predict6) "
   ]
  },
  {
   "cell_type": "code",
   "execution_count": 25,
   "metadata": {},
   "outputs": [
    {
     "data": {
      "text/plain": [
       "0.8036085570964209"
      ]
     },
     "execution_count": 25,
     "metadata": {},
     "output_type": "execute_result"
    }
   ],
   "source": [
    "X_train, X_test, y_train, y_test = train_test_split(trainX, train_Y, test_size=0.4, \n",
    "                                                    random_state=220)\n",
    "reg.fit(X_train, y_train)\n",
    "predict7 = reg.predict(testX)\n",
    "r2_score(test_Y,predict7) "
   ]
  },
  {
   "cell_type": "code",
   "execution_count": 26,
   "metadata": {},
   "outputs": [
    {
     "data": {
      "text/plain": [
       "0.8045161515935254"
      ]
     },
     "execution_count": 26,
     "metadata": {},
     "output_type": "execute_result"
    }
   ],
   "source": [
    "X_train, X_test, y_train, y_test = train_test_split(trainX, train_Y, test_size=0.4, \n",
    "                                                    random_state=200)\n",
    "reg.fit(X_train, y_train)\n",
    "predict8 = reg.predict(testX)\n",
    "r2_score(test_Y,predict8) "
   ]
  },
  {
   "cell_type": "code",
   "execution_count": 27,
   "metadata": {},
   "outputs": [
    {
     "data": {
      "text/plain": [
       "0.796003185714206"
      ]
     },
     "execution_count": 27,
     "metadata": {},
     "output_type": "execute_result"
    }
   ],
   "source": [
    "X_train, X_test, y_train, y_test = train_test_split(trainX, train_Y, test_size=0.4, \n",
    "                                                    random_state=115)\n",
    "reg.fit(X_train, y_train)\n",
    "predict9 = reg.predict(testX)\n",
    "r2_score(test_Y,predict9)"
   ]
  },
  {
   "cell_type": "code",
   "execution_count": 28,
   "metadata": {},
   "outputs": [
    {
     "data": {
      "text/plain": [
       "0.8000541304483172"
      ]
     },
     "execution_count": 28,
     "metadata": {},
     "output_type": "execute_result"
    }
   ],
   "source": [
    "X_train, X_test, y_train, y_test = train_test_split(trainX, train_Y, test_size=0.4, \n",
    "                                                    random_state=100)\n",
    "reg.fit(X_train, y_train)\n",
    "predict10 = reg.predict(testX)\n",
    "r2_score(test_Y,predict10) "
   ]
  },
  {
   "cell_type": "code",
   "execution_count": 29,
   "metadata": {},
   "outputs": [],
   "source": [
    "d = {'predict1':predict1,'predict2':predict2,'predict3':predict3,'predict4':predict4,'predict5':predict5,'predict6':predict6,'predict7':predict7,'predict8':predict8,'predict9':predict9,'predict10':predict10}\n",
    "predict = pd.DataFrame(d)"
   ]
  },
  {
   "cell_type": "code",
   "execution_count": 30,
   "metadata": {},
   "outputs": [
    {
     "data": {
      "text/html": [
       "<div>\n",
       "<style scoped>\n",
       "    .dataframe tbody tr th:only-of-type {\n",
       "        vertical-align: middle;\n",
       "    }\n",
       "\n",
       "    .dataframe tbody tr th {\n",
       "        vertical-align: top;\n",
       "    }\n",
       "\n",
       "    .dataframe thead th {\n",
       "        text-align: right;\n",
       "    }\n",
       "</style>\n",
       "<table border=\"1\" class=\"dataframe\">\n",
       "  <thead>\n",
       "    <tr style=\"text-align: right;\">\n",
       "      <th></th>\n",
       "      <th>charges</th>\n",
       "    </tr>\n",
       "  </thead>\n",
       "  <tbody>\n",
       "    <tr>\n",
       "      <th>0</th>\n",
       "      <td>8551.34700</td>\n",
       "    </tr>\n",
       "    <tr>\n",
       "      <th>1</th>\n",
       "      <td>8116.68000</td>\n",
       "    </tr>\n",
       "    <tr>\n",
       "      <th>2</th>\n",
       "      <td>5729.00530</td>\n",
       "    </tr>\n",
       "    <tr>\n",
       "      <th>3</th>\n",
       "      <td>6796.86325</td>\n",
       "    </tr>\n",
       "    <tr>\n",
       "      <th>4</th>\n",
       "      <td>19442.35350</td>\n",
       "    </tr>\n",
       "  </tbody>\n",
       "</table>\n",
       "</div>"
      ],
      "text/plain": [
       "       charges\n",
       "0   8551.34700\n",
       "1   8116.68000\n",
       "2   5729.00530\n",
       "3   6796.86325\n",
       "4  19442.35350"
      ]
     },
     "execution_count": 30,
     "metadata": {},
     "output_type": "execute_result"
    }
   ],
   "source": [
    "testY = test_Y.to_frame()\n",
    "testY = testY.reset_index()\n",
    "testY = testY.drop('index',axis = 1)\n",
    "testY.head()"
   ]
  },
  {
   "cell_type": "code",
   "execution_count": 31,
   "metadata": {},
   "outputs": [],
   "source": [
    "avg_pred = predict.mean(axis = 1)\n",
    "variance = predict.var(axis = 1)\n",
    "predict['Avg_pred'] = avg_pred\n",
    "predict['Variance'] = variance * .9\n",
    "predict['actual'] = testY['charges']"
   ]
  },
  {
   "cell_type": "code",
   "execution_count": 32,
   "metadata": {},
   "outputs": [],
   "source": [
    "predict['Error'] = (predict['predict1'] - predict['actual']) ** 2 + \\\n",
    "                     (predict['predict2'] - predict['actual']) ** 2 + \\\n",
    "                     (predict['predict3'] - predict['actual']) ** 2 + \\\n",
    "                     (predict['predict4'] - predict['actual']) ** 2 + \\\n",
    "                     (predict['predict5'] - predict['actual']) ** 2 + \\\n",
    "                     (predict['predict6'] - predict['actual']) ** 2 + \\\n",
    "                     (predict['predict7'] - predict['actual']) ** 2 + \\\n",
    "                     (predict['predict8'] - predict['actual']) ** 2 + \\\n",
    "                    (predict['predict9'] - predict['actual']) ** 2 + \\\n",
    "                    (predict['predict10'] - predict['actual']) ** 2 \n",
    "predict['Error'] = predict['Error'] / 10 "
   ]
  },
  {
   "cell_type": "code",
   "execution_count": 33,
   "metadata": {},
   "outputs": [
    {
     "data": {
      "text/plain": [
       "<matplotlib.axes._subplots.AxesSubplot at 0x1dee11f9d68>"
      ]
     },
     "execution_count": 33,
     "metadata": {},
     "output_type": "execute_result"
    },
    {
     "data": {
      "image/png": "[encoded data removed]",
      "text/plain": [
       "<Figure size 432x288 with 1 Axes>"
      ]
     },
     "metadata": {},
     "output_type": "display_data"
    }
   ],
   "source": [
    "sns.swarmplot(x='Variance',y='Error',data=predict)"
   ]
  },
  {
   "cell_type": "code",
   "execution_count": 34,
   "metadata": {},
   "outputs": [
    {
     "data": {
      "text/html": [
       "<div>\n",
       "<style scoped>\n",
       "    .dataframe tbody tr th:only-of-type {\n",
       "        vertical-align: middle;\n",
       "    }\n",
       "\n",
       "    .dataframe tbody tr th {\n",
       "        vertical-align: top;\n",
       "    }\n",
       "\n",
       "    .dataframe thead th {\n",
       "        text-align: right;\n",
       "    }\n",
       "</style>\n",
       "<table border=\"1\" class=\"dataframe\">\n",
       "  <thead>\n",
       "    <tr style=\"text-align: right;\">\n",
       "      <th></th>\n",
       "      <th>predict1</th>\n",
       "      <th>predict2</th>\n",
       "      <th>predict3</th>\n",
       "      <th>predict4</th>\n",
       "      <th>predict5</th>\n",
       "      <th>predict6</th>\n",
       "      <th>predict7</th>\n",
       "      <th>predict8</th>\n",
       "      <th>predict9</th>\n",
       "      <th>predict10</th>\n",
       "      <th>Avg_pred</th>\n",
       "      <th>Variance</th>\n",
       "      <th>actual</th>\n",
       "      <th>Error</th>\n",
       "    </tr>\n",
       "  </thead>\n",
       "  <tbody>\n",
       "    <tr>\n",
       "      <th>0</th>\n",
       "      <td>9740.674355</td>\n",
       "      <td>10451.698161</td>\n",
       "      <td>10412.049221</td>\n",
       "      <td>10038.728842</td>\n",
       "      <td>10381.042551</td>\n",
       "      <td>10195.426612</td>\n",
       "      <td>9870.243377</td>\n",
       "      <td>10546.664146</td>\n",
       "      <td>10455.677681</td>\n",
       "      <td>10537.677693</td>\n",
       "      <td>10262.988264</td>\n",
       "      <td>74674.013882</td>\n",
       "      <td>8551.34700</td>\n",
       "      <td>3.004390e+06</td>\n",
       "    </tr>\n",
       "    <tr>\n",
       "      <th>1</th>\n",
       "      <td>9684.549034</td>\n",
       "      <td>9403.965834</td>\n",
       "      <td>9262.600871</td>\n",
       "      <td>9290.588879</td>\n",
       "      <td>9159.914657</td>\n",
       "      <td>9456.201240</td>\n",
       "      <td>9340.451527</td>\n",
       "      <td>9704.540424</td>\n",
       "      <td>9709.782112</td>\n",
       "      <td>9729.151978</td>\n",
       "      <td>9474.174656</td>\n",
       "      <td>41821.082349</td>\n",
       "      <td>8116.68000</td>\n",
       "      <td>1.884613e+06</td>\n",
       "    </tr>\n",
       "    <tr>\n",
       "      <th>2</th>\n",
       "      <td>9554.370560</td>\n",
       "      <td>9171.780032</td>\n",
       "      <td>9397.022265</td>\n",
       "      <td>9236.389452</td>\n",
       "      <td>9648.565290</td>\n",
       "      <td>8826.965883</td>\n",
       "      <td>9807.702644</td>\n",
       "      <td>9261.757973</td>\n",
       "      <td>9126.662789</td>\n",
       "      <td>8681.873381</td>\n",
       "      <td>9271.309027</td>\n",
       "      <td>110298.241463</td>\n",
       "      <td>5729.00530</td>\n",
       "      <td>1.265821e+07</td>\n",
       "    </tr>\n",
       "    <tr>\n",
       "      <th>3</th>\n",
       "      <td>9413.227319</td>\n",
       "      <td>8762.067589</td>\n",
       "      <td>9246.798903</td>\n",
       "      <td>8973.321569</td>\n",
       "      <td>9282.173523</td>\n",
       "      <td>8668.971322</td>\n",
       "      <td>9528.037170</td>\n",
       "      <td>8870.923965</td>\n",
       "      <td>9088.613862</td>\n",
       "      <td>8361.703361</td>\n",
       "      <td>9019.583858</td>\n",
       "      <td>118511.558601</td>\n",
       "      <td>6796.86325</td>\n",
       "      <td>5.058998e+06</td>\n",
       "    </tr>\n",
       "    <tr>\n",
       "      <th>4</th>\n",
       "      <td>7677.880984</td>\n",
       "      <td>7159.621673</td>\n",
       "      <td>7372.596248</td>\n",
       "      <td>7308.388757</td>\n",
       "      <td>7531.992475</td>\n",
       "      <td>6773.051912</td>\n",
       "      <td>7701.089536</td>\n",
       "      <td>7165.665727</td>\n",
       "      <td>7215.872592</td>\n",
       "      <td>6717.131053</td>\n",
       "      <td>7262.329096</td>\n",
       "      <td>101087.666871</td>\n",
       "      <td>19442.35350</td>\n",
       "      <td>1.484541e+08</td>\n",
       "    </tr>\n",
       "  </tbody>\n",
       "</table>\n",
       "</div>"
      ],
      "text/plain": [
       "      predict1      predict2      predict3      predict4      predict5  \\\n",
       "0  9740.674355  10451.698161  10412.049221  10038.728842  10381.042551   \n",
       "1  9684.549034   9403.965834   9262.600871   9290.588879   9159.914657   \n",
       "2  9554.370560   9171.780032   9397.022265   9236.389452   9648.565290   \n",
       "3  9413.227319   8762.067589   9246.798903   8973.321569   9282.173523   \n",
       "4  7677.880984   7159.621673   7372.596248   7308.388757   7531.992475   \n",
       "\n",
       "       predict6     predict7      predict8      predict9     predict10  \\\n",
       "0  10195.426612  9870.243377  10546.664146  10455.677681  10537.677693   \n",
       "1   9456.201240  9340.451527   9704.540424   9709.782112   9729.151978   \n",
       "2   8826.965883  9807.702644   9261.757973   9126.662789   8681.873381   \n",
       "3   8668.971322  9528.037170   8870.923965   9088.613862   8361.703361   \n",
       "4   6773.051912  7701.089536   7165.665727   7215.872592   6717.131053   \n",
       "\n",
       "       Avg_pred       Variance       actual         Error  \n",
       "0  10262.988264   74674.013882   8551.34700  3.004390e+06  \n",
       "1   9474.174656   41821.082349   8116.68000  1.884613e+06  \n",
       "2   9271.309027  110298.241463   5729.00530  1.265821e+07  \n",
       "3   9019.583858  118511.558601   6796.86325  5.058998e+06  \n",
       "4   7262.329096  101087.666871  19442.35350  1.484541e+08  "
      ]
     },
     "execution_count": 34,
     "metadata": {},
     "output_type": "execute_result"
    }
   ],
   "source": [
    "linear_reg_predict = predict\n",
    "linear_reg_predict.head()"
   ]
  },
  {
   "cell_type": "code",
   "execution_count": 35,
   "metadata": {},
   "outputs": [],
   "source": [
    "ML_Regr_bias_var_err = pd.DataFrame()\n",
    "Knn_Regr_bias_var_err = pd.DataFrame()\n",
    "DT_Regr_bias_var_err = pd.DataFrame()\n",
    "RF_Regr_bias_var_err = pd.DataFrame()\n",
    "SVM_Regr_bias_var_err = pd.DataFrame()"
   ]
  },
  {
   "cell_type": "code",
   "execution_count": 53,
   "metadata": {},
   "outputs": [],
   "source": [
    "from sklearn import linear_model\n",
    "from sklearn.metrics import r2_score\n",
    "\n",
    "def test_pred_ML_Regr(X_train, y_train):\n",
    "    regr = linear_model.LinearRegression()\n",
    "    regr_model = regr.fit(X_train, y_train)\n",
    "    pred = regr_model.predict(testX)\n",
    "    print(\"r2_score:\",r2_score(test_Y,pred))\n",
    "    return pred"
   ]
  },
  {
   "cell_type": "code",
   "execution_count": 36,
   "metadata": {},
   "outputs": [],
   "source": [
    "from sklearn.neighbors import KNeighborsRegressor\n",
    "from sklearn import neighbors\n",
    "from sklearn.metrics import mean_squared_error \n",
    "from math import sqrt"
   ]
  },
  {
   "cell_type": "code",
   "execution_count": 37,
   "metadata": {},
   "outputs": [
    {
     "name": "stdout",
     "output_type": "stream",
     "text": [
      "RMSE value for k=  1 is: 6504.6678222325045\n",
      "RMSE value for k=  2 is: 6001.267603526325\n",
      "RMSE value for k=  3 is: 5606.578609658901\n",
      "RMSE value for k=  4 is: 5271.022788860573\n",
      "RMSE value for k=  5 is: 5137.406424148874\n",
      "RMSE value for k=  6 is: 5115.061095539178\n",
      "RMSE value for k=  7 is: 5237.4835434012975\n",
      "RMSE value for k=  8 is: 5256.206311186973\n",
      "RMSE value for k=  9 is: 5312.846777685887\n",
      "RMSE value for k=  10 is: 5380.946547322591\n",
      "RMSE value for k=  11 is: 5324.078718700831\n",
      "RMSE value for k=  12 is: 5330.081924227667\n",
      "RMSE value for k=  13 is: 5407.934138813951\n",
      "RMSE value for k=  14 is: 5502.442755654215\n",
      "RMSE value for k=  15 is: 5492.731066129431\n",
      "RMSE value for k=  16 is: 5499.353411286656\n",
      "RMSE value for k=  17 is: 5425.270360342664\n",
      "RMSE value for k=  18 is: 5421.038710082257\n",
      "RMSE value for k=  19 is: 5451.842650261412\n",
      "RMSE value for k=  20 is: 5479.1676951127765\n"
     ]
    }
   ],
   "source": [
    "rmse_val = [] #to store rmse values for different k\n",
    "for K in range(20):\n",
    "    K = K+1\n",
    "    model = neighbors.KNeighborsRegressor(n_neighbors = K)\n",
    "    x_train, x_test, y_train, y_test = train_test_split(trainX, train_Y, test_size=0.4, random_state = 123)\n",
    "    knn_model = model.fit(x_train, y_train)  #fit the model\n",
    "    pred=knn_model.predict(testX) #make prediction on test set\n",
    "    error = sqrt(mean_squared_error(test_Y,pred)) #calculate rmse\n",
    "    rmse_val.append(error) #store rmse values\n",
    "    print('RMSE value for k= ' , K , 'is:', error)"
   ]
  },
  {
   "cell_type": "code",
   "execution_count": 38,
   "metadata": {},
   "outputs": [],
   "source": [
    "def test_pred_Knn_Regr(X_train, y_train):\n",
    "    knn = neighbors.KNeighborsRegressor(n_neighbors = 6)\n",
    "    knn_model = knn.fit(X_train, y_train)\n",
    "    pred = knn_model.predict(testX)\n",
    "    print(\"r2_score:\",r2_score(test_Y,pred))\n",
    "    return pred"
   ]
  },
  {
   "cell_type": "code",
   "execution_count": 39,
   "metadata": {},
   "outputs": [],
   "source": [
    "from sklearn.tree import DecisionTreeRegressor\n",
    "Dt_regr = DecisionTreeRegressor(max_depth=5)\n",
    "\n",
    "def test_pred_DT_Regr(X_train, y_train):\n",
    "    Dt_regr_model = Dt_regr.fit(X_train, y_train)\n",
    "    pred = Dt_regr_model.predict(testX)\n",
    "    print(\"r2_score:\",r2_score(test_Y,pred))\n",
    "    return pred"
   ]
  },
  {
   "cell_type": "code",
   "execution_count": 40,
   "metadata": {},
   "outputs": [],
   "source": [
    "from sklearn.ensemble import RandomForestRegressor\n",
    "from sklearn.datasets import make_regression\n",
    "\n",
    "def test_pred_RF_Regr(X_train, y_train):\n",
    "    RF_regr = RandomForestRegressor(max_depth=2, random_state=0, n_estimators=100)\n",
    "    RF_regr_model = RF_regr.fit(X_train, y_train)\n",
    "    pred = RF_regr_model.predict(testX)\n",
    "    print(\"r2_score:\",r2_score(test_Y,pred))\n",
    "    return pred"
   ]
  },
  {
   "cell_type": "code",
   "execution_count": 41,
   "metadata": {},
   "outputs": [],
   "source": [
    "from sklearn.svm import SVR\n",
    "\n",
    "def test_pred_SVM_Regr(X_train, y_train):\n",
    "    SVM_regr = SVR()\n",
    "    SVM_regr_model = SVM_regr.fit(X_train, y_train)\n",
    "    pred = SVM_regr_model.predict(testX)\n",
    "    print(\"r2_score:\",r2_score(test_Y,pred))\n",
    "    return pred"
   ]
  },
  {
   "cell_type": "code",
   "execution_count": 42,
   "metadata": {},
   "outputs": [],
   "source": [
    "def sample_predict_target():\n",
    "    randm_state = 300\n",
    "    for index in range(1,11):\n",
    "        #print(\"index:\",index)\n",
    "        col = \"predict\" + str(index)\n",
    "        print(\"column:\",col)\n",
    "        X_train, t_x, y_train, t_Y = train_test_split(trainX, train_Y, test_size=0.4, random_state= randm_state+index)\n",
    "        Knn_Regr_bias_var_err[col] =test_pred_Knn_Regr(X_train, y_train)\n",
    "        DT_Regr_bias_var_err[col] =test_pred_DT_Regr(X_train, y_train)\n",
    "        RF_Regr_bias_var_err[col] =test_pred_RF_Regr(X_train, y_train)\n",
    "        SVM_Regr_bias_var_err[col] =test_pred_SVM_Regr(X_train, y_train)\n",
    "        \n",
    "    return"
   ]
  },
  {
   "cell_type": "code",
   "execution_count": 43,
   "metadata": {},
   "outputs": [],
   "source": [
    "def calc_bias_var_err(predict):\n",
    "    #print(\"inside: calc_bias_var_err\")\n",
    "    avg_pred = predict.mean(axis = 1)\n",
    "    variance = predict.var(axis = 1)\n",
    "    predict['avg_pred'] = avg_pred\n",
    "    predict['variance'] = variance * .9\n",
    "    predict['actual'] = testY['charges']\n",
    "    #print(\"inside1: calc_bias_var_err\")\n",
    "    predict['bias'] = (predict['avg_pred'] - predict['actual']) ** 2\n",
    "    print(\"inside2: calc_bias_var_err\")\n",
    "    predict['error'] = (predict['predict1'] - predict['actual']) ** 2 + \\\n",
    "                     (predict['predict2'] - predict['actual']) ** 2 + \\\n",
    "                     (predict['predict3'] - predict['actual']) ** 2 + \\\n",
    "                     (predict['predict4'] - predict['actual']) ** 2 + \\\n",
    "                     (predict['predict5'] - predict['actual']) ** 2 + \\\n",
    "                     (predict['predict6'] - predict['actual']) ** 2 + \\\n",
    "                     (predict['predict7'] - predict['actual']) ** 2 + \\\n",
    "                     (predict['predict8'] - predict['actual']) ** 2 + \\\n",
    "                    (predict['predict9'] - predict['actual']) ** 2 + \\\n",
    "                    (predict['predict10'] - predict['actual']) ** 2 \n",
    "    print(\"inside3: calc_bias_var_err\")\n",
    "    predict['error'] = predict['error'] / 10 \n",
    "    print(\"returning from: calc_bias_var_err\")\n",
    "    return predict"
   ]
  },
  {
   "cell_type": "code",
   "execution_count": 44,
   "metadata": {},
   "outputs": [
    {
     "name": "stdout",
     "output_type": "stream",
     "text": [
      "r2_score: -0.10326684291587163\n"
     ]
    },
    {
     "data": {
      "text/html": [
       "<div>\n",
       "<style scoped>\n",
       "    .dataframe tbody tr th:only-of-type {\n",
       "        vertical-align: middle;\n",
       "    }\n",
       "\n",
       "    .dataframe tbody tr th {\n",
       "        vertical-align: top;\n",
       "    }\n",
       "\n",
       "    .dataframe thead th {\n",
       "        text-align: right;\n",
       "    }\n",
       "</style>\n",
       "<table border=\"1\" class=\"dataframe\">\n",
       "  <thead>\n",
       "    <tr style=\"text-align: right;\">\n",
       "      <th></th>\n",
       "      <th>0</th>\n",
       "    </tr>\n",
       "  </thead>\n",
       "  <tbody>\n",
       "    <tr>\n",
       "      <th>0</th>\n",
       "      <td>8419.204283</td>\n",
       "    </tr>\n",
       "    <tr>\n",
       "      <th>1</th>\n",
       "      <td>8613.220233</td>\n",
       "    </tr>\n",
       "    <tr>\n",
       "      <th>2</th>\n",
       "      <td>16273.261808</td>\n",
       "    </tr>\n",
       "    <tr>\n",
       "      <th>3</th>\n",
       "      <td>5906.020900</td>\n",
       "    </tr>\n",
       "    <tr>\n",
       "      <th>4</th>\n",
       "      <td>17182.891783</td>\n",
       "    </tr>\n",
       "  </tbody>\n",
       "</table>\n",
       "</div>"
      ],
      "text/plain": [
       "              0\n",
       "0   8419.204283\n",
       "1   8613.220233\n",
       "2  16273.261808\n",
       "3   5906.020900\n",
       "4  17182.891783"
      ]
     },
     "execution_count": 44,
     "metadata": {},
     "output_type": "execute_result"
    }
   ],
   "source": [
    "test_pred_Knn_Regr_arry=test_pred_Knn_Regr(X_train, y_train)\n",
    "test_pred_Knn_Regr_arry= pd.DataFrame(test_pred_Knn_Regr_arry)\n",
    "test_pred_Knn_Regr_arry.head()"
   ]
  },
  {
   "cell_type": "code",
   "execution_count": 45,
   "metadata": {
    "scrolled": true
   },
   "outputs": [
    {
     "name": "stdout",
     "output_type": "stream",
     "text": [
      "column: predict1\n",
      "r2_score: 0.8316624982397944\n",
      "r2_score: 0.8770644347345666\n",
      "r2_score: 0.8644585825682671\n",
      "r2_score: -0.16522273625085804\n",
      "column: predict2\n",
      "r2_score: 0.825303164705908\n",
      "r2_score: 0.8743147548239943\n"
     ]
    },
    {
     "name": "stderr",
     "output_type": "stream",
     "text": [
      "C:\\Annaconda\\lib\\site-packages\\sklearn\\svm\\base.py:196: FutureWarning: The default value of gamma will change from 'auto' to 'scale' in version 0.22 to account better for unscaled features. Set gamma explicitly to 'auto' or 'scale' to avoid this warning.\n",
      "  \"avoid this warning.\", FutureWarning)\n"
     ]
    },
    {
     "name": "stdout",
     "output_type": "stream",
     "text": [
      "r2_score: 0.867641786860968\n",
      "r2_score: -0.18629657149909917\n",
      "column: predict3\n",
      "r2_score: 0.8124602865363506\n"
     ]
    },
    {
     "name": "stderr",
     "output_type": "stream",
     "text": [
      "C:\\Annaconda\\lib\\site-packages\\sklearn\\svm\\base.py:196: FutureWarning: The default value of gamma will change from 'auto' to 'scale' in version 0.22 to account better for unscaled features. Set gamma explicitly to 'auto' or 'scale' to avoid this warning.\n",
      "  \"avoid this warning.\", FutureWarning)\n"
     ]
    },
    {
     "name": "stdout",
     "output_type": "stream",
     "text": [
      "r2_score: 0.8889616770035799\n",
      "r2_score: 0.8701166952816757\n",
      "r2_score: -0.21287315856026856\n",
      "column: predict4\n",
      "r2_score: 0.8370420886065291\n",
      "r2_score: 0.875843815104735\n"
     ]
    },
    {
     "name": "stderr",
     "output_type": "stream",
     "text": [
      "C:\\Annaconda\\lib\\site-packages\\sklearn\\svm\\base.py:196: FutureWarning: The default value of gamma will change from 'auto' to 'scale' in version 0.22 to account better for unscaled features. Set gamma explicitly to 'auto' or 'scale' to avoid this warning.\n",
      "  \"avoid this warning.\", FutureWarning)\n"
     ]
    },
    {
     "name": "stdout",
     "output_type": "stream",
     "text": [
      "r2_score: 0.8660173209269374\n",
      "r2_score: -0.18966933962788857\n",
      "column: predict5\n",
      "r2_score: 0.8251648949054351\n",
      "r2_score: 0.8776185112948036\n"
     ]
    },
    {
     "name": "stderr",
     "output_type": "stream",
     "text": [
      "C:\\Annaconda\\lib\\site-packages\\sklearn\\svm\\base.py:196: FutureWarning: The default value of gamma will change from 'auto' to 'scale' in version 0.22 to account better for unscaled features. Set gamma explicitly to 'auto' or 'scale' to avoid this warning.\n",
      "  \"avoid this warning.\", FutureWarning)\n"
     ]
    },
    {
     "name": "stdout",
     "output_type": "stream",
     "text": [
      "r2_score: 0.8637017784126836\n",
      "r2_score: -0.2171169896018601\n",
      "column: predict6\n",
      "r2_score: 0.8340339882552961\n"
     ]
    },
    {
     "name": "stderr",
     "output_type": "stream",
     "text": [
      "C:\\Annaconda\\lib\\site-packages\\sklearn\\svm\\base.py:196: FutureWarning: The default value of gamma will change from 'auto' to 'scale' in version 0.22 to account better for unscaled features. Set gamma explicitly to 'auto' or 'scale' to avoid this warning.\n",
      "  \"avoid this warning.\", FutureWarning)\n"
     ]
    },
    {
     "name": "stdout",
     "output_type": "stream",
     "text": [
      "r2_score: 0.8589854344331569\n",
      "r2_score: 0.8660614234202388\n",
      "r2_score: -0.17153314953264265\n",
      "column: predict7\n",
      "r2_score: 0.8239449001289517\n",
      "r2_score: 0.8773747442044951\n"
     ]
    },
    {
     "name": "stderr",
     "output_type": "stream",
     "text": [
      "C:\\Annaconda\\lib\\site-packages\\sklearn\\svm\\base.py:196: FutureWarning: The default value of gamma will change from 'auto' to 'scale' in version 0.22 to account better for unscaled features. Set gamma explicitly to 'auto' or 'scale' to avoid this warning.\n",
      "  \"avoid this warning.\", FutureWarning)\n"
     ]
    },
    {
     "name": "stdout",
     "output_type": "stream",
     "text": [
      "r2_score: 0.8663790687924381\n",
      "r2_score: -0.17426944438603797\n",
      "column: predict8\n",
      "r2_score: 0.8323012946268022\n",
      "r2_score: 0.8685974720490708\n"
     ]
    },
    {
     "name": "stderr",
     "output_type": "stream",
     "text": [
      "C:\\Annaconda\\lib\\site-packages\\sklearn\\svm\\base.py:196: FutureWarning: The default value of gamma will change from 'auto' to 'scale' in version 0.22 to account better for unscaled features. Set gamma explicitly to 'auto' or 'scale' to avoid this warning.\n",
      "  \"avoid this warning.\", FutureWarning)\n"
     ]
    },
    {
     "name": "stdout",
     "output_type": "stream",
     "text": [
      "r2_score: 0.86687410294999\n",
      "r2_score: -0.2002411036717835\n",
      "column: predict9\n",
      "r2_score: 0.8326530368882639\n",
      "r2_score: 0.8660593622855748\n"
     ]
    },
    {
     "name": "stderr",
     "output_type": "stream",
     "text": [
      "C:\\Annaconda\\lib\\site-packages\\sklearn\\svm\\base.py:196: FutureWarning: The default value of gamma will change from 'auto' to 'scale' in version 0.22 to account better for unscaled features. Set gamma explicitly to 'auto' or 'scale' to avoid this warning.\n",
      "  \"avoid this warning.\", FutureWarning)\n"
     ]
    },
    {
     "name": "stdout",
     "output_type": "stream",
     "text": [
      "r2_score: 0.8649108743222614\n",
      "r2_score: -0.17809496655955526\n",
      "column: predict10\n",
      "r2_score: 0.8271978173999637\n",
      "r2_score: 0.8600929757983251\n"
     ]
    },
    {
     "name": "stderr",
     "output_type": "stream",
     "text": [
      "C:\\Annaconda\\lib\\site-packages\\sklearn\\svm\\base.py:196: FutureWarning: The default value of gamma will change from 'auto' to 'scale' in version 0.22 to account better for unscaled features. Set gamma explicitly to 'auto' or 'scale' to avoid this warning.\n",
      "  \"avoid this warning.\", FutureWarning)\n"
     ]
    },
    {
     "name": "stdout",
     "output_type": "stream",
     "text": [
      "r2_score: 0.8646626649768587\n",
      "r2_score: -0.18403570369496491\n"
     ]
    },
    {
     "name": "stderr",
     "output_type": "stream",
     "text": [
      "C:\\Annaconda\\lib\\site-packages\\sklearn\\svm\\base.py:196: FutureWarning: The default value of gamma will change from 'auto' to 'scale' in version 0.22 to account better for unscaled features. Set gamma explicitly to 'auto' or 'scale' to avoid this warning.\n",
      "  \"avoid this warning.\", FutureWarning)\n"
     ]
    }
   ],
   "source": [
    "sample_predict_target()"
   ]
  },
  {
   "cell_type": "code",
   "execution_count": 46,
   "metadata": {},
   "outputs": [
    {
     "data": {
      "text/html": [
       "<div>\n",
       "<style scoped>\n",
       "    .dataframe tbody tr th:only-of-type {\n",
       "        vertical-align: middle;\n",
       "    }\n",
       "\n",
       "    .dataframe tbody tr th {\n",
       "        vertical-align: top;\n",
       "    }\n",
       "\n",
       "    .dataframe thead th {\n",
       "        text-align: right;\n",
       "    }\n",
       "</style>\n",
       "<table border=\"1\" class=\"dataframe\">\n",
       "  <thead>\n",
       "    <tr style=\"text-align: right;\">\n",
       "      <th></th>\n",
       "      <th>predict1</th>\n",
       "      <th>predict2</th>\n",
       "      <th>predict3</th>\n",
       "      <th>predict4</th>\n",
       "      <th>predict5</th>\n",
       "      <th>predict6</th>\n",
       "      <th>predict7</th>\n",
       "      <th>predict8</th>\n",
       "      <th>predict9</th>\n",
       "      <th>predict10</th>\n",
       "    </tr>\n",
       "  </thead>\n",
       "  <tbody>\n",
       "    <tr>\n",
       "      <th>0</th>\n",
       "      <td>10800.734217</td>\n",
       "      <td>11462.565050</td>\n",
       "      <td>7680.770167</td>\n",
       "      <td>11506.650217</td>\n",
       "      <td>7206.928833</td>\n",
       "      <td>11128.789550</td>\n",
       "      <td>7524.677667</td>\n",
       "      <td>8194.703000</td>\n",
       "      <td>7917.416333</td>\n",
       "      <td>11244.864550</td>\n",
       "    </tr>\n",
       "    <tr>\n",
       "      <th>1</th>\n",
       "      <td>11951.194210</td>\n",
       "      <td>11778.527377</td>\n",
       "      <td>10518.364108</td>\n",
       "      <td>11738.616710</td>\n",
       "      <td>12142.356877</td>\n",
       "      <td>11778.527377</td>\n",
       "      <td>11581.606543</td>\n",
       "      <td>13583.386485</td>\n",
       "      <td>11509.404377</td>\n",
       "      <td>10782.686210</td>\n",
       "    </tr>\n",
       "    <tr>\n",
       "      <th>2</th>\n",
       "      <td>6421.174508</td>\n",
       "      <td>6301.190933</td>\n",
       "      <td>5588.807150</td>\n",
       "      <td>5958.980667</td>\n",
       "      <td>6572.133942</td>\n",
       "      <td>6053.813783</td>\n",
       "      <td>6886.753358</td>\n",
       "      <td>6273.027867</td>\n",
       "      <td>6415.449175</td>\n",
       "      <td>5850.716133</td>\n",
       "    </tr>\n",
       "    <tr>\n",
       "      <th>3</th>\n",
       "      <td>8496.000000</td>\n",
       "      <td>7546.639350</td>\n",
       "      <td>7388.396267</td>\n",
       "      <td>7245.138642</td>\n",
       "      <td>7742.642558</td>\n",
       "      <td>7677.857783</td>\n",
       "      <td>6847.421458</td>\n",
       "      <td>7329.130200</td>\n",
       "      <td>7643.589542</td>\n",
       "      <td>7791.756767</td>\n",
       "    </tr>\n",
       "    <tr>\n",
       "      <th>4</th>\n",
       "      <td>7432.580258</td>\n",
       "      <td>7455.854308</td>\n",
       "      <td>4658.135058</td>\n",
       "      <td>4581.092750</td>\n",
       "      <td>6868.507467</td>\n",
       "      <td>5605.272867</td>\n",
       "      <td>5642.870383</td>\n",
       "      <td>7525.153642</td>\n",
       "      <td>7058.650442</td>\n",
       "      <td>6863.618450</td>\n",
       "    </tr>\n",
       "  </tbody>\n",
       "</table>\n",
       "</div>"
      ],
      "text/plain": [
       "       predict1      predict2      predict3      predict4      predict5  \\\n",
       "0  10800.734217  11462.565050   7680.770167  11506.650217   7206.928833   \n",
       "1  11951.194210  11778.527377  10518.364108  11738.616710  12142.356877   \n",
       "2   6421.174508   6301.190933   5588.807150   5958.980667   6572.133942   \n",
       "3   8496.000000   7546.639350   7388.396267   7245.138642   7742.642558   \n",
       "4   7432.580258   7455.854308   4658.135058   4581.092750   6868.507467   \n",
       "\n",
       "       predict6      predict7      predict8      predict9     predict10  \n",
       "0  11128.789550   7524.677667   8194.703000   7917.416333  11244.864550  \n",
       "1  11778.527377  11581.606543  13583.386485  11509.404377  10782.686210  \n",
       "2   6053.813783   6886.753358   6273.027867   6415.449175   5850.716133  \n",
       "3   7677.857783   6847.421458   7329.130200   7643.589542   7791.756767  \n",
       "4   5605.272867   5642.870383   7525.153642   7058.650442   6863.618450  "
      ]
     },
     "execution_count": 46,
     "metadata": {},
     "output_type": "execute_result"
    }
   ],
   "source": [
    "Knn_Regr_bias_var_err.head()"
   ]
  },
  {
   "cell_type": "code",
   "execution_count": 58,
   "metadata": {},
   "outputs": [
    {
     "name": "stdout",
     "output_type": "stream",
     "text": [
      "inside2: calc_bias_var_err\n",
      "inside3: calc_bias_var_err\n",
      "returning from: calc_bias_var_err\n",
      "inside2: calc_bias_var_err\n",
      "inside3: calc_bias_var_err\n",
      "returning from: calc_bias_var_err\n",
      "inside2: calc_bias_var_err\n",
      "inside3: calc_bias_var_err\n",
      "returning from: calc_bias_var_err\n",
      "inside2: calc_bias_var_err\n",
      "inside3: calc_bias_var_err\n",
      "returning from: calc_bias_var_err\n",
      "inside2: calc_bias_var_err\n",
      "inside3: calc_bias_var_err\n",
      "returning from: calc_bias_var_err\n"
     ]
    }
   ],
   "source": [
    "linear_reg_predict_var_err = calc_bias_var_err(linear_reg_predict)\n",
    "Knn_Regr_bias_var_err= calc_bias_var_err(Knn_Regr_bias_var_err)\n",
    "DT_Regr_bias_var_err= calc_bias_var_err(DT_Regr_bias_var_err)\n",
    "RF_Regr_bias_var_err= calc_bias_var_err(RF_Regr_bias_var_err)\n",
    "SVM_Regr_bias_var_err= calc_bias_var_err(SVM_Regr_bias_var_err)"
   ]
  },
  {
   "cell_type": "code",
   "execution_count": 48,
   "metadata": {},
   "outputs": [
    {
     "data": {
      "text/html": [
       "<div>\n",
       "<style scoped>\n",
       "    .dataframe tbody tr th:only-of-type {\n",
       "        vertical-align: middle;\n",
       "    }\n",
       "\n",
       "    .dataframe tbody tr th {\n",
       "        vertical-align: top;\n",
       "    }\n",
       "\n",
       "    .dataframe thead th {\n",
       "        text-align: right;\n",
       "    }\n",
       "</style>\n",
       "<table border=\"1\" class=\"dataframe\">\n",
       "  <thead>\n",
       "    <tr style=\"text-align: right;\">\n",
       "      <th></th>\n",
       "      <th>predict1</th>\n",
       "      <th>predict2</th>\n",
       "      <th>predict3</th>\n",
       "      <th>predict4</th>\n",
       "      <th>predict5</th>\n",
       "      <th>predict6</th>\n",
       "      <th>predict7</th>\n",
       "      <th>predict8</th>\n",
       "      <th>predict9</th>\n",
       "      <th>predict10</th>\n",
       "      <th>avg_pred</th>\n",
       "      <th>variance</th>\n",
       "      <th>actual</th>\n",
       "      <th>bias</th>\n",
       "      <th>error</th>\n",
       "    </tr>\n",
       "  </thead>\n",
       "  <tbody>\n",
       "    <tr>\n",
       "      <th>0</th>\n",
       "      <td>10800.734217</td>\n",
       "      <td>11462.565050</td>\n",
       "      <td>7680.770167</td>\n",
       "      <td>11506.650217</td>\n",
       "      <td>7206.928833</td>\n",
       "      <td>11128.789550</td>\n",
       "      <td>7524.677667</td>\n",
       "      <td>8194.703000</td>\n",
       "      <td>7917.416333</td>\n",
       "      <td>11244.864550</td>\n",
       "      <td>9466.809958</td>\n",
       "      <td>3.193475e+06</td>\n",
       "      <td>8551.34700</td>\n",
       "      <td>8.380724e+05</td>\n",
       "      <td>4.031547e+06</td>\n",
       "    </tr>\n",
       "    <tr>\n",
       "      <th>1</th>\n",
       "      <td>11951.194210</td>\n",
       "      <td>11778.527377</td>\n",
       "      <td>10518.364108</td>\n",
       "      <td>11738.616710</td>\n",
       "      <td>12142.356877</td>\n",
       "      <td>11778.527377</td>\n",
       "      <td>11581.606543</td>\n",
       "      <td>13583.386485</td>\n",
       "      <td>11509.404377</td>\n",
       "      <td>10782.686210</td>\n",
       "      <td>11736.467027</td>\n",
       "      <td>6.094520e+05</td>\n",
       "      <td>8116.68000</td>\n",
       "      <td>1.310286e+07</td>\n",
       "      <td>1.371231e+07</td>\n",
       "    </tr>\n",
       "    <tr>\n",
       "      <th>2</th>\n",
       "      <td>6421.174508</td>\n",
       "      <td>6301.190933</td>\n",
       "      <td>5588.807150</td>\n",
       "      <td>5958.980667</td>\n",
       "      <td>6572.133942</td>\n",
       "      <td>6053.813783</td>\n",
       "      <td>6886.753358</td>\n",
       "      <td>6273.027867</td>\n",
       "      <td>6415.449175</td>\n",
       "      <td>5850.716133</td>\n",
       "      <td>6232.204752</td>\n",
       "      <td>1.285668e+05</td>\n",
       "      <td>5729.00530</td>\n",
       "      <td>2.532097e+05</td>\n",
       "      <td>3.817765e+05</td>\n",
       "    </tr>\n",
       "    <tr>\n",
       "      <th>3</th>\n",
       "      <td>8496.000000</td>\n",
       "      <td>7546.639350</td>\n",
       "      <td>7388.396267</td>\n",
       "      <td>7245.138642</td>\n",
       "      <td>7742.642558</td>\n",
       "      <td>7677.857783</td>\n",
       "      <td>6847.421458</td>\n",
       "      <td>7329.130200</td>\n",
       "      <td>7643.589542</td>\n",
       "      <td>7791.756767</td>\n",
       "      <td>7570.857257</td>\n",
       "      <td>1.672697e+05</td>\n",
       "      <td>6796.86325</td>\n",
       "      <td>5.990667e+05</td>\n",
       "      <td>7.663365e+05</td>\n",
       "    </tr>\n",
       "    <tr>\n",
       "      <th>4</th>\n",
       "      <td>7432.580258</td>\n",
       "      <td>7455.854308</td>\n",
       "      <td>4658.135058</td>\n",
       "      <td>4581.092750</td>\n",
       "      <td>6868.507467</td>\n",
       "      <td>5605.272867</td>\n",
       "      <td>5642.870383</td>\n",
       "      <td>7525.153642</td>\n",
       "      <td>7058.650442</td>\n",
       "      <td>6863.618450</td>\n",
       "      <td>6369.173563</td>\n",
       "      <td>1.185313e+06</td>\n",
       "      <td>19442.35350</td>\n",
       "      <td>1.709080e+08</td>\n",
       "      <td>1.720933e+08</td>\n",
       "    </tr>\n",
       "  </tbody>\n",
       "</table>\n",
       "</div>"
      ],
      "text/plain": [
       "       predict1      predict2      predict3      predict4      predict5  \\\n",
       "0  10800.734217  11462.565050   7680.770167  11506.650217   7206.928833   \n",
       "1  11951.194210  11778.527377  10518.364108  11738.616710  12142.356877   \n",
       "2   6421.174508   6301.190933   5588.807150   5958.980667   6572.133942   \n",
       "3   8496.000000   7546.639350   7388.396267   7245.138642   7742.642558   \n",
       "4   7432.580258   7455.854308   4658.135058   4581.092750   6868.507467   \n",
       "\n",
       "       predict6      predict7      predict8      predict9     predict10  \\\n",
       "0  11128.789550   7524.677667   8194.703000   7917.416333  11244.864550   \n",
       "1  11778.527377  11581.606543  13583.386485  11509.404377  10782.686210   \n",
       "2   6053.813783   6886.753358   6273.027867   6415.449175   5850.716133   \n",
       "3   7677.857783   6847.421458   7329.130200   7643.589542   7791.756767   \n",
       "4   5605.272867   5642.870383   7525.153642   7058.650442   6863.618450   \n",
       "\n",
       "       avg_pred      variance       actual          bias         error  \n",
       "0   9466.809958  3.193475e+06   8551.34700  8.380724e+05  4.031547e+06  \n",
       "1  11736.467027  6.094520e+05   8116.68000  1.310286e+07  1.371231e+07  \n",
       "2   6232.204752  1.285668e+05   5729.00530  2.532097e+05  3.817765e+05  \n",
       "3   7570.857257  1.672697e+05   6796.86325  5.990667e+05  7.663365e+05  \n",
       "4   6369.173563  1.185313e+06  19442.35350  1.709080e+08  1.720933e+08  "
      ]
     },
     "execution_count": 48,
     "metadata": {},
     "output_type": "execute_result"
    }
   ],
   "source": [
    "Knn_Regr_bias_var_err.head()"
   ]
  },
  {
   "cell_type": "code",
   "execution_count": 49,
   "metadata": {},
   "outputs": [
    {
     "data": {
      "text/html": [
       "<div>\n",
       "<style scoped>\n",
       "    .dataframe tbody tr th:only-of-type {\n",
       "        vertical-align: middle;\n",
       "    }\n",
       "\n",
       "    .dataframe tbody tr th {\n",
       "        vertical-align: top;\n",
       "    }\n",
       "\n",
       "    .dataframe thead th {\n",
       "        text-align: right;\n",
       "    }\n",
       "</style>\n",
       "<table border=\"1\" class=\"dataframe\">\n",
       "  <thead>\n",
       "    <tr style=\"text-align: right;\">\n",
       "      <th></th>\n",
       "      <th>predict1</th>\n",
       "      <th>predict2</th>\n",
       "      <th>predict3</th>\n",
       "      <th>predict4</th>\n",
       "      <th>predict5</th>\n",
       "      <th>predict6</th>\n",
       "      <th>predict7</th>\n",
       "      <th>predict8</th>\n",
       "      <th>predict9</th>\n",
       "      <th>predict10</th>\n",
       "      <th>avg_pred</th>\n",
       "      <th>variance</th>\n",
       "      <th>actual</th>\n",
       "      <th>bias</th>\n",
       "      <th>error</th>\n",
       "    </tr>\n",
       "  </thead>\n",
       "  <tbody>\n",
       "    <tr>\n",
       "      <th>0</th>\n",
       "      <td>8719.981349</td>\n",
       "      <td>8716.019775</td>\n",
       "      <td>9370.965021</td>\n",
       "      <td>7829.874401</td>\n",
       "      <td>7570.858846</td>\n",
       "      <td>21631.318105</td>\n",
       "      <td>9179.266955</td>\n",
       "      <td>9391.131661</td>\n",
       "      <td>9107.981104</td>\n",
       "      <td>11427.118099</td>\n",
       "      <td>10294.451532</td>\n",
       "      <td>1.525901e+07</td>\n",
       "      <td>8551.34700</td>\n",
       "      <td>3.038413e+06</td>\n",
       "      <td>1.829743e+07</td>\n",
       "    </tr>\n",
       "    <tr>\n",
       "      <th>1</th>\n",
       "      <td>12821.042756</td>\n",
       "      <td>9280.761443</td>\n",
       "      <td>9370.965021</td>\n",
       "      <td>10491.098581</td>\n",
       "      <td>10164.714043</td>\n",
       "      <td>10623.551712</td>\n",
       "      <td>9179.266955</td>\n",
       "      <td>8217.971844</td>\n",
       "      <td>9107.981104</td>\n",
       "      <td>11427.118099</td>\n",
       "      <td>10068.447156</td>\n",
       "      <td>1.616314e+06</td>\n",
       "      <td>8116.68000</td>\n",
       "      <td>3.809395e+06</td>\n",
       "      <td>5.425709e+06</td>\n",
       "    </tr>\n",
       "    <tr>\n",
       "      <th>2</th>\n",
       "      <td>7466.148046</td>\n",
       "      <td>8058.444604</td>\n",
       "      <td>6090.940002</td>\n",
       "      <td>5767.159137</td>\n",
       "      <td>7204.576359</td>\n",
       "      <td>8360.813569</td>\n",
       "      <td>6029.421300</td>\n",
       "      <td>6992.086441</td>\n",
       "      <td>6555.794931</td>\n",
       "      <td>6429.474624</td>\n",
       "      <td>6895.485901</td>\n",
       "      <td>6.933222e+05</td>\n",
       "      <td>5729.00530</td>\n",
       "      <td>1.360677e+06</td>\n",
       "      <td>2.053999e+06</td>\n",
       "    </tr>\n",
       "    <tr>\n",
       "      <th>3</th>\n",
       "      <td>7466.148046</td>\n",
       "      <td>8058.444604</td>\n",
       "      <td>6090.940002</td>\n",
       "      <td>7829.874401</td>\n",
       "      <td>7204.576359</td>\n",
       "      <td>8360.813569</td>\n",
       "      <td>7573.932793</td>\n",
       "      <td>6992.086441</td>\n",
       "      <td>6555.794931</td>\n",
       "      <td>6429.474624</td>\n",
       "      <td>7256.208577</td>\n",
       "      <td>4.942196e+05</td>\n",
       "      <td>6796.86325</td>\n",
       "      <td>2.109981e+05</td>\n",
       "      <td>7.052177e+05</td>\n",
       "    </tr>\n",
       "    <tr>\n",
       "      <th>4</th>\n",
       "      <td>7466.148046</td>\n",
       "      <td>8058.444604</td>\n",
       "      <td>6090.940002</td>\n",
       "      <td>9245.931103</td>\n",
       "      <td>7204.576359</td>\n",
       "      <td>8360.813569</td>\n",
       "      <td>4700.623191</td>\n",
       "      <td>5902.737676</td>\n",
       "      <td>6555.794931</td>\n",
       "      <td>6429.474624</td>\n",
       "      <td>7001.548410</td>\n",
       "      <td>1.611577e+06</td>\n",
       "      <td>19442.35350</td>\n",
       "      <td>1.547736e+08</td>\n",
       "      <td>1.563852e+08</td>\n",
       "    </tr>\n",
       "  </tbody>\n",
       "</table>\n",
       "</div>"
      ],
      "text/plain": [
       "       predict1     predict2     predict3      predict4      predict5  \\\n",
       "0   8719.981349  8716.019775  9370.965021   7829.874401   7570.858846   \n",
       "1  12821.042756  9280.761443  9370.965021  10491.098581  10164.714043   \n",
       "2   7466.148046  8058.444604  6090.940002   5767.159137   7204.576359   \n",
       "3   7466.148046  8058.444604  6090.940002   7829.874401   7204.576359   \n",
       "4   7466.148046  8058.444604  6090.940002   9245.931103   7204.576359   \n",
       "\n",
       "       predict6     predict7     predict8     predict9     predict10  \\\n",
       "0  21631.318105  9179.266955  9391.131661  9107.981104  11427.118099   \n",
       "1  10623.551712  9179.266955  8217.971844  9107.981104  11427.118099   \n",
       "2   8360.813569  6029.421300  6992.086441  6555.794931   6429.474624   \n",
       "3   8360.813569  7573.932793  6992.086441  6555.794931   6429.474624   \n",
       "4   8360.813569  4700.623191  5902.737676  6555.794931   6429.474624   \n",
       "\n",
       "       avg_pred      variance       actual          bias         error  \n",
       "0  10294.451532  1.525901e+07   8551.34700  3.038413e+06  1.829743e+07  \n",
       "1  10068.447156  1.616314e+06   8116.68000  3.809395e+06  5.425709e+06  \n",
       "2   6895.485901  6.933222e+05   5729.00530  1.360677e+06  2.053999e+06  \n",
       "3   7256.208577  4.942196e+05   6796.86325  2.109981e+05  7.052177e+05  \n",
       "4   7001.548410  1.611577e+06  19442.35350  1.547736e+08  1.563852e+08  "
      ]
     },
     "execution_count": 49,
     "metadata": {},
     "output_type": "execute_result"
    }
   ],
   "source": [
    "DT_Regr_bias_var_err.head()"
   ]
  },
  {
   "cell_type": "code",
   "execution_count": 50,
   "metadata": {},
   "outputs": [
    {
     "data": {
      "text/html": [
       "<div>\n",
       "<style scoped>\n",
       "    .dataframe tbody tr th:only-of-type {\n",
       "        vertical-align: middle;\n",
       "    }\n",
       "\n",
       "    .dataframe tbody tr th {\n",
       "        vertical-align: top;\n",
       "    }\n",
       "\n",
       "    .dataframe thead th {\n",
       "        text-align: right;\n",
       "    }\n",
       "</style>\n",
       "<table border=\"1\" class=\"dataframe\">\n",
       "  <thead>\n",
       "    <tr style=\"text-align: right;\">\n",
       "      <th></th>\n",
       "      <th>predict1</th>\n",
       "      <th>predict2</th>\n",
       "      <th>predict3</th>\n",
       "      <th>predict4</th>\n",
       "      <th>predict5</th>\n",
       "      <th>predict6</th>\n",
       "      <th>predict7</th>\n",
       "      <th>predict8</th>\n",
       "      <th>predict9</th>\n",
       "      <th>predict10</th>\n",
       "      <th>avg_pred</th>\n",
       "      <th>variance</th>\n",
       "      <th>actual</th>\n",
       "      <th>bias</th>\n",
       "      <th>error</th>\n",
       "    </tr>\n",
       "  </thead>\n",
       "  <tbody>\n",
       "    <tr>\n",
       "      <th>0</th>\n",
       "      <td>8352.338254</td>\n",
       "      <td>9265.932553</td>\n",
       "      <td>10760.844146</td>\n",
       "      <td>8825.065880</td>\n",
       "      <td>11022.495462</td>\n",
       "      <td>10520.302310</td>\n",
       "      <td>11584.562968</td>\n",
       "      <td>11370.989855</td>\n",
       "      <td>11499.257234</td>\n",
       "      <td>12632.152719</td>\n",
       "      <td>10583.394138</td>\n",
       "      <td>1.669218e+06</td>\n",
       "      <td>8551.34700</td>\n",
       "      <td>4.129216e+06</td>\n",
       "      <td>5.798433e+06</td>\n",
       "    </tr>\n",
       "    <tr>\n",
       "      <th>1</th>\n",
       "      <td>12927.968582</td>\n",
       "      <td>11684.200156</td>\n",
       "      <td>10909.522905</td>\n",
       "      <td>11921.993571</td>\n",
       "      <td>12035.092007</td>\n",
       "      <td>11982.169836</td>\n",
       "      <td>12080.252116</td>\n",
       "      <td>11518.694065</td>\n",
       "      <td>12160.300392</td>\n",
       "      <td>13317.799203</td>\n",
       "      <td>12053.799283</td>\n",
       "      <td>4.129073e+05</td>\n",
       "      <td>8116.68000</td>\n",
       "      <td>1.550091e+07</td>\n",
       "      <td>1.591382e+07</td>\n",
       "    </tr>\n",
       "    <tr>\n",
       "      <th>2</th>\n",
       "      <td>6129.198168</td>\n",
       "      <td>5998.401928</td>\n",
       "      <td>5359.867724</td>\n",
       "      <td>5644.783607</td>\n",
       "      <td>5374.049717</td>\n",
       "      <td>5708.473070</td>\n",
       "      <td>5431.144698</td>\n",
       "      <td>5505.242327</td>\n",
       "      <td>5244.186091</td>\n",
       "      <td>5218.207483</td>\n",
       "      <td>5561.355481</td>\n",
       "      <td>8.561900e+04</td>\n",
       "      <td>5729.00530</td>\n",
       "      <td>2.810646e+04</td>\n",
       "      <td>1.137255e+05</td>\n",
       "    </tr>\n",
       "    <tr>\n",
       "      <th>3</th>\n",
       "      <td>6129.198168</td>\n",
       "      <td>6137.795417</td>\n",
       "      <td>5492.548462</td>\n",
       "      <td>5644.783607</td>\n",
       "      <td>5374.049717</td>\n",
       "      <td>5708.473070</td>\n",
       "      <td>5687.043828</td>\n",
       "      <td>6456.328395</td>\n",
       "      <td>5310.397643</td>\n",
       "      <td>5218.207483</td>\n",
       "      <td>5715.882579</td>\n",
       "      <td>1.481868e+05</td>\n",
       "      <td>6796.86325</td>\n",
       "      <td>1.168519e+06</td>\n",
       "      <td>1.316706e+06</td>\n",
       "    </tr>\n",
       "    <tr>\n",
       "      <th>4</th>\n",
       "      <td>6129.198168</td>\n",
       "      <td>5998.401928</td>\n",
       "      <td>5359.867724</td>\n",
       "      <td>5572.801063</td>\n",
       "      <td>5374.049717</td>\n",
       "      <td>5708.473070</td>\n",
       "      <td>5431.144698</td>\n",
       "      <td>5175.568388</td>\n",
       "      <td>5244.186091</td>\n",
       "      <td>5218.207483</td>\n",
       "      <td>5521.189833</td>\n",
       "      <td>9.789110e+04</td>\n",
       "      <td>19442.35350</td>\n",
       "      <td>1.937988e+08</td>\n",
       "      <td>1.938967e+08</td>\n",
       "    </tr>\n",
       "  </tbody>\n",
       "</table>\n",
       "</div>"
      ],
      "text/plain": [
       "       predict1      predict2      predict3      predict4      predict5  \\\n",
       "0   8352.338254   9265.932553  10760.844146   8825.065880  11022.495462   \n",
       "1  12927.968582  11684.200156  10909.522905  11921.993571  12035.092007   \n",
       "2   6129.198168   5998.401928   5359.867724   5644.783607   5374.049717   \n",
       "3   6129.198168   6137.795417   5492.548462   5644.783607   5374.049717   \n",
       "4   6129.198168   5998.401928   5359.867724   5572.801063   5374.049717   \n",
       "\n",
       "       predict6      predict7      predict8      predict9     predict10  \\\n",
       "0  10520.302310  11584.562968  11370.989855  11499.257234  12632.152719   \n",
       "1  11982.169836  12080.252116  11518.694065  12160.300392  13317.799203   \n",
       "2   5708.473070   5431.144698   5505.242327   5244.186091   5218.207483   \n",
       "3   5708.473070   5687.043828   6456.328395   5310.397643   5218.207483   \n",
       "4   5708.473070   5431.144698   5175.568388   5244.186091   5218.207483   \n",
       "\n",
       "       avg_pred      variance       actual          bias         error  \n",
       "0  10583.394138  1.669218e+06   8551.34700  4.129216e+06  5.798433e+06  \n",
       "1  12053.799283  4.129073e+05   8116.68000  1.550091e+07  1.591382e+07  \n",
       "2   5561.355481  8.561900e+04   5729.00530  2.810646e+04  1.137255e+05  \n",
       "3   5715.882579  1.481868e+05   6796.86325  1.168519e+06  1.316706e+06  \n",
       "4   5521.189833  9.789110e+04  19442.35350  1.937988e+08  1.938967e+08  "
      ]
     },
     "execution_count": 50,
     "metadata": {},
     "output_type": "execute_result"
    }
   ],
   "source": [
    "RF_Regr_bias_var_err.head()"
   ]
  },
  {
   "cell_type": "code",
   "execution_count": 51,
   "metadata": {},
   "outputs": [
    {
     "data": {
      "text/html": [
       "<div>\n",
       "<style scoped>\n",
       "    .dataframe tbody tr th:only-of-type {\n",
       "        vertical-align: middle;\n",
       "    }\n",
       "\n",
       "    .dataframe tbody tr th {\n",
       "        vertical-align: top;\n",
       "    }\n",
       "\n",
       "    .dataframe thead th {\n",
       "        text-align: right;\n",
       "    }\n",
       "</style>\n",
       "<table border=\"1\" class=\"dataframe\">\n",
       "  <thead>\n",
       "    <tr style=\"text-align: right;\">\n",
       "      <th></th>\n",
       "      <th>predict1</th>\n",
       "      <th>predict2</th>\n",
       "      <th>predict3</th>\n",
       "      <th>predict4</th>\n",
       "      <th>predict5</th>\n",
       "      <th>predict6</th>\n",
       "      <th>predict7</th>\n",
       "      <th>predict8</th>\n",
       "      <th>predict9</th>\n",
       "      <th>predict10</th>\n",
       "      <th>avg_pred</th>\n",
       "      <th>variance</th>\n",
       "      <th>actual</th>\n",
       "      <th>bias</th>\n",
       "      <th>error</th>\n",
       "    </tr>\n",
       "  </thead>\n",
       "  <tbody>\n",
       "    <tr>\n",
       "      <th>0</th>\n",
       "      <td>9289.472313</td>\n",
       "      <td>8973.031642</td>\n",
       "      <td>8602.396483</td>\n",
       "      <td>8927.095579</td>\n",
       "      <td>8540.368113</td>\n",
       "      <td>9188.782503</td>\n",
       "      <td>9145.631546</td>\n",
       "      <td>8783.380712</td>\n",
       "      <td>9092.853878</td>\n",
       "      <td>9001.288925</td>\n",
       "      <td>8954.430169</td>\n",
       "      <td>55081.530176</td>\n",
       "      <td>8551.34700</td>\n",
       "      <td>1.624760e+05</td>\n",
       "      <td>2.175576e+05</td>\n",
       "    </tr>\n",
       "    <tr>\n",
       "      <th>1</th>\n",
       "      <td>9291.492285</td>\n",
       "      <td>8978.217273</td>\n",
       "      <td>8609.048257</td>\n",
       "      <td>8923.946975</td>\n",
       "      <td>8547.216114</td>\n",
       "      <td>9193.247043</td>\n",
       "      <td>9148.559848</td>\n",
       "      <td>8785.293822</td>\n",
       "      <td>9098.075189</td>\n",
       "      <td>9011.674789</td>\n",
       "      <td>8958.677160</td>\n",
       "      <td>54727.527794</td>\n",
       "      <td>8116.68000</td>\n",
       "      <td>7.089592e+05</td>\n",
       "      <td>7.636867e+05</td>\n",
       "    </tr>\n",
       "    <tr>\n",
       "      <th>2</th>\n",
       "      <td>9265.822387</td>\n",
       "      <td>8952.793681</td>\n",
       "      <td>8576.829917</td>\n",
       "      <td>8898.618681</td>\n",
       "      <td>8519.879087</td>\n",
       "      <td>9168.730246</td>\n",
       "      <td>9120.492496</td>\n",
       "      <td>8749.499194</td>\n",
       "      <td>9070.441015</td>\n",
       "      <td>8978.876050</td>\n",
       "      <td>8930.198275</td>\n",
       "      <td>55518.150188</td>\n",
       "      <td>5729.00530</td>\n",
       "      <td>1.024764e+07</td>\n",
       "      <td>1.030315e+07</td>\n",
       "    </tr>\n",
       "    <tr>\n",
       "      <th>3</th>\n",
       "      <td>9277.342987</td>\n",
       "      <td>8964.379057</td>\n",
       "      <td>8588.713647</td>\n",
       "      <td>8910.445692</td>\n",
       "      <td>8532.423116</td>\n",
       "      <td>9181.361087</td>\n",
       "      <td>9132.385369</td>\n",
       "      <td>8760.056862</td>\n",
       "      <td>9080.620631</td>\n",
       "      <td>8991.114458</td>\n",
       "      <td>8941.884291</td>\n",
       "      <td>55478.728566</td>\n",
       "      <td>6796.86325</td>\n",
       "      <td>4.601115e+06</td>\n",
       "      <td>4.656594e+06</td>\n",
       "    </tr>\n",
       "    <tr>\n",
       "      <th>4</th>\n",
       "      <td>9254.907448</td>\n",
       "      <td>8941.602512</td>\n",
       "      <td>8563.141484</td>\n",
       "      <td>8886.316929</td>\n",
       "      <td>8507.695895</td>\n",
       "      <td>9157.456303</td>\n",
       "      <td>9110.091526</td>\n",
       "      <td>8736.323285</td>\n",
       "      <td>9058.160806</td>\n",
       "      <td>8966.319750</td>\n",
       "      <td>8918.201594</td>\n",
       "      <td>55856.589656</td>\n",
       "      <td>19442.35350</td>\n",
       "      <td>1.107578e+08</td>\n",
       "      <td>1.108136e+08</td>\n",
       "    </tr>\n",
       "  </tbody>\n",
       "</table>\n",
       "</div>"
      ],
      "text/plain": [
       "      predict1     predict2     predict3     predict4     predict5  \\\n",
       "0  9289.472313  8973.031642  8602.396483  8927.095579  8540.368113   \n",
       "1  9291.492285  8978.217273  8609.048257  8923.946975  8547.216114   \n",
       "2  9265.822387  8952.793681  8576.829917  8898.618681  8519.879087   \n",
       "3  9277.342987  8964.379057  8588.713647  8910.445692  8532.423116   \n",
       "4  9254.907448  8941.602512  8563.141484  8886.316929  8507.695895   \n",
       "\n",
       "      predict6     predict7     predict8     predict9    predict10  \\\n",
       "0  9188.782503  9145.631546  8783.380712  9092.853878  9001.288925   \n",
       "1  9193.247043  9148.559848  8785.293822  9098.075189  9011.674789   \n",
       "2  9168.730246  9120.492496  8749.499194  9070.441015  8978.876050   \n",
       "3  9181.361087  9132.385369  8760.056862  9080.620631  8991.114458   \n",
       "4  9157.456303  9110.091526  8736.323285  9058.160806  8966.319750   \n",
       "\n",
       "      avg_pred      variance       actual          bias         error  \n",
       "0  8954.430169  55081.530176   8551.34700  1.624760e+05  2.175576e+05  \n",
       "1  8958.677160  54727.527794   8116.68000  7.089592e+05  7.636867e+05  \n",
       "2  8930.198275  55518.150188   5729.00530  1.024764e+07  1.030315e+07  \n",
       "3  8941.884291  55478.728566   6796.86325  4.601115e+06  4.656594e+06  \n",
       "4  8918.201594  55856.589656  19442.35350  1.107578e+08  1.108136e+08  "
      ]
     },
     "execution_count": 51,
     "metadata": {},
     "output_type": "execute_result"
    }
   ],
   "source": [
    "SVM_Regr_bias_var_err.head()"
   ]
  },
  {
   "cell_type": "code",
   "execution_count": 52,
   "metadata": {},
   "outputs": [],
   "source": [
    "def calc_avg_bias_var_err(summary_Regr_bias_var_err,model_df, model):\n",
    "    print(\"inside: calc_avg_bias_var_err: model\\n\",model)\n",
    "    #model_df.head(10)\n",
    "    error = model_df.bias + model_df.variance\n",
    "    print(\"bias+variance: error:\\n\",error.head(10))\n",
    "    print(\"calculated error:\\n\",model_df.error.head(10))\n",
    "    \n",
    "    #print(model_df.head(10))\n",
    "    bias_avg = model_df.bias.mean()\n",
    "    var_avg = model_df.variance.mean()\n",
    "    err_avg = model_df.error.mean()\n",
    "    \n",
    "    summary_Regr_bias_var_err.append((model,bias_avg,var_avg,err_avg))\n",
    "    print(\"returning from: calc_avg_bias_var_err\")\n",
    "    return summary_Regr_bias_var_err"
   ]
  },
  {
   "cell_type": "code",
   "execution_count": 59,
   "metadata": {},
   "outputs": [
    {
     "name": "stdout",
     "output_type": "stream",
     "text": [
      "inside: calc_avg_bias_var_err: model\n",
      " ML_Regr\n",
      "bias+variance: error:\n",
      " 0    6.231445e+11\n",
      "1    2.444399e+11\n",
      "2    1.110930e+13\n",
      "3    1.772191e+12\n",
      "4    1.528808e+15\n",
      "5    6.474044e+14\n",
      "6    5.782526e+11\n",
      "7    4.070411e+09\n",
      "8    7.460040e+11\n",
      "9    2.426422e+11\n",
      "dtype: float64\n",
      "calculated error:\n",
      " 0    3.004390e+06\n",
      "1    1.884613e+06\n",
      "2    1.265821e+07\n",
      "3    5.058998e+06\n",
      "4    1.484541e+08\n",
      "5    9.661150e+07\n",
      "6    2.887836e+06\n",
      "7    2.478180e+05\n",
      "8    3.287321e+06\n",
      "9    1.874806e+06\n",
      "Name: error, dtype: float64\n",
      "returning from: calc_avg_bias_var_err\n",
      "inside: calc_avg_bias_var_err: model\n",
      " Knn_Regr\n",
      "bias+variance: error:\n",
      " 0    1.426944e+23\n",
      "1    2.624472e+25\n",
      "2    9.050956e+18\n",
      "3    1.771089e+20\n",
      "4    7.090580e+29\n",
      "5    3.801939e+23\n",
      "6    2.252333e+22\n",
      "7    1.442709e+22\n",
      "8    2.272766e+21\n",
      "9    1.238938e+22\n",
      "dtype: float64\n",
      "calculated error:\n",
      " 0    4.031547e+06\n",
      "1    1.371231e+07\n",
      "2    3.817765e+05\n",
      "3    7.663365e+05\n",
      "4    1.720933e+08\n",
      "5    5.424783e+06\n",
      "6    2.500240e+06\n",
      "7    2.331448e+06\n",
      "8    1.500122e+06\n",
      "9    2.328962e+06\n",
      "Name: error, dtype: float64\n",
      "returning from: calc_avg_bias_var_err\n",
      "inside: calc_avg_bias_var_err: model\n",
      " DT_Regr\n",
      "bias+variance: error:\n",
      " 0    6.550296e+25\n",
      "1    4.136335e+23\n",
      "2    8.082007e+21\n",
      "3    1.131119e+20\n",
      "4    4.798228e+29\n",
      "5    3.828697e+25\n",
      "6    6.775229e+21\n",
      "7    1.559497e+23\n",
      "8    9.699802e+23\n",
      "9    3.062422e+21\n",
      "dtype: float64\n",
      "calculated error:\n",
      " 0    1.829743e+07\n",
      "1    5.425709e+06\n",
      "2    2.053999e+06\n",
      "3    7.052177e+05\n",
      "4    1.563852e+08\n",
      "5    1.717115e+07\n",
      "6    2.000352e+06\n",
      "7    4.265775e+06\n",
      "8    6.890359e+06\n",
      "9    1.601569e+06\n",
      "Name: error, dtype: float64\n",
      "returning from: calc_avg_bias_var_err\n",
      "inside: calc_avg_bias_var_err: model\n",
      " RF_Regr\n",
      "bias+variance: error:\n",
      " 0    5.461956e+23\n",
      "1    4.958249e+25\n",
      "2    6.770590e+16\n",
      "3    1.908223e+21\n",
      "4    1.159147e+30\n",
      "5    5.165696e+22\n",
      "6    1.886862e+24\n",
      "7    7.328873e+19\n",
      "8    1.118927e+23\n",
      "9    9.144657e+18\n",
      "dtype: float64\n",
      "calculated error:\n",
      " 0    5.798433e+06\n",
      "1    1.591382e+07\n",
      "2    1.137255e+05\n",
      "3    1.316706e+06\n",
      "4    1.938967e+08\n",
      "5    2.916476e+06\n",
      "6    6.982566e+06\n",
      "7    6.345337e+05\n",
      "8    3.641872e+06\n",
      "9    3.863495e+05\n",
      "Name: error, dtype: float64\n",
      "returning from: calc_avg_bias_var_err\n",
      "inside: calc_avg_bias_var_err: model\n",
      " SVM_Regr\n",
      "bias+variance: error:\n",
      " 0    9.379890e+17\n",
      "1    2.282560e+20\n",
      "2    9.115358e+24\n",
      "3    3.733878e+23\n",
      "4    1.236333e+29\n",
      "5    1.721906e+29\n",
      "6    1.427122e+27\n",
      "7    6.361235e+24\n",
      "8    4.258251e+22\n",
      "9    2.518143e+24\n",
      "dtype: float64\n",
      "calculated error:\n",
      " 0    2.175576e+05\n",
      "1    7.636867e+05\n",
      "2    1.030315e+07\n",
      "3    4.656594e+06\n",
      "4    1.108136e+08\n",
      "5    1.203786e+08\n",
      "6    3.634677e+07\n",
      "7    9.421624e+06\n",
      "8    2.722913e+06\n",
      "9    7.480191e+06\n",
      "Name: error, dtype: float64\n",
      "returning from: calc_avg_bias_var_err\n"
     ]
    }
   ],
   "source": [
    "summary_Regr_bias_var_err = []\n",
    "summary_Regr_bias_var_err= calc_avg_bias_var_err(summary_Regr_bias_var_err,linear_reg_predict,\"ML_Regr\")\n",
    "summary_Regr_bias_var_err= calc_avg_bias_var_err(summary_Regr_bias_var_err,Knn_Regr_bias_var_err,\"Knn_Regr\")\n",
    "summary_Regr_bias_var_err= calc_avg_bias_var_err(summary_Regr_bias_var_err,DT_Regr_bias_var_err,\"DT_Regr\")\n",
    "summary_Regr_bias_var_err= calc_avg_bias_var_err(summary_Regr_bias_var_err,RF_Regr_bias_var_err,\"RF_Regr\")\n",
    "summary_Regr_bias_var_err= calc_avg_bias_var_err(summary_Regr_bias_var_err,SVM_Regr_bias_var_err,\"SVM_Regr\")   \n",
    "\n",
    "df_avg_bias_var_err = pd.DataFrame.from_records(summary_Regr_bias_var_err, columns=['Model','bias','variance','error'])\n"
   ]
  },
  {
   "cell_type": "code",
   "execution_count": 60,
   "metadata": {},
   "outputs": [
    {
     "data": {
      "text/html": [
       "<div>\n",
       "<style scoped>\n",
       "    .dataframe tbody tr th:only-of-type {\n",
       "        vertical-align: middle;\n",
       "    }\n",
       "\n",
       "    .dataframe tbody tr th {\n",
       "        vertical-align: top;\n",
       "    }\n",
       "\n",
       "    .dataframe thead th {\n",
       "        text-align: right;\n",
       "    }\n",
       "</style>\n",
       "<table border=\"1\" class=\"dataframe\">\n",
       "  <thead>\n",
       "    <tr style=\"text-align: right;\">\n",
       "      <th></th>\n",
       "      <th>Model</th>\n",
       "      <th>bias</th>\n",
       "      <th>variance</th>\n",
       "      <th>error</th>\n",
       "    </tr>\n",
       "  </thead>\n",
       "  <tbody>\n",
       "    <tr>\n",
       "      <th>0</th>\n",
       "      <td>ML_Regr</td>\n",
       "      <td>1.931959e+13</td>\n",
       "      <td>2.427883e+14</td>\n",
       "      <td>3.180065e+07</td>\n",
       "    </tr>\n",
       "    <tr>\n",
       "      <th>1</th>\n",
       "      <td>Knn_Regr</td>\n",
       "      <td>1.724756e+28</td>\n",
       "      <td>1.731590e+29</td>\n",
       "      <td>2.740940e+07</td>\n",
       "    </tr>\n",
       "    <tr>\n",
       "      <th>2</th>\n",
       "      <td>DT_Regr</td>\n",
       "      <td>1.179999e+28</td>\n",
       "      <td>1.185438e+29</td>\n",
       "      <td>2.034026e+07</td>\n",
       "    </tr>\n",
       "    <tr>\n",
       "      <th>3</th>\n",
       "      <td>RF_Regr</td>\n",
       "      <td>1.682911e+28</td>\n",
       "      <td>1.694258e+29</td>\n",
       "      <td>2.136261e+07</td>\n",
       "    </tr>\n",
       "    <tr>\n",
       "      <th>4</th>\n",
       "      <td>SVM_Regr</td>\n",
       "      <td>2.165939e+31</td>\n",
       "      <td>2.180701e+32</td>\n",
       "      <td>1.895001e+08</td>\n",
       "    </tr>\n",
       "  </tbody>\n",
       "</table>\n",
       "</div>"
      ],
      "text/plain": [
       "      Model          bias      variance         error\n",
       "0   ML_Regr  1.931959e+13  2.427883e+14  3.180065e+07\n",
       "1  Knn_Regr  1.724756e+28  1.731590e+29  2.740940e+07\n",
       "2   DT_Regr  1.179999e+28  1.185438e+29  2.034026e+07\n",
       "3   RF_Regr  1.682911e+28  1.694258e+29  2.136261e+07\n",
       "4  SVM_Regr  2.165939e+31  2.180701e+32  1.895001e+08"
      ]
     },
     "execution_count": 60,
     "metadata": {},
     "output_type": "execute_result"
    }
   ],
   "source": [
    "df_avg_bias_var_err"
   ]
  },
  {
   "cell_type": "code",
   "execution_count": null,
   "metadata": {},
   "outputs": [],
   "source": []
  }
 ],
 "metadata": {
  "kernelspec": {
   "display_name": "Python 3",
   "language": "python",
   "name": "python3"
  },
  "language_info": {
   "codemirror_mode": {
    "name": "ipython",
    "version": 3
   },
   "file_extension": ".py",
   "mimetype": "text/x-python",
   "name": "python",
   "nbconvert_exporter": "python",
   "pygments_lexer": "ipython3",
   "version": "3.6.5"
  }
 },
 "nbformat": 4,
 "nbformat_minor": 2
}
