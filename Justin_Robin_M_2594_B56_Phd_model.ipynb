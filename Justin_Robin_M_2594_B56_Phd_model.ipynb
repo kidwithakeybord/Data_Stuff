{
 "cells": [
  {
   "cell_type": "markdown",
   "metadata": {},
   "source": [
    "# Preprocessing \n"
   ]
  },
  {
   "cell_type": "code",
   "execution_count": 1,
   "metadata": {},
   "outputs": [],
   "source": [
    "# loading requred packages for setting up the python Environment  \n",
    "import numpy as np\n",
    "import pandas as pd\n",
    "import math # For mathematical calculations\n",
    "import warnings       # To ignore any warnings\n",
    "warnings.filterwarnings('ignore')\n",
    "from sklearn import preprocessing  #requred packages for preprocessing"
   ]
  },
  {
   "cell_type": "code",
   "execution_count": 2,
   "metadata": {},
   "outputs": [],
   "source": [
    "# loading requred packages for Ploting\n",
    "import matplotlib.pyplot as plt\n",
    "import missingno as msno\n",
    "import seaborn as sns\n",
    "import plotly.offline as pyoff\n",
    "import plotly.figure_factory as ff"
   ]
  },
  {
   "cell_type": "code",
   "execution_count": 3,
   "metadata": {},
   "outputs": [],
   "source": [
    "dftrain = pd.read_excel(\"Train.xlsx\") #loading the data sets \n",
    "dftest = pd.read_excel(\"Test.xlsx\")"
   ]
  },
  {
   "cell_type": "markdown",
   "metadata": {},
   "source": [
    "## Birds eye view "
   ]
  },
  {
   "cell_type": "code",
   "execution_count": 4,
   "metadata": {},
   "outputs": [
    {
     "data": {
      "text/plain": [
       "(9135, 5)"
      ]
     },
     "execution_count": 4,
     "metadata": {},
     "output_type": "execute_result"
    }
   ],
   "source": [
    "dftest.shape"
   ]
  },
  {
   "cell_type": "code",
   "execution_count": 233,
   "metadata": {},
   "outputs": [
    {
     "data": {
      "text/plain": [
       "(42582, 21)"
      ]
     },
     "execution_count": 233,
     "metadata": {},
     "output_type": "execute_result"
    }
   ],
   "source": [
    "dftrain.shape"
   ]
  },
  {
   "cell_type": "code",
   "execution_count": 6,
   "metadata": {},
   "outputs": [
    {
     "data": {
      "text/html": [
       "<div>\n",
       "<style scoped>\n",
       "    .dataframe tbody tr th:only-of-type {\n",
       "        vertical-align: middle;\n",
       "    }\n",
       "\n",
       "    .dataframe tbody tr th {\n",
       "        vertical-align: top;\n",
       "    }\n",
       "\n",
       "    .dataframe thead th {\n",
       "        text-align: right;\n",
       "    }\n",
       "</style>\n",
       "<table border=\"1\" class=\"dataframe\">\n",
       "  <thead>\n",
       "    <tr style=\"text-align: right;\">\n",
       "      <th></th>\n",
       "      <th>ReportID</th>\n",
       "      <th>SalesPersonID</th>\n",
       "      <th>ProductID</th>\n",
       "      <th>Quantity</th>\n",
       "      <th>TotalSalesValue</th>\n",
       "    </tr>\n",
       "  </thead>\n",
       "  <tbody>\n",
       "    <tr>\n",
       "      <th>0</th>\n",
       "      <td>Rep70101</td>\n",
       "      <td>C21844</td>\n",
       "      <td>PR6483</td>\n",
       "      <td>102</td>\n",
       "      <td>1115</td>\n",
       "    </tr>\n",
       "    <tr>\n",
       "      <th>1</th>\n",
       "      <td>Rep70102</td>\n",
       "      <td>C21844</td>\n",
       "      <td>PR6251</td>\n",
       "      <td>102</td>\n",
       "      <td>1050</td>\n",
       "    </tr>\n",
       "    <tr>\n",
       "      <th>2</th>\n",
       "      <td>Rep70103</td>\n",
       "      <td>C21844</td>\n",
       "      <td>PR6253</td>\n",
       "      <td>344</td>\n",
       "      <td>3490</td>\n",
       "    </tr>\n",
       "    <tr>\n",
       "      <th>3</th>\n",
       "      <td>Rep70104</td>\n",
       "      <td>C21844</td>\n",
       "      <td>PR6378</td>\n",
       "      <td>108</td>\n",
       "      <td>1095</td>\n",
       "    </tr>\n",
       "    <tr>\n",
       "      <th>4</th>\n",
       "      <td>Rep70105</td>\n",
       "      <td>C21844</td>\n",
       "      <td>PR6463</td>\n",
       "      <td>146</td>\n",
       "      <td>1055</td>\n",
       "    </tr>\n",
       "  </tbody>\n",
       "</table>\n",
       "</div>"
      ],
      "text/plain": [
       "   ReportID SalesPersonID ProductID  Quantity  TotalSalesValue\n",
       "0  Rep70101        C21844    PR6483       102             1115\n",
       "1  Rep70102        C21844    PR6251       102             1050\n",
       "2  Rep70103        C21844    PR6253       344             3490\n",
       "3  Rep70104        C21844    PR6378       108             1095\n",
       "4  Rep70105        C21844    PR6463       146             1055"
      ]
     },
     "execution_count": 6,
     "metadata": {},
     "output_type": "execute_result"
    }
   ],
   "source": [
    "dftest.head()"
   ]
  },
  {
   "cell_type": "code",
   "execution_count": 5,
   "metadata": {},
   "outputs": [
    {
     "data": {
      "text/html": [
       "<div>\n",
       "<style scoped>\n",
       "    .dataframe tbody tr th:only-of-type {\n",
       "        vertical-align: middle;\n",
       "    }\n",
       "\n",
       "    .dataframe tbody tr th {\n",
       "        vertical-align: top;\n",
       "    }\n",
       "\n",
       "    .dataframe thead th {\n",
       "        text-align: right;\n",
       "    }\n",
       "</style>\n",
       "<table border=\"1\" class=\"dataframe\">\n",
       "  <thead>\n",
       "    <tr style=\"text-align: right;\">\n",
       "      <th></th>\n",
       "      <th>ReportID</th>\n",
       "      <th>SalesPersonID</th>\n",
       "      <th>ProductID</th>\n",
       "      <th>Quantity</th>\n",
       "      <th>TotalSalesValue</th>\n",
       "      <th>Suspicious</th>\n",
       "    </tr>\n",
       "  </thead>\n",
       "  <tbody>\n",
       "    <tr>\n",
       "      <th>0</th>\n",
       "      <td>Rep10101</td>\n",
       "      <td>C21116</td>\n",
       "      <td>PR6112</td>\n",
       "      <td>182</td>\n",
       "      <td>1665</td>\n",
       "      <td>indeterminate</td>\n",
       "    </tr>\n",
       "    <tr>\n",
       "      <th>1</th>\n",
       "      <td>Rep10102</td>\n",
       "      <td>C21116</td>\n",
       "      <td>PR6112</td>\n",
       "      <td>182</td>\n",
       "      <td>1740</td>\n",
       "      <td>indeterminate</td>\n",
       "    </tr>\n",
       "    <tr>\n",
       "      <th>2</th>\n",
       "      <td>Rep10103</td>\n",
       "      <td>C21116</td>\n",
       "      <td>PR6253</td>\n",
       "      <td>101</td>\n",
       "      <td>1040</td>\n",
       "      <td>indeterminate</td>\n",
       "    </tr>\n",
       "    <tr>\n",
       "      <th>3</th>\n",
       "      <td>Rep10104</td>\n",
       "      <td>C21116</td>\n",
       "      <td>PR6253</td>\n",
       "      <td>283</td>\n",
       "      <td>4495</td>\n",
       "      <td>No</td>\n",
       "    </tr>\n",
       "    <tr>\n",
       "      <th>4</th>\n",
       "      <td>Rep10105</td>\n",
       "      <td>C21116</td>\n",
       "      <td>PR6294</td>\n",
       "      <td>108</td>\n",
       "      <td>1465</td>\n",
       "      <td>indeterminate</td>\n",
       "    </tr>\n",
       "  </tbody>\n",
       "</table>\n",
       "</div>"
      ],
      "text/plain": [
       "   ReportID SalesPersonID ProductID  Quantity  TotalSalesValue     Suspicious\n",
       "0  Rep10101        C21116    PR6112       182             1665  indeterminate\n",
       "1  Rep10102        C21116    PR6112       182             1740  indeterminate\n",
       "2  Rep10103        C21116    PR6253       101             1040  indeterminate\n",
       "3  Rep10104        C21116    PR6253       283             4495             No\n",
       "4  Rep10105        C21116    PR6294       108             1465  indeterminate"
      ]
     },
     "execution_count": 5,
     "metadata": {},
     "output_type": "execute_result"
    }
   ],
   "source": [
    "dftrain.head()"
   ]
  },
  {
   "cell_type": "code",
   "execution_count": 234,
   "metadata": {},
   "outputs": [
    {
     "data": {
      "text/html": [
       "<div>\n",
       "<style scoped>\n",
       "    .dataframe tbody tr th:only-of-type {\n",
       "        vertical-align: middle;\n",
       "    }\n",
       "\n",
       "    .dataframe tbody tr th {\n",
       "        vertical-align: top;\n",
       "    }\n",
       "\n",
       "    .dataframe thead th {\n",
       "        text-align: right;\n",
       "    }\n",
       "</style>\n",
       "<table border=\"1\" class=\"dataframe\">\n",
       "  <thead>\n",
       "    <tr style=\"text-align: right;\">\n",
       "      <th></th>\n",
       "      <th>Quantity</th>\n",
       "      <th>TotalSalesValue</th>\n",
       "      <th>Suspicious</th>\n",
       "      <th>OneUnitSalesValue</th>\n",
       "      <th>AvgSelingPrice</th>\n",
       "      <th>AvgQuantity</th>\n",
       "      <th>AvgQuantityperguy</th>\n",
       "      <th>AvgQuantityperProduct</th>\n",
       "      <th>AvgSalesValueperProduct</th>\n",
       "      <th>AvgTransactionsSalesPrice</th>\n",
       "      <th>RatioOfQuantitySold</th>\n",
       "      <th>Total Pro SSP</th>\n",
       "      <th>RatioOfQuantiy</th>\n",
       "      <th>TransactionsPerProduct</th>\n",
       "      <th>TransactionsPerPerson</th>\n",
       "      <th>TotalValueOfProductPerPerson</th>\n",
       "      <th>AvgPricePerProduct</th>\n",
       "      <th>AvgSellingQuantitySalesPerson</th>\n",
       "    </tr>\n",
       "  </thead>\n",
       "  <tbody>\n",
       "    <tr>\n",
       "      <th>count</th>\n",
       "      <td>4.258200e+04</td>\n",
       "      <td>4.258200e+04</td>\n",
       "      <td>42582.000000</td>\n",
       "      <td>42582.000000</td>\n",
       "      <td>4.258200e+04</td>\n",
       "      <td>4.258200e+04</td>\n",
       "      <td>42582.000000</td>\n",
       "      <td>42582.000000</td>\n",
       "      <td>42582.000000</td>\n",
       "      <td>42582.000000</td>\n",
       "      <td>42582.000000</td>\n",
       "      <td>4.258200e+04</td>\n",
       "      <td>42582.000000</td>\n",
       "      <td>42582.000000</td>\n",
       "      <td>42582.000000</td>\n",
       "      <td>4.258200e+04</td>\n",
       "      <td>42582.000000</td>\n",
       "      <td>42582.000000</td>\n",
       "    </tr>\n",
       "    <tr>\n",
       "      <th>mean</th>\n",
       "      <td>4.910048e+03</td>\n",
       "      <td>1.620923e+04</td>\n",
       "      <td>2.931497</td>\n",
       "      <td>16.372971</td>\n",
       "      <td>1.620923e+04</td>\n",
       "      <td>4.910048e+03</td>\n",
       "      <td>4910.048354</td>\n",
       "      <td>4910.048354</td>\n",
       "      <td>16209.229886</td>\n",
       "      <td>16209.229886</td>\n",
       "      <td>1.000000</td>\n",
       "      <td>1.429621e+05</td>\n",
       "      <td>1.000000</td>\n",
       "      <td>370.863369</td>\n",
       "      <td>177.615424</td>\n",
       "      <td>3.551024e+05</td>\n",
       "      <td>16.372971</td>\n",
       "      <td>4910.048354</td>\n",
       "    </tr>\n",
       "    <tr>\n",
       "      <th>std</th>\n",
       "      <td>9.833621e+04</td>\n",
       "      <td>5.997195e+04</td>\n",
       "      <td>0.268911</td>\n",
       "      <td>79.544612</td>\n",
       "      <td>4.553143e+04</td>\n",
       "      <td>2.786132e+04</td>\n",
       "      <td>19387.262029</td>\n",
       "      <td>15989.026680</td>\n",
       "      <td>27416.043266</td>\n",
       "      <td>25713.607066</td>\n",
       "      <td>3.250518</td>\n",
       "      <td>8.841126e+05</td>\n",
       "      <td>0.729992</td>\n",
       "      <td>615.520014</td>\n",
       "      <td>253.469319</td>\n",
       "      <td>1.143535e+06</td>\n",
       "      <td>12.506009</td>\n",
       "      <td>19387.262029</td>\n",
       "    </tr>\n",
       "    <tr>\n",
       "      <th>min</th>\n",
       "      <td>3.300000e+01</td>\n",
       "      <td>5.980000e+02</td>\n",
       "      <td>1.000000</td>\n",
       "      <td>0.005320</td>\n",
       "      <td>6.000000e+02</td>\n",
       "      <td>3.500000e+01</td>\n",
       "      <td>85.000000</td>\n",
       "      <td>70.724138</td>\n",
       "      <td>1042.500000</td>\n",
       "      <td>1005.000000</td>\n",
       "      <td>0.000737</td>\n",
       "      <td>3.500000e+01</td>\n",
       "      <td>0.000216</td>\n",
       "      <td>1.000000</td>\n",
       "      <td>1.000000</td>\n",
       "      <td>8.650000e+02</td>\n",
       "      <td>0.209950</td>\n",
       "      <td>85.000000</td>\n",
       "    </tr>\n",
       "    <tr>\n",
       "      <th>25%</th>\n",
       "      <td>1.110000e+02</td>\n",
       "      <td>1.345000e+03</td>\n",
       "      <td>3.000000</td>\n",
       "      <td>6.781874</td>\n",
       "      <td>1.772500e+03</td>\n",
       "      <td>1.265000e+02</td>\n",
       "      <td>207.071429</td>\n",
       "      <td>350.950649</td>\n",
       "      <td>4509.334737</td>\n",
       "      <td>3090.000000</td>\n",
       "      <td>0.211610</td>\n",
       "      <td>1.119000e+03</td>\n",
       "      <td>0.658225</td>\n",
       "      <td>62.000000</td>\n",
       "      <td>38.000000</td>\n",
       "      <td>1.420500e+04</td>\n",
       "      <td>9.673872</td>\n",
       "      <td>207.071429</td>\n",
       "    </tr>\n",
       "    <tr>\n",
       "      <th>50%</th>\n",
       "      <td>2.060000e+02</td>\n",
       "      <td>2.980000e+03</td>\n",
       "      <td>3.000000</td>\n",
       "      <td>10.742574</td>\n",
       "      <td>4.599667e+03</td>\n",
       "      <td>2.912500e+02</td>\n",
       "      <td>543.000000</td>\n",
       "      <td>658.355408</td>\n",
       "      <td>8257.249147</td>\n",
       "      <td>8158.020134</td>\n",
       "      <td>0.430518</td>\n",
       "      <td>3.898000e+03</td>\n",
       "      <td>0.977249</td>\n",
       "      <td>153.000000</td>\n",
       "      <td>79.000000</td>\n",
       "      <td>5.413500e+04</td>\n",
       "      <td>14.164825</td>\n",
       "      <td>543.000000</td>\n",
       "    </tr>\n",
       "    <tr>\n",
       "      <th>75%</th>\n",
       "      <td>1.136000e+03</td>\n",
       "      <td>1.076500e+04</td>\n",
       "      <td>3.000000</td>\n",
       "      <td>16.385542</td>\n",
       "      <td>1.400333e+04</td>\n",
       "      <td>1.517000e+03</td>\n",
       "      <td>2956.138539</td>\n",
       "      <td>2477.636364</td>\n",
       "      <td>18344.122517</td>\n",
       "      <td>19361.166667</td>\n",
       "      <td>0.947844</td>\n",
       "      <td>2.129100e+04</td>\n",
       "      <td>1.116435</td>\n",
       "      <td>373.000000</td>\n",
       "      <td>266.000000</td>\n",
       "      <td>2.102600e+05</td>\n",
       "      <td>20.898267</td>\n",
       "      <td>2956.138539</td>\n",
       "    </tr>\n",
       "    <tr>\n",
       "      <th>max</th>\n",
       "      <td>1.970813e+07</td>\n",
       "      <td>3.953985e+06</td>\n",
       "      <td>3.000000</td>\n",
       "      <td>11297.100000</td>\n",
       "      <td>1.187479e+06</td>\n",
       "      <td>1.023265e+06</td>\n",
       "      <td>407988.750000</td>\n",
       "      <td>241711.181818</td>\n",
       "      <td>684285.862069</td>\n",
       "      <td>529608.636364</td>\n",
       "      <td>252.801294</td>\n",
       "      <td>2.046530e+07</td>\n",
       "      <td>33.638545</td>\n",
       "      <td>2590.000000</td>\n",
       "      <td>1359.000000</td>\n",
       "      <td>1.965921e+07</td>\n",
       "      <td>209.911386</td>\n",
       "      <td>407988.750000</td>\n",
       "    </tr>\n",
       "  </tbody>\n",
       "</table>\n",
       "</div>"
      ],
      "text/plain": [
       "           Quantity  TotalSalesValue    Suspicious  OneUnitSalesValue  \\\n",
       "count  4.258200e+04     4.258200e+04  42582.000000       42582.000000   \n",
       "mean   4.910048e+03     1.620923e+04      2.931497          16.372971   \n",
       "std    9.833621e+04     5.997195e+04      0.268911          79.544612   \n",
       "min    3.300000e+01     5.980000e+02      1.000000           0.005320   \n",
       "25%    1.110000e+02     1.345000e+03      3.000000           6.781874   \n",
       "50%    2.060000e+02     2.980000e+03      3.000000          10.742574   \n",
       "75%    1.136000e+03     1.076500e+04      3.000000          16.385542   \n",
       "max    1.970813e+07     3.953985e+06      3.000000       11297.100000   \n",
       "\n",
       "       AvgSelingPrice   AvgQuantity  AvgQuantityperguy  AvgQuantityperProduct  \\\n",
       "count    4.258200e+04  4.258200e+04       42582.000000           42582.000000   \n",
       "mean     1.620923e+04  4.910048e+03        4910.048354            4910.048354   \n",
       "std      4.553143e+04  2.786132e+04       19387.262029           15989.026680   \n",
       "min      6.000000e+02  3.500000e+01          85.000000              70.724138   \n",
       "25%      1.772500e+03  1.265000e+02         207.071429             350.950649   \n",
       "50%      4.599667e+03  2.912500e+02         543.000000             658.355408   \n",
       "75%      1.400333e+04  1.517000e+03        2956.138539            2477.636364   \n",
       "max      1.187479e+06  1.023265e+06      407988.750000          241711.181818   \n",
       "\n",
       "       AvgSalesValueperProduct  AvgTransactionsSalesPrice  \\\n",
       "count             42582.000000               42582.000000   \n",
       "mean              16209.229886               16209.229886   \n",
       "std               27416.043266               25713.607066   \n",
       "min                1042.500000                1005.000000   \n",
       "25%                4509.334737                3090.000000   \n",
       "50%                8257.249147                8158.020134   \n",
       "75%               18344.122517               19361.166667   \n",
       "max              684285.862069              529608.636364   \n",
       "\n",
       "       RatioOfQuantitySold  Total Pro SSP  RatioOfQuantiy  \\\n",
       "count         42582.000000   4.258200e+04    42582.000000   \n",
       "mean              1.000000   1.429621e+05        1.000000   \n",
       "std               3.250518   8.841126e+05        0.729992   \n",
       "min               0.000737   3.500000e+01        0.000216   \n",
       "25%               0.211610   1.119000e+03        0.658225   \n",
       "50%               0.430518   3.898000e+03        0.977249   \n",
       "75%               0.947844   2.129100e+04        1.116435   \n",
       "max             252.801294   2.046530e+07       33.638545   \n",
       "\n",
       "       TransactionsPerProduct  TransactionsPerPerson  \\\n",
       "count            42582.000000           42582.000000   \n",
       "mean               370.863369             177.615424   \n",
       "std                615.520014             253.469319   \n",
       "min                  1.000000               1.000000   \n",
       "25%                 62.000000              38.000000   \n",
       "50%                153.000000              79.000000   \n",
       "75%                373.000000             266.000000   \n",
       "max               2590.000000            1359.000000   \n",
       "\n",
       "       TotalValueOfProductPerPerson  AvgPricePerProduct  \\\n",
       "count                  4.258200e+04        42582.000000   \n",
       "mean                   3.551024e+05           16.372971   \n",
       "std                    1.143535e+06           12.506009   \n",
       "min                    8.650000e+02            0.209950   \n",
       "25%                    1.420500e+04            9.673872   \n",
       "50%                    5.413500e+04           14.164825   \n",
       "75%                    2.102600e+05           20.898267   \n",
       "max                    1.965921e+07          209.911386   \n",
       "\n",
       "       AvgSellingQuantitySalesPerson  \n",
       "count                   42582.000000  \n",
       "mean                     4910.048354  \n",
       "std                     19387.262029  \n",
       "min                        85.000000  \n",
       "25%                       207.071429  \n",
       "50%                       543.000000  \n",
       "75%                      2956.138539  \n",
       "max                    407988.750000  "
      ]
     },
     "execution_count": 234,
     "metadata": {},
     "output_type": "execute_result"
    }
   ],
   "source": [
    "dftrain.describe()"
   ]
  },
  {
   "cell_type": "code",
   "execution_count": 235,
   "metadata": {
    "scrolled": false
   },
   "outputs": [
    {
     "data": {
      "text/html": [
       "<div>\n",
       "<style scoped>\n",
       "    .dataframe tbody tr th:only-of-type {\n",
       "        vertical-align: middle;\n",
       "    }\n",
       "\n",
       "    .dataframe tbody tr th {\n",
       "        vertical-align: top;\n",
       "    }\n",
       "\n",
       "    .dataframe thead th {\n",
       "        text-align: right;\n",
       "    }\n",
       "</style>\n",
       "<table border=\"1\" class=\"dataframe\">\n",
       "  <thead>\n",
       "    <tr style=\"text-align: right;\">\n",
       "      <th></th>\n",
       "      <th>Quantity</th>\n",
       "      <th>TotalSalesValue</th>\n",
       "      <th>OneUnitSalesValue</th>\n",
       "      <th>AvgSelingPrice</th>\n",
       "      <th>AvgQuantity</th>\n",
       "      <th>AvgQuantityperguy</th>\n",
       "      <th>AvgQuantityperProduct</th>\n",
       "      <th>AvgSalesValueperProduct</th>\n",
       "      <th>AvgTransactionsSalesPrice</th>\n",
       "      <th>RatioOfQuantitySold</th>\n",
       "      <th>Total Pro SSP</th>\n",
       "      <th>RatioOfQuantiy</th>\n",
       "      <th>TransactionsPerProduct</th>\n",
       "      <th>TransactionsPerPerson</th>\n",
       "      <th>TotalValueOfProductPerPerson</th>\n",
       "      <th>AvgPricePerProduct</th>\n",
       "      <th>AvgSellingQuantitySalesPerson</th>\n",
       "    </tr>\n",
       "  </thead>\n",
       "  <tbody>\n",
       "    <tr>\n",
       "      <th>count</th>\n",
       "      <td>9.135000e+03</td>\n",
       "      <td>9.135000e+03</td>\n",
       "      <td>9135.000000</td>\n",
       "      <td>9.135000e+03</td>\n",
       "      <td>9135.000000</td>\n",
       "      <td>9135.000000</td>\n",
       "      <td>9135.000000</td>\n",
       "      <td>9135.000000</td>\n",
       "      <td>9135.000000</td>\n",
       "      <td>9135.000000</td>\n",
       "      <td>9.135000e+03</td>\n",
       "      <td>9135.000000</td>\n",
       "      <td>9135.000000</td>\n",
       "      <td>9135.000000</td>\n",
       "      <td>9.135000e+03</td>\n",
       "      <td>9135.000000</td>\n",
       "      <td>9135.000000</td>\n",
       "    </tr>\n",
       "    <tr>\n",
       "      <th>mean</th>\n",
       "      <td>3.096870e+03</td>\n",
       "      <td>1.154211e+04</td>\n",
       "      <td>61.291538</td>\n",
       "      <td>1.154211e+04</td>\n",
       "      <td>3096.869622</td>\n",
       "      <td>3096.869622</td>\n",
       "      <td>3096.869622</td>\n",
       "      <td>11542.113629</td>\n",
       "      <td>11542.113629</td>\n",
       "      <td>1.000000</td>\n",
       "      <td>5.241753e+04</td>\n",
       "      <td>1.000000</td>\n",
       "      <td>94.481554</td>\n",
       "      <td>184.620361</td>\n",
       "      <td>1.813843e+05</td>\n",
       "      <td>61.291538</td>\n",
       "      <td>3096.869622</td>\n",
       "    </tr>\n",
       "    <tr>\n",
       "      <th>std</th>\n",
       "      <td>2.230443e+04</td>\n",
       "      <td>3.671294e+04</td>\n",
       "      <td>225.660328</td>\n",
       "      <td>3.100267e+04</td>\n",
       "      <td>16004.710679</td>\n",
       "      <td>10995.345135</td>\n",
       "      <td>12302.473044</td>\n",
       "      <td>18416.011424</td>\n",
       "      <td>20158.375063</td>\n",
       "      <td>1.780042</td>\n",
       "      <td>2.529150e+05</td>\n",
       "      <td>0.701822</td>\n",
       "      <td>145.929255</td>\n",
       "      <td>262.260189</td>\n",
       "      <td>4.705023e+05</td>\n",
       "      <td>116.401299</td>\n",
       "      <td>10995.345135</td>\n",
       "    </tr>\n",
       "    <tr>\n",
       "      <th>min</th>\n",
       "      <td>3.500000e+01</td>\n",
       "      <td>9.350000e+02</td>\n",
       "      <td>0.004675</td>\n",
       "      <td>1.005000e+03</td>\n",
       "      <td>37.000000</td>\n",
       "      <td>92.000000</td>\n",
       "      <td>55.000000</td>\n",
       "      <td>1005.000000</td>\n",
       "      <td>1025.000000</td>\n",
       "      <td>0.001996</td>\n",
       "      <td>3.700000e+01</td>\n",
       "      <td>0.002042</td>\n",
       "      <td>1.000000</td>\n",
       "      <td>1.000000</td>\n",
       "      <td>1.005000e+03</td>\n",
       "      <td>0.034082</td>\n",
       "      <td>92.000000</td>\n",
       "    </tr>\n",
       "    <tr>\n",
       "      <th>25%</th>\n",
       "      <td>1.070000e+02</td>\n",
       "      <td>1.205000e+03</td>\n",
       "      <td>1.706336</td>\n",
       "      <td>1.375000e+03</td>\n",
       "      <td>118.250000</td>\n",
       "      <td>164.895522</td>\n",
       "      <td>167.426230</td>\n",
       "      <td>2342.863248</td>\n",
       "      <td>2411.525424</td>\n",
       "      <td>0.308446</td>\n",
       "      <td>9.820000e+02</td>\n",
       "      <td>0.749127</td>\n",
       "      <td>22.000000</td>\n",
       "      <td>30.000000</td>\n",
       "      <td>1.186500e+04</td>\n",
       "      <td>9.748638</td>\n",
       "      <td>164.895522</td>\n",
       "    </tr>\n",
       "    <tr>\n",
       "      <th>50%</th>\n",
       "      <td>1.610000e+02</td>\n",
       "      <td>2.235000e+03</td>\n",
       "      <td>9.857143</td>\n",
       "      <td>2.940000e+03</td>\n",
       "      <td>211.000000</td>\n",
       "      <td>480.216049</td>\n",
       "      <td>476.740741</td>\n",
       "      <td>5101.100993</td>\n",
       "      <td>5849.861111</td>\n",
       "      <td>0.732026</td>\n",
       "      <td>3.098000e+03</td>\n",
       "      <td>0.983326</td>\n",
       "      <td>46.000000</td>\n",
       "      <td>68.000000</td>\n",
       "      <td>3.476000e+04</td>\n",
       "      <td>22.108794</td>\n",
       "      <td>480.216049</td>\n",
       "    </tr>\n",
       "    <tr>\n",
       "      <th>75%</th>\n",
       "      <td>6.800000e+02</td>\n",
       "      <td>7.817500e+03</td>\n",
       "      <td>29.049754</td>\n",
       "      <td>1.058321e+04</td>\n",
       "      <td>976.000000</td>\n",
       "      <td>1928.676471</td>\n",
       "      <td>1628.558140</td>\n",
       "      <td>14769.500000</td>\n",
       "      <td>15692.597087</td>\n",
       "      <td>1.058512</td>\n",
       "      <td>9.029000e+03</td>\n",
       "      <td>1.088290</td>\n",
       "      <td>86.000000</td>\n",
       "      <td>185.000000</td>\n",
       "      <td>1.188650e+05</td>\n",
       "      <td>69.575288</td>\n",
       "      <td>1928.676471</td>\n",
       "    </tr>\n",
       "    <tr>\n",
       "      <th>max</th>\n",
       "      <td>1.215516e+06</td>\n",
       "      <td>1.298690e+06</td>\n",
       "      <td>4565.735294</td>\n",
       "      <td>1.159102e+06</td>\n",
       "      <td>433039.750000</td>\n",
       "      <td>127214.175000</td>\n",
       "      <td>211548.823529</td>\n",
       "      <td>213000.714286</td>\n",
       "      <td>365809.615385</td>\n",
       "      <td>77.101539</td>\n",
       "      <td>3.464318e+06</td>\n",
       "      <td>27.776330</td>\n",
       "      <td>604.000000</td>\n",
       "      <td>875.000000</td>\n",
       "      <td>3.477305e+06</td>\n",
       "      <td>1384.310942</td>\n",
       "      <td>127214.175000</td>\n",
       "    </tr>\n",
       "  </tbody>\n",
       "</table>\n",
       "</div>"
      ],
      "text/plain": [
       "           Quantity  TotalSalesValue  OneUnitSalesValue  AvgSelingPrice  \\\n",
       "count  9.135000e+03     9.135000e+03        9135.000000    9.135000e+03   \n",
       "mean   3.096870e+03     1.154211e+04          61.291538    1.154211e+04   \n",
       "std    2.230443e+04     3.671294e+04         225.660328    3.100267e+04   \n",
       "min    3.500000e+01     9.350000e+02           0.004675    1.005000e+03   \n",
       "25%    1.070000e+02     1.205000e+03           1.706336    1.375000e+03   \n",
       "50%    1.610000e+02     2.235000e+03           9.857143    2.940000e+03   \n",
       "75%    6.800000e+02     7.817500e+03          29.049754    1.058321e+04   \n",
       "max    1.215516e+06     1.298690e+06        4565.735294    1.159102e+06   \n",
       "\n",
       "         AvgQuantity  AvgQuantityperguy  AvgQuantityperProduct  \\\n",
       "count    9135.000000        9135.000000            9135.000000   \n",
       "mean     3096.869622        3096.869622            3096.869622   \n",
       "std     16004.710679       10995.345135           12302.473044   \n",
       "min        37.000000          92.000000              55.000000   \n",
       "25%       118.250000         164.895522             167.426230   \n",
       "50%       211.000000         480.216049             476.740741   \n",
       "75%       976.000000        1928.676471            1628.558140   \n",
       "max    433039.750000      127214.175000          211548.823529   \n",
       "\n",
       "       AvgSalesValueperProduct  AvgTransactionsSalesPrice  \\\n",
       "count              9135.000000                9135.000000   \n",
       "mean              11542.113629               11542.113629   \n",
       "std               18416.011424               20158.375063   \n",
       "min                1005.000000                1025.000000   \n",
       "25%                2342.863248                2411.525424   \n",
       "50%                5101.100993                5849.861111   \n",
       "75%               14769.500000               15692.597087   \n",
       "max              213000.714286              365809.615385   \n",
       "\n",
       "       RatioOfQuantitySold  Total Pro SSP  RatioOfQuantiy  \\\n",
       "count          9135.000000   9.135000e+03     9135.000000   \n",
       "mean              1.000000   5.241753e+04        1.000000   \n",
       "std               1.780042   2.529150e+05        0.701822   \n",
       "min               0.001996   3.700000e+01        0.002042   \n",
       "25%               0.308446   9.820000e+02        0.749127   \n",
       "50%               0.732026   3.098000e+03        0.983326   \n",
       "75%               1.058512   9.029000e+03        1.088290   \n",
       "max              77.101539   3.464318e+06       27.776330   \n",
       "\n",
       "       TransactionsPerProduct  TransactionsPerPerson  \\\n",
       "count             9135.000000            9135.000000   \n",
       "mean                94.481554             184.620361   \n",
       "std                145.929255             262.260189   \n",
       "min                  1.000000               1.000000   \n",
       "25%                 22.000000              30.000000   \n",
       "50%                 46.000000              68.000000   \n",
       "75%                 86.000000             185.000000   \n",
       "max                604.000000             875.000000   \n",
       "\n",
       "       TotalValueOfProductPerPerson  AvgPricePerProduct  \\\n",
       "count                  9.135000e+03         9135.000000   \n",
       "mean                   1.813843e+05           61.291538   \n",
       "std                    4.705023e+05          116.401299   \n",
       "min                    1.005000e+03            0.034082   \n",
       "25%                    1.186500e+04            9.748638   \n",
       "50%                    3.476000e+04           22.108794   \n",
       "75%                    1.188650e+05           69.575288   \n",
       "max                    3.477305e+06         1384.310942   \n",
       "\n",
       "       AvgSellingQuantitySalesPerson  \n",
       "count                    9135.000000  \n",
       "mean                     3096.869622  \n",
       "std                     10995.345135  \n",
       "min                        92.000000  \n",
       "25%                       164.895522  \n",
       "50%                       480.216049  \n",
       "75%                      1928.676471  \n",
       "max                    127214.175000  "
      ]
     },
     "execution_count": 235,
     "metadata": {},
     "output_type": "execute_result"
    }
   ],
   "source": [
    "dftest.describe()"
   ]
  },
  {
   "cell_type": "code",
   "execution_count": 236,
   "metadata": {},
   "outputs": [
    {
     "name": "stdout",
     "output_type": "stream",
     "text": [
      "<class 'pandas.core.frame.DataFrame'>\n",
      "Index: 42582 entries, 0 to 42581\n",
      "Data columns (total 21 columns):\n",
      "ReportID                         42582 non-null object\n",
      "SalesPersonID                    42582 non-null object\n",
      "ProductID                        42582 non-null object\n",
      "Quantity                         42582 non-null int64\n",
      "TotalSalesValue                  42582 non-null int64\n",
      "Suspicious                       42582 non-null int64\n",
      "OneUnitSalesValue                42582 non-null float64\n",
      "AvgSelingPrice                   42582 non-null float64\n",
      "AvgQuantity                      42582 non-null float64\n",
      "AvgQuantityperguy                42582 non-null float64\n",
      "AvgQuantityperProduct            42582 non-null float64\n",
      "AvgSalesValueperProduct          42582 non-null float64\n",
      "AvgTransactionsSalesPrice        42582 non-null float64\n",
      "RatioOfQuantitySold              42582 non-null float64\n",
      "Total Pro SSP                    42582 non-null int64\n",
      "RatioOfQuantiy                   42582 non-null float64\n",
      "TransactionsPerProduct           42582 non-null int64\n",
      "TransactionsPerPerson            42582 non-null int64\n",
      "TotalValueOfProductPerPerson     42582 non-null int64\n",
      "AvgPricePerProduct               42582 non-null float64\n",
      "AvgSellingQuantitySalesPerson    42582 non-null float64\n",
      "dtypes: float64(11), int64(7), object(3)\n",
      "memory usage: 8.4+ MB\n"
     ]
    }
   ],
   "source": [
    "dftrain.info() "
   ]
  },
  {
   "cell_type": "code",
   "execution_count": 238,
   "metadata": {},
   "outputs": [
    {
     "name": "stdout",
     "output_type": "stream",
     "text": [
      "<class 'pandas.core.frame.DataFrame'>\n",
      "Index: 9135 entries, 0 to 9134\n",
      "Data columns (total 20 columns):\n",
      "ReportID                         9135 non-null object\n",
      "SalesPersonID                    9135 non-null object\n",
      "ProductID                        9135 non-null object\n",
      "Quantity                         9135 non-null int64\n",
      "TotalSalesValue                  9135 non-null int64\n",
      "OneUnitSalesValue                9135 non-null float64\n",
      "AvgSelingPrice                   9135 non-null float64\n",
      "AvgQuantity                      9135 non-null float64\n",
      "AvgQuantityperguy                9135 non-null float64\n",
      "AvgQuantityperProduct            9135 non-null float64\n",
      "AvgSalesValueperProduct          9135 non-null float64\n",
      "AvgTransactionsSalesPrice        9135 non-null float64\n",
      "RatioOfQuantitySold              9135 non-null float64\n",
      "Total Pro SSP                    9135 non-null int64\n",
      "RatioOfQuantiy                   9135 non-null float64\n",
      "TransactionsPerProduct           9135 non-null int64\n",
      "TransactionsPerPerson            9135 non-null int64\n",
      "TotalValueOfProductPerPerson     9135 non-null int64\n",
      "AvgPricePerProduct               9135 non-null float64\n",
      "AvgSellingQuantitySalesPerson    9135 non-null float64\n",
      "dtypes: float64(11), int64(6), object(3)\n",
      "memory usage: 1.5+ MB\n"
     ]
    }
   ],
   "source": [
    "dftest.info()"
   ]
  },
  {
   "cell_type": "code",
   "execution_count": null,
   "metadata": {},
   "outputs": [],
   "source": []
  },
  {
   "cell_type": "markdown",
   "metadata": {},
   "source": [
    "## Creating more attributes  \n",
    "If new attributes can or help define the variables in the target attributes and the model will \n",
    "be able to understand difference between the Yes No and indeterminate and predict better"
   ]
  },
  {
   "cell_type": "markdown",
   "metadata": {},
   "source": [
    "### oneunitSalesValue:\n",
    "Price for a unit value "
   ]
  },
  {
   "cell_type": "code",
   "execution_count": 7,
   "metadata": {
    "scrolled": true
   },
   "outputs": [
    {
     "data": {
      "text/html": [
       "<div>\n",
       "<style scoped>\n",
       "    .dataframe tbody tr th:only-of-type {\n",
       "        vertical-align: middle;\n",
       "    }\n",
       "\n",
       "    .dataframe tbody tr th {\n",
       "        vertical-align: top;\n",
       "    }\n",
       "\n",
       "    .dataframe thead th {\n",
       "        text-align: right;\n",
       "    }\n",
       "</style>\n",
       "<table border=\"1\" class=\"dataframe\">\n",
       "  <thead>\n",
       "    <tr style=\"text-align: right;\">\n",
       "      <th></th>\n",
       "      <th>ReportID</th>\n",
       "      <th>SalesPersonID</th>\n",
       "      <th>ProductID</th>\n",
       "      <th>Quantity</th>\n",
       "      <th>TotalSalesValue</th>\n",
       "      <th>Suspicious</th>\n",
       "      <th>OneUnitSalesValue</th>\n",
       "    </tr>\n",
       "  </thead>\n",
       "  <tbody>\n",
       "    <tr>\n",
       "      <th>0</th>\n",
       "      <td>Rep10101</td>\n",
       "      <td>C21116</td>\n",
       "      <td>PR6112</td>\n",
       "      <td>182</td>\n",
       "      <td>1665</td>\n",
       "      <td>indeterminate</td>\n",
       "      <td>9.148352</td>\n",
       "    </tr>\n",
       "    <tr>\n",
       "      <th>1</th>\n",
       "      <td>Rep10102</td>\n",
       "      <td>C21116</td>\n",
       "      <td>PR6112</td>\n",
       "      <td>182</td>\n",
       "      <td>1740</td>\n",
       "      <td>indeterminate</td>\n",
       "      <td>9.560440</td>\n",
       "    </tr>\n",
       "    <tr>\n",
       "      <th>2</th>\n",
       "      <td>Rep10103</td>\n",
       "      <td>C21116</td>\n",
       "      <td>PR6253</td>\n",
       "      <td>101</td>\n",
       "      <td>1040</td>\n",
       "      <td>indeterminate</td>\n",
       "      <td>10.297030</td>\n",
       "    </tr>\n",
       "    <tr>\n",
       "      <th>3</th>\n",
       "      <td>Rep10104</td>\n",
       "      <td>C21116</td>\n",
       "      <td>PR6253</td>\n",
       "      <td>283</td>\n",
       "      <td>4495</td>\n",
       "      <td>No</td>\n",
       "      <td>15.883392</td>\n",
       "    </tr>\n",
       "    <tr>\n",
       "      <th>4</th>\n",
       "      <td>Rep10105</td>\n",
       "      <td>C21116</td>\n",
       "      <td>PR6294</td>\n",
       "      <td>108</td>\n",
       "      <td>1465</td>\n",
       "      <td>indeterminate</td>\n",
       "      <td>13.564815</td>\n",
       "    </tr>\n",
       "  </tbody>\n",
       "</table>\n",
       "</div>"
      ],
      "text/plain": [
       "   ReportID SalesPersonID ProductID  Quantity  TotalSalesValue     Suspicious  \\\n",
       "0  Rep10101        C21116    PR6112       182             1665  indeterminate   \n",
       "1  Rep10102        C21116    PR6112       182             1740  indeterminate   \n",
       "2  Rep10103        C21116    PR6253       101             1040  indeterminate   \n",
       "3  Rep10104        C21116    PR6253       283             4495             No   \n",
       "4  Rep10105        C21116    PR6294       108             1465  indeterminate   \n",
       "\n",
       "   OneUnitSalesValue  \n",
       "0           9.148352  \n",
       "1           9.560440  \n",
       "2          10.297030  \n",
       "3          15.883392  \n",
       "4          13.564815  "
      ]
     },
     "execution_count": 7,
     "metadata": {},
     "output_type": "execute_result"
    }
   ],
   "source": [
    "oneunitSalesValue = dftrain['TotalSalesValue']/dftrain['Quantity']\n",
    "dftrain[\"OneUnitSalesValue\"]=oneunitSalesValue\n",
    "dftrain.head()"
   ]
  },
  {
   "cell_type": "code",
   "execution_count": 8,
   "metadata": {},
   "outputs": [
    {
     "data": {
      "text/html": [
       "<div>\n",
       "<style scoped>\n",
       "    .dataframe tbody tr th:only-of-type {\n",
       "        vertical-align: middle;\n",
       "    }\n",
       "\n",
       "    .dataframe tbody tr th {\n",
       "        vertical-align: top;\n",
       "    }\n",
       "\n",
       "    .dataframe thead th {\n",
       "        text-align: right;\n",
       "    }\n",
       "</style>\n",
       "<table border=\"1\" class=\"dataframe\">\n",
       "  <thead>\n",
       "    <tr style=\"text-align: right;\">\n",
       "      <th></th>\n",
       "      <th>ReportID</th>\n",
       "      <th>SalesPersonID</th>\n",
       "      <th>ProductID</th>\n",
       "      <th>Quantity</th>\n",
       "      <th>TotalSalesValue</th>\n",
       "      <th>OneUnitSalesValue</th>\n",
       "    </tr>\n",
       "  </thead>\n",
       "  <tbody>\n",
       "    <tr>\n",
       "      <th>0</th>\n",
       "      <td>Rep70101</td>\n",
       "      <td>C21844</td>\n",
       "      <td>PR6483</td>\n",
       "      <td>102</td>\n",
       "      <td>1115</td>\n",
       "      <td>6.126374</td>\n",
       "    </tr>\n",
       "    <tr>\n",
       "      <th>1</th>\n",
       "      <td>Rep70102</td>\n",
       "      <td>C21844</td>\n",
       "      <td>PR6251</td>\n",
       "      <td>102</td>\n",
       "      <td>1050</td>\n",
       "      <td>5.769231</td>\n",
       "    </tr>\n",
       "    <tr>\n",
       "      <th>2</th>\n",
       "      <td>Rep70103</td>\n",
       "      <td>C21844</td>\n",
       "      <td>PR6253</td>\n",
       "      <td>344</td>\n",
       "      <td>3490</td>\n",
       "      <td>34.554455</td>\n",
       "    </tr>\n",
       "    <tr>\n",
       "      <th>3</th>\n",
       "      <td>Rep70104</td>\n",
       "      <td>C21844</td>\n",
       "      <td>PR6378</td>\n",
       "      <td>108</td>\n",
       "      <td>1095</td>\n",
       "      <td>3.869258</td>\n",
       "    </tr>\n",
       "    <tr>\n",
       "      <th>4</th>\n",
       "      <td>Rep70105</td>\n",
       "      <td>C21844</td>\n",
       "      <td>PR6463</td>\n",
       "      <td>146</td>\n",
       "      <td>1055</td>\n",
       "      <td>9.768519</td>\n",
       "    </tr>\n",
       "  </tbody>\n",
       "</table>\n",
       "</div>"
      ],
      "text/plain": [
       "   ReportID SalesPersonID ProductID  Quantity  TotalSalesValue  \\\n",
       "0  Rep70101        C21844    PR6483       102             1115   \n",
       "1  Rep70102        C21844    PR6251       102             1050   \n",
       "2  Rep70103        C21844    PR6253       344             3490   \n",
       "3  Rep70104        C21844    PR6378       108             1095   \n",
       "4  Rep70105        C21844    PR6463       146             1055   \n",
       "\n",
       "   OneUnitSalesValue  \n",
       "0           6.126374  \n",
       "1           5.769231  \n",
       "2          34.554455  \n",
       "3           3.869258  \n",
       "4           9.768519  "
      ]
     },
     "execution_count": 8,
     "metadata": {},
     "output_type": "execute_result"
    }
   ],
   "source": [
    "oneunitSalesValue = dftest['TotalSalesValue']/dftrain['Quantity']\n",
    "dftest[\"OneUnitSalesValue\"]=oneunitSalesValue\n",
    "dftest.head()"
   ]
  },
  {
   "cell_type": "markdown",
   "metadata": {},
   "source": [
    "### looking at where its contributing more "
   ]
  },
  {
   "cell_type": "code",
   "execution_count": 9,
   "metadata": {
    "scrolled": true
   },
   "outputs": [
    {
     "data": {
      "text/plain": [
       "<matplotlib.axes._subplots.AxesSubplot at 0x1d908df52e8>"
      ]
     },
     "execution_count": 9,
     "metadata": {},
     "output_type": "execute_result"
    },
    {
     "data": {
      "image/png": "[encoded data removed]",
      "text/plain": [
       "<Figure size 432x288 with 1 Axes>"
      ]
     },
     "metadata": {},
     "output_type": "display_data"
    }
   ],
   "source": [
    "dftrain.groupby(['Suspicious'])[['OneUnitSalesValue']].mean().plot.bar(color = \"#b53838\")"
   ]
  },
  {
   "cell_type": "code",
   "execution_count": 10,
   "metadata": {},
   "outputs": [],
   "source": [
    "#dftrain.drop(dftrain['AvgUnitSales'],axis = 1)"
   ]
  },
  {
   "cell_type": "markdown",
   "metadata": {},
   "source": [
    "### AvgSelingPrice :\n",
    "Average selling price for a given product, I got iy by taking the average of TotalSalesValue with respect by product ID"
   ]
  },
  {
   "cell_type": "code",
   "execution_count": 11,
   "metadata": {},
   "outputs": [
    {
     "data": {
      "text/plain": [
       "Index(['SalesPersonID', 'ProductID', 'TotalSalesValue'], dtype='object')"
      ]
     },
     "execution_count": 11,
     "metadata": {},
     "output_type": "execute_result"
    }
   ],
   "source": [
    "df1=dftrain.groupby(['SalesPersonID','ProductID']).mean()['TotalSalesValue']\n",
    "df1 = (pd.DataFrame(df1))\n",
    "df1 = df1.reset_index()\n",
    "df1.columns"
   ]
  },
  {
   "cell_type": "code",
   "execution_count": 12,
   "metadata": {},
   "outputs": [
    {
     "data": {
      "text/html": [
       "<div>\n",
       "<style scoped>\n",
       "    .dataframe tbody tr th:only-of-type {\n",
       "        vertical-align: middle;\n",
       "    }\n",
       "\n",
       "    .dataframe tbody tr th {\n",
       "        vertical-align: top;\n",
       "    }\n",
       "\n",
       "    .dataframe thead th {\n",
       "        text-align: right;\n",
       "    }\n",
       "</style>\n",
       "<table border=\"1\" class=\"dataframe\">\n",
       "  <thead>\n",
       "    <tr style=\"text-align: right;\">\n",
       "      <th></th>\n",
       "      <th>ReportID</th>\n",
       "      <th>SalesPersonID</th>\n",
       "      <th>ProductID</th>\n",
       "      <th>Quantity</th>\n",
       "      <th>TotalSalesValue</th>\n",
       "      <th>Suspicious</th>\n",
       "      <th>OneUnitSalesValue</th>\n",
       "      <th>AvgSelingPrice</th>\n",
       "    </tr>\n",
       "  </thead>\n",
       "  <tbody>\n",
       "    <tr>\n",
       "      <th>0</th>\n",
       "      <td>Rep10101</td>\n",
       "      <td>C21116</td>\n",
       "      <td>PR6112</td>\n",
       "      <td>182</td>\n",
       "      <td>1665</td>\n",
       "      <td>indeterminate</td>\n",
       "      <td>9.148352</td>\n",
       "      <td>1715.0</td>\n",
       "    </tr>\n",
       "    <tr>\n",
       "      <th>1</th>\n",
       "      <td>Rep10102</td>\n",
       "      <td>C21116</td>\n",
       "      <td>PR6112</td>\n",
       "      <td>182</td>\n",
       "      <td>1740</td>\n",
       "      <td>indeterminate</td>\n",
       "      <td>9.560440</td>\n",
       "      <td>1715.0</td>\n",
       "    </tr>\n",
       "    <tr>\n",
       "      <th>2</th>\n",
       "      <td>Rep10103</td>\n",
       "      <td>C21116</td>\n",
       "      <td>PR6253</td>\n",
       "      <td>101</td>\n",
       "      <td>1040</td>\n",
       "      <td>indeterminate</td>\n",
       "      <td>10.297030</td>\n",
       "      <td>3327.5</td>\n",
       "    </tr>\n",
       "    <tr>\n",
       "      <th>3</th>\n",
       "      <td>Rep10104</td>\n",
       "      <td>C21116</td>\n",
       "      <td>PR6253</td>\n",
       "      <td>283</td>\n",
       "      <td>4495</td>\n",
       "      <td>No</td>\n",
       "      <td>15.883392</td>\n",
       "      <td>3327.5</td>\n",
       "    </tr>\n",
       "    <tr>\n",
       "      <th>4</th>\n",
       "      <td>Rep10105</td>\n",
       "      <td>C21116</td>\n",
       "      <td>PR6294</td>\n",
       "      <td>108</td>\n",
       "      <td>1465</td>\n",
       "      <td>indeterminate</td>\n",
       "      <td>13.564815</td>\n",
       "      <td>1662.5</td>\n",
       "    </tr>\n",
       "  </tbody>\n",
       "</table>\n",
       "</div>"
      ],
      "text/plain": [
       "   ReportID SalesPersonID ProductID  Quantity  TotalSalesValue     Suspicious  \\\n",
       "0  Rep10101        C21116    PR6112       182             1665  indeterminate   \n",
       "1  Rep10102        C21116    PR6112       182             1740  indeterminate   \n",
       "2  Rep10103        C21116    PR6253       101             1040  indeterminate   \n",
       "3  Rep10104        C21116    PR6253       283             4495             No   \n",
       "4  Rep10105        C21116    PR6294       108             1465  indeterminate   \n",
       "\n",
       "   OneUnitSalesValue  AvgSelingPrice  \n",
       "0           9.148352          1715.0  \n",
       "1           9.560440          1715.0  \n",
       "2          10.297030          3327.5  \n",
       "3          15.883392          3327.5  \n",
       "4          13.564815          1662.5  "
      ]
     },
     "execution_count": 12,
     "metadata": {},
     "output_type": "execute_result"
    }
   ],
   "source": [
    "dftrain=pd.merge(dftrain,df1,on=['SalesPersonID','ProductID'],how='left')\n",
    "dftrain = dftrain.rename(index = str,columns ={'TotalSalesValue_x':'TotalSalesValue','TotalSalesValue_y':'AvgSelingPrice'})\n",
    "dftrain.head()"
   ]
  },
  {
   "cell_type": "code",
   "execution_count": 13,
   "metadata": {},
   "outputs": [
    {
     "data": {
      "text/plain": [
       "Index(['SalesPersonID', 'ProductID', 'TotalSalesValue'], dtype='object')"
      ]
     },
     "execution_count": 13,
     "metadata": {},
     "output_type": "execute_result"
    }
   ],
   "source": [
    "tdf1=dftest.groupby(['SalesPersonID','ProductID']).mean()['TotalSalesValue']\n",
    "tdf1 = (pd.DataFrame(tdf1))\n",
    "tdf1 = tdf1.reset_index()\n",
    "tdf1.columns"
   ]
  },
  {
   "cell_type": "code",
   "execution_count": 14,
   "metadata": {},
   "outputs": [
    {
     "data": {
      "text/html": [
       "<div>\n",
       "<style scoped>\n",
       "    .dataframe tbody tr th:only-of-type {\n",
       "        vertical-align: middle;\n",
       "    }\n",
       "\n",
       "    .dataframe tbody tr th {\n",
       "        vertical-align: top;\n",
       "    }\n",
       "\n",
       "    .dataframe thead th {\n",
       "        text-align: right;\n",
       "    }\n",
       "</style>\n",
       "<table border=\"1\" class=\"dataframe\">\n",
       "  <thead>\n",
       "    <tr style=\"text-align: right;\">\n",
       "      <th></th>\n",
       "      <th>ReportID</th>\n",
       "      <th>SalesPersonID</th>\n",
       "      <th>ProductID</th>\n",
       "      <th>Quantity</th>\n",
       "      <th>TotalSalesValue</th>\n",
       "      <th>OneUnitSalesValue</th>\n",
       "      <th>AvgSelingPrice</th>\n",
       "    </tr>\n",
       "  </thead>\n",
       "  <tbody>\n",
       "    <tr>\n",
       "      <th>0</th>\n",
       "      <td>Rep70101</td>\n",
       "      <td>C21844</td>\n",
       "      <td>PR6483</td>\n",
       "      <td>102</td>\n",
       "      <td>1115</td>\n",
       "      <td>6.126374</td>\n",
       "      <td>1115.0</td>\n",
       "    </tr>\n",
       "    <tr>\n",
       "      <th>1</th>\n",
       "      <td>Rep70102</td>\n",
       "      <td>C21844</td>\n",
       "      <td>PR6251</td>\n",
       "      <td>102</td>\n",
       "      <td>1050</td>\n",
       "      <td>5.769231</td>\n",
       "      <td>1050.0</td>\n",
       "    </tr>\n",
       "    <tr>\n",
       "      <th>2</th>\n",
       "      <td>Rep70103</td>\n",
       "      <td>C21844</td>\n",
       "      <td>PR6253</td>\n",
       "      <td>344</td>\n",
       "      <td>3490</td>\n",
       "      <td>34.554455</td>\n",
       "      <td>2252.5</td>\n",
       "    </tr>\n",
       "    <tr>\n",
       "      <th>3</th>\n",
       "      <td>Rep70104</td>\n",
       "      <td>C21844</td>\n",
       "      <td>PR6378</td>\n",
       "      <td>108</td>\n",
       "      <td>1095</td>\n",
       "      <td>3.869258</td>\n",
       "      <td>1095.0</td>\n",
       "    </tr>\n",
       "    <tr>\n",
       "      <th>4</th>\n",
       "      <td>Rep70105</td>\n",
       "      <td>C21844</td>\n",
       "      <td>PR6463</td>\n",
       "      <td>146</td>\n",
       "      <td>1055</td>\n",
       "      <td>9.768519</td>\n",
       "      <td>1071.0</td>\n",
       "    </tr>\n",
       "  </tbody>\n",
       "</table>\n",
       "</div>"
      ],
      "text/plain": [
       "   ReportID SalesPersonID ProductID  Quantity  TotalSalesValue  \\\n",
       "0  Rep70101        C21844    PR6483       102             1115   \n",
       "1  Rep70102        C21844    PR6251       102             1050   \n",
       "2  Rep70103        C21844    PR6253       344             3490   \n",
       "3  Rep70104        C21844    PR6378       108             1095   \n",
       "4  Rep70105        C21844    PR6463       146             1055   \n",
       "\n",
       "   OneUnitSalesValue  AvgSelingPrice  \n",
       "0           6.126374          1115.0  \n",
       "1           5.769231          1050.0  \n",
       "2          34.554455          2252.5  \n",
       "3           3.869258          1095.0  \n",
       "4           9.768519          1071.0  "
      ]
     },
     "execution_count": 14,
     "metadata": {},
     "output_type": "execute_result"
    }
   ],
   "source": [
    "dftest=pd.merge(dftest,tdf1,on=['SalesPersonID','ProductID'],how='left')\n",
    "dftest = dftest.rename(index = str,columns ={'TotalSalesValue_x':'TotalSalesValue','TotalSalesValue_y':'AvgSelingPrice'})\n",
    "dftest.head()"
   ]
  },
  {
   "cell_type": "markdown",
   "metadata": {},
   "source": [
    "### Lets see the what insites does this attribute give"
   ]
  },
  {
   "cell_type": "code",
   "execution_count": 127,
   "metadata": {
    "scrolled": true
   },
   "outputs": [
    {
     "data": {
      "text/plain": [
       "<matplotlib.axes._subplots.AxesSubplot at 0x1d91120bfd0>"
      ]
     },
     "execution_count": 127,
     "metadata": {},
     "output_type": "execute_result"
    },
    {
     "data": {
      "image/png": "[encoded data removed]",
      "text/plain": [
       "<Figure size 432x288 with 1 Axes>"
      ]
     },
     "metadata": {},
     "output_type": "display_data"
    }
   ],
   "source": [
    "dftrain.groupby(['Suspicious'])[['AvgSelingPrice']].mean().plot.bar(color = \"#b53838\")"
   ]
  },
  {
   "cell_type": "markdown",
   "metadata": {},
   "source": [
    "### AvgQuantity:\n",
    "Average Quantity sold for a given product"
   ]
  },
  {
   "cell_type": "code",
   "execution_count": 18,
   "metadata": {},
   "outputs": [
    {
     "data": {
      "text/plain": [
       "Index(['SalesPersonID', 'ProductID', 'Quantity'], dtype='object')"
      ]
     },
     "execution_count": 18,
     "metadata": {},
     "output_type": "execute_result"
    }
   ],
   "source": [
    "df1=dftrain.groupby(['SalesPersonID','ProductID']).mean()['Quantity']\n",
    "df1 = (pd.DataFrame(df1))\n",
    "df1 = df1.reset_index()\n",
    "df1.columns"
   ]
  },
  {
   "cell_type": "code",
   "execution_count": 19,
   "metadata": {
    "scrolled": true
   },
   "outputs": [
    {
     "data": {
      "text/html": [
       "<div>\n",
       "<style scoped>\n",
       "    .dataframe tbody tr th:only-of-type {\n",
       "        vertical-align: middle;\n",
       "    }\n",
       "\n",
       "    .dataframe tbody tr th {\n",
       "        vertical-align: top;\n",
       "    }\n",
       "\n",
       "    .dataframe thead th {\n",
       "        text-align: right;\n",
       "    }\n",
       "</style>\n",
       "<table border=\"1\" class=\"dataframe\">\n",
       "  <thead>\n",
       "    <tr style=\"text-align: right;\">\n",
       "      <th></th>\n",
       "      <th>ReportID</th>\n",
       "      <th>SalesPersonID</th>\n",
       "      <th>ProductID</th>\n",
       "      <th>Quantity</th>\n",
       "      <th>TotalSalesValue</th>\n",
       "      <th>Suspicious</th>\n",
       "      <th>OneUnitSalesValue</th>\n",
       "      <th>AvgSelingPrice</th>\n",
       "      <th>AvgQuantity</th>\n",
       "    </tr>\n",
       "  </thead>\n",
       "  <tbody>\n",
       "    <tr>\n",
       "      <th>0</th>\n",
       "      <td>Rep10101</td>\n",
       "      <td>C21116</td>\n",
       "      <td>PR6112</td>\n",
       "      <td>182</td>\n",
       "      <td>1665</td>\n",
       "      <td>indeterminate</td>\n",
       "      <td>9.148352</td>\n",
       "      <td>1715.0</td>\n",
       "      <td>182.0</td>\n",
       "    </tr>\n",
       "    <tr>\n",
       "      <th>1</th>\n",
       "      <td>Rep10102</td>\n",
       "      <td>C21116</td>\n",
       "      <td>PR6112</td>\n",
       "      <td>182</td>\n",
       "      <td>1740</td>\n",
       "      <td>indeterminate</td>\n",
       "      <td>9.560440</td>\n",
       "      <td>1715.0</td>\n",
       "      <td>182.0</td>\n",
       "    </tr>\n",
       "    <tr>\n",
       "      <th>2</th>\n",
       "      <td>Rep10103</td>\n",
       "      <td>C21116</td>\n",
       "      <td>PR6253</td>\n",
       "      <td>101</td>\n",
       "      <td>1040</td>\n",
       "      <td>indeterminate</td>\n",
       "      <td>10.297030</td>\n",
       "      <td>3327.5</td>\n",
       "      <td>227.0</td>\n",
       "    </tr>\n",
       "    <tr>\n",
       "      <th>3</th>\n",
       "      <td>Rep10104</td>\n",
       "      <td>C21116</td>\n",
       "      <td>PR6253</td>\n",
       "      <td>283</td>\n",
       "      <td>4495</td>\n",
       "      <td>No</td>\n",
       "      <td>15.883392</td>\n",
       "      <td>3327.5</td>\n",
       "      <td>227.0</td>\n",
       "    </tr>\n",
       "    <tr>\n",
       "      <th>4</th>\n",
       "      <td>Rep10105</td>\n",
       "      <td>C21116</td>\n",
       "      <td>PR6294</td>\n",
       "      <td>108</td>\n",
       "      <td>1465</td>\n",
       "      <td>indeterminate</td>\n",
       "      <td>13.564815</td>\n",
       "      <td>1662.5</td>\n",
       "      <td>112.5</td>\n",
       "    </tr>\n",
       "  </tbody>\n",
       "</table>\n",
       "</div>"
      ],
      "text/plain": [
       "   ReportID SalesPersonID ProductID  Quantity  TotalSalesValue     Suspicious  \\\n",
       "0  Rep10101        C21116    PR6112       182             1665  indeterminate   \n",
       "1  Rep10102        C21116    PR6112       182             1740  indeterminate   \n",
       "2  Rep10103        C21116    PR6253       101             1040  indeterminate   \n",
       "3  Rep10104        C21116    PR6253       283             4495             No   \n",
       "4  Rep10105        C21116    PR6294       108             1465  indeterminate   \n",
       "\n",
       "   OneUnitSalesValue  AvgSelingPrice  AvgQuantity  \n",
       "0           9.148352          1715.0        182.0  \n",
       "1           9.560440          1715.0        182.0  \n",
       "2          10.297030          3327.5        227.0  \n",
       "3          15.883392          3327.5        227.0  \n",
       "4          13.564815          1662.5        112.5  "
      ]
     },
     "execution_count": 19,
     "metadata": {},
     "output_type": "execute_result"
    }
   ],
   "source": [
    "dftrain=pd.merge(dftrain,df1,on=['SalesPersonID','ProductID'],how='left')\n",
    "dftrain = dftrain.rename(index = str,columns ={'TotalSalesValue_x':'TotalSalesValue','Quantity_x':'Quantity','Quantity_y':'AvgQuantity'})\n",
    "#dftrain.drop(dftrain['TotalSalesValue_y'],axis = 1)\n",
    "dftrain.head()"
   ]
  },
  {
   "cell_type": "code",
   "execution_count": 20,
   "metadata": {},
   "outputs": [
    {
     "data": {
      "text/plain": [
       "Index(['SalesPersonID', 'ProductID', 'Quantity'], dtype='object')"
      ]
     },
     "execution_count": 20,
     "metadata": {},
     "output_type": "execute_result"
    }
   ],
   "source": [
    "tdf1=dftest.groupby(['SalesPersonID','ProductID']).mean()['Quantity']\n",
    "tdf1 = (pd.DataFrame(tdf1))\n",
    "tdf1 = tdf1.reset_index()\n",
    "tdf1.columns"
   ]
  },
  {
   "cell_type": "code",
   "execution_count": 21,
   "metadata": {},
   "outputs": [
    {
     "data": {
      "text/html": [
       "<div>\n",
       "<style scoped>\n",
       "    .dataframe tbody tr th:only-of-type {\n",
       "        vertical-align: middle;\n",
       "    }\n",
       "\n",
       "    .dataframe tbody tr th {\n",
       "        vertical-align: top;\n",
       "    }\n",
       "\n",
       "    .dataframe thead th {\n",
       "        text-align: right;\n",
       "    }\n",
       "</style>\n",
       "<table border=\"1\" class=\"dataframe\">\n",
       "  <thead>\n",
       "    <tr style=\"text-align: right;\">\n",
       "      <th></th>\n",
       "      <th>ReportID</th>\n",
       "      <th>SalesPersonID</th>\n",
       "      <th>ProductID</th>\n",
       "      <th>Quantity</th>\n",
       "      <th>TotalSalesValue</th>\n",
       "      <th>OneUnitSalesValue</th>\n",
       "      <th>AvgSelingPrice</th>\n",
       "      <th>AvgQuantity</th>\n",
       "    </tr>\n",
       "  </thead>\n",
       "  <tbody>\n",
       "    <tr>\n",
       "      <th>0</th>\n",
       "      <td>Rep70101</td>\n",
       "      <td>C21844</td>\n",
       "      <td>PR6483</td>\n",
       "      <td>102</td>\n",
       "      <td>1115</td>\n",
       "      <td>6.126374</td>\n",
       "      <td>1115.0</td>\n",
       "      <td>102.0</td>\n",
       "    </tr>\n",
       "    <tr>\n",
       "      <th>1</th>\n",
       "      <td>Rep70102</td>\n",
       "      <td>C21844</td>\n",
       "      <td>PR6251</td>\n",
       "      <td>102</td>\n",
       "      <td>1050</td>\n",
       "      <td>5.769231</td>\n",
       "      <td>1050.0</td>\n",
       "      <td>102.0</td>\n",
       "    </tr>\n",
       "    <tr>\n",
       "      <th>2</th>\n",
       "      <td>Rep70103</td>\n",
       "      <td>C21844</td>\n",
       "      <td>PR6253</td>\n",
       "      <td>344</td>\n",
       "      <td>3490</td>\n",
       "      <td>34.554455</td>\n",
       "      <td>2252.5</td>\n",
       "      <td>225.5</td>\n",
       "    </tr>\n",
       "    <tr>\n",
       "      <th>3</th>\n",
       "      <td>Rep70104</td>\n",
       "      <td>C21844</td>\n",
       "      <td>PR6378</td>\n",
       "      <td>108</td>\n",
       "      <td>1095</td>\n",
       "      <td>3.869258</td>\n",
       "      <td>1095.0</td>\n",
       "      <td>108.0</td>\n",
       "    </tr>\n",
       "    <tr>\n",
       "      <th>4</th>\n",
       "      <td>Rep70105</td>\n",
       "      <td>C21844</td>\n",
       "      <td>PR6463</td>\n",
       "      <td>146</td>\n",
       "      <td>1055</td>\n",
       "      <td>9.768519</td>\n",
       "      <td>1071.0</td>\n",
       "      <td>155.8</td>\n",
       "    </tr>\n",
       "  </tbody>\n",
       "</table>\n",
       "</div>"
      ],
      "text/plain": [
       "   ReportID SalesPersonID ProductID  Quantity  TotalSalesValue  \\\n",
       "0  Rep70101        C21844    PR6483       102             1115   \n",
       "1  Rep70102        C21844    PR6251       102             1050   \n",
       "2  Rep70103        C21844    PR6253       344             3490   \n",
       "3  Rep70104        C21844    PR6378       108             1095   \n",
       "4  Rep70105        C21844    PR6463       146             1055   \n",
       "\n",
       "   OneUnitSalesValue  AvgSelingPrice  AvgQuantity  \n",
       "0           6.126374          1115.0        102.0  \n",
       "1           5.769231          1050.0        102.0  \n",
       "2          34.554455          2252.5        225.5  \n",
       "3           3.869258          1095.0        108.0  \n",
       "4           9.768519          1071.0        155.8  "
      ]
     },
     "execution_count": 21,
     "metadata": {},
     "output_type": "execute_result"
    }
   ],
   "source": [
    "dftest=pd.merge(dftest,tdf1,on=['SalesPersonID','ProductID'],how='left')\n",
    "dftest = dftest.rename(index = str,columns ={'TotalSalesValue_x':'TotalSalesValue','Quantity_x':'Quantity','Quantity_y':'AvgQuantity'})\n",
    "#dftrain.drop(dftrain['AvgQuantity'],axis = 1)\n",
    "dftest.head()"
   ]
  },
  {
   "cell_type": "markdown",
   "metadata": {},
   "source": [
    "### Lets see the what insites does this attribute give"
   ]
  },
  {
   "cell_type": "code",
   "execution_count": 22,
   "metadata": {},
   "outputs": [
    {
     "data": {
      "text/plain": [
       "<matplotlib.axes._subplots.AxesSubplot at 0x1d90987cb38>"
      ]
     },
     "execution_count": 22,
     "metadata": {},
     "output_type": "execute_result"
    },
    {
     "data": {
      "image/png": "[encoded data removed]",
      "text/plain": [
       "<Figure size 432x288 with 1 Axes>"
      ]
     },
     "metadata": {},
     "output_type": "display_data"
    }
   ],
   "source": [
    "dftrain.groupby(['Suspicious'])[['AvgQuantity']].mean().plot.bar(color = \"#b53838\")"
   ]
  },
  {
   "cell_type": "markdown",
   "metadata": {},
   "source": [
    "### AvgQuantityperguy:\n",
    "Average Quantity sold for a given SalesPerson"
   ]
  },
  {
   "cell_type": "code",
   "execution_count": 23,
   "metadata": {},
   "outputs": [],
   "source": [
    "AvgQuantityperguy=dftrain.groupby(['SalesPersonID']).mean()['AvgQuantity']\n",
    "AvgQuantityperguy=pd.DataFrame(AvgQuantityperguy)\n",
    "#AvgQuantityperguy.head()"
   ]
  },
  {
   "cell_type": "code",
   "execution_count": 24,
   "metadata": {},
   "outputs": [
    {
     "data": {
      "text/html": [
       "<div>\n",
       "<style scoped>\n",
       "    .dataframe tbody tr th:only-of-type {\n",
       "        vertical-align: middle;\n",
       "    }\n",
       "\n",
       "    .dataframe tbody tr th {\n",
       "        vertical-align: top;\n",
       "    }\n",
       "\n",
       "    .dataframe thead th {\n",
       "        text-align: right;\n",
       "    }\n",
       "</style>\n",
       "<table border=\"1\" class=\"dataframe\">\n",
       "  <thead>\n",
       "    <tr style=\"text-align: right;\">\n",
       "      <th></th>\n",
       "      <th>ReportID</th>\n",
       "      <th>SalesPersonID</th>\n",
       "      <th>ProductID</th>\n",
       "      <th>Quantity</th>\n",
       "      <th>TotalSalesValue</th>\n",
       "      <th>Suspicious</th>\n",
       "      <th>OneUnitSalesValue</th>\n",
       "      <th>AvgSelingPrice</th>\n",
       "      <th>AvgQuantity_x</th>\n",
       "      <th>AvgQuantityperguy</th>\n",
       "    </tr>\n",
       "  </thead>\n",
       "  <tbody>\n",
       "    <tr>\n",
       "      <th>0</th>\n",
       "      <td>Rep10101</td>\n",
       "      <td>C21116</td>\n",
       "      <td>PR6112</td>\n",
       "      <td>182</td>\n",
       "      <td>1665</td>\n",
       "      <td>indeterminate</td>\n",
       "      <td>9.148352</td>\n",
       "      <td>1715.0</td>\n",
       "      <td>182.0</td>\n",
       "      <td>182.9</td>\n",
       "    </tr>\n",
       "    <tr>\n",
       "      <th>1</th>\n",
       "      <td>Rep10102</td>\n",
       "      <td>C21116</td>\n",
       "      <td>PR6112</td>\n",
       "      <td>182</td>\n",
       "      <td>1740</td>\n",
       "      <td>indeterminate</td>\n",
       "      <td>9.560440</td>\n",
       "      <td>1715.0</td>\n",
       "      <td>182.0</td>\n",
       "      <td>182.9</td>\n",
       "    </tr>\n",
       "    <tr>\n",
       "      <th>2</th>\n",
       "      <td>Rep10103</td>\n",
       "      <td>C21116</td>\n",
       "      <td>PR6253</td>\n",
       "      <td>101</td>\n",
       "      <td>1040</td>\n",
       "      <td>indeterminate</td>\n",
       "      <td>10.297030</td>\n",
       "      <td>3327.5</td>\n",
       "      <td>227.0</td>\n",
       "      <td>182.9</td>\n",
       "    </tr>\n",
       "    <tr>\n",
       "      <th>3</th>\n",
       "      <td>Rep10104</td>\n",
       "      <td>C21116</td>\n",
       "      <td>PR6253</td>\n",
       "      <td>283</td>\n",
       "      <td>4495</td>\n",
       "      <td>No</td>\n",
       "      <td>15.883392</td>\n",
       "      <td>3327.5</td>\n",
       "      <td>227.0</td>\n",
       "      <td>182.9</td>\n",
       "    </tr>\n",
       "    <tr>\n",
       "      <th>4</th>\n",
       "      <td>Rep10105</td>\n",
       "      <td>C21116</td>\n",
       "      <td>PR6294</td>\n",
       "      <td>108</td>\n",
       "      <td>1465</td>\n",
       "      <td>indeterminate</td>\n",
       "      <td>13.564815</td>\n",
       "      <td>1662.5</td>\n",
       "      <td>112.5</td>\n",
       "      <td>182.9</td>\n",
       "    </tr>\n",
       "  </tbody>\n",
       "</table>\n",
       "</div>"
      ],
      "text/plain": [
       "   ReportID SalesPersonID ProductID  Quantity  TotalSalesValue     Suspicious  \\\n",
       "0  Rep10101        C21116    PR6112       182             1665  indeterminate   \n",
       "1  Rep10102        C21116    PR6112       182             1740  indeterminate   \n",
       "2  Rep10103        C21116    PR6253       101             1040  indeterminate   \n",
       "3  Rep10104        C21116    PR6253       283             4495             No   \n",
       "4  Rep10105        C21116    PR6294       108             1465  indeterminate   \n",
       "\n",
       "   OneUnitSalesValue  AvgSelingPrice  AvgQuantity_x  AvgQuantityperguy  \n",
       "0           9.148352          1715.0          182.0              182.9  \n",
       "1           9.560440          1715.0          182.0              182.9  \n",
       "2          10.297030          3327.5          227.0              182.9  \n",
       "3          15.883392          3327.5          227.0              182.9  \n",
       "4          13.564815          1662.5          112.5              182.9  "
      ]
     },
     "execution_count": 24,
     "metadata": {},
     "output_type": "execute_result"
    }
   ],
   "source": [
    "dftrain=pd.merge(dftrain,AvgQuantityperguy,on=['SalesPersonID'],how='left')\n",
    "dftrain=dftrain.rename(index=str, columns={\"AvgQuantity_y\": \"AvgQuantityperguy\"})\n",
    "dftrain.head()"
   ]
  },
  {
   "cell_type": "code",
   "execution_count": 25,
   "metadata": {},
   "outputs": [],
   "source": [
    "AvgQuantityperguy=dftest.groupby(['SalesPersonID']).mean()['AvgQuantity']\n",
    "AvgQuantityperguy=pd.DataFrame(AvgQuantityperguy)\n",
    "#AvgQuantityperguy.head()"
   ]
  },
  {
   "cell_type": "code",
   "execution_count": 26,
   "metadata": {},
   "outputs": [
    {
     "data": {
      "text/html": [
       "<div>\n",
       "<style scoped>\n",
       "    .dataframe tbody tr th:only-of-type {\n",
       "        vertical-align: middle;\n",
       "    }\n",
       "\n",
       "    .dataframe tbody tr th {\n",
       "        vertical-align: top;\n",
       "    }\n",
       "\n",
       "    .dataframe thead th {\n",
       "        text-align: right;\n",
       "    }\n",
       "</style>\n",
       "<table border=\"1\" class=\"dataframe\">\n",
       "  <thead>\n",
       "    <tr style=\"text-align: right;\">\n",
       "      <th></th>\n",
       "      <th>ReportID</th>\n",
       "      <th>SalesPersonID</th>\n",
       "      <th>ProductID</th>\n",
       "      <th>Quantity</th>\n",
       "      <th>TotalSalesValue</th>\n",
       "      <th>OneUnitSalesValue</th>\n",
       "      <th>AvgSelingPrice</th>\n",
       "      <th>AvgQuantity_x</th>\n",
       "      <th>AvgQuantityperguy</th>\n",
       "    </tr>\n",
       "  </thead>\n",
       "  <tbody>\n",
       "    <tr>\n",
       "      <th>0</th>\n",
       "      <td>Rep70101</td>\n",
       "      <td>C21844</td>\n",
       "      <td>PR6483</td>\n",
       "      <td>102</td>\n",
       "      <td>1115</td>\n",
       "      <td>6.126374</td>\n",
       "      <td>1115.0</td>\n",
       "      <td>102.0</td>\n",
       "      <td>147.3</td>\n",
       "    </tr>\n",
       "    <tr>\n",
       "      <th>1</th>\n",
       "      <td>Rep70102</td>\n",
       "      <td>C21844</td>\n",
       "      <td>PR6251</td>\n",
       "      <td>102</td>\n",
       "      <td>1050</td>\n",
       "      <td>5.769231</td>\n",
       "      <td>1050.0</td>\n",
       "      <td>102.0</td>\n",
       "      <td>147.3</td>\n",
       "    </tr>\n",
       "    <tr>\n",
       "      <th>2</th>\n",
       "      <td>Rep70103</td>\n",
       "      <td>C21844</td>\n",
       "      <td>PR6253</td>\n",
       "      <td>344</td>\n",
       "      <td>3490</td>\n",
       "      <td>34.554455</td>\n",
       "      <td>2252.5</td>\n",
       "      <td>225.5</td>\n",
       "      <td>147.3</td>\n",
       "    </tr>\n",
       "    <tr>\n",
       "      <th>3</th>\n",
       "      <td>Rep70104</td>\n",
       "      <td>C21844</td>\n",
       "      <td>PR6378</td>\n",
       "      <td>108</td>\n",
       "      <td>1095</td>\n",
       "      <td>3.869258</td>\n",
       "      <td>1095.0</td>\n",
       "      <td>108.0</td>\n",
       "      <td>147.3</td>\n",
       "    </tr>\n",
       "    <tr>\n",
       "      <th>4</th>\n",
       "      <td>Rep70105</td>\n",
       "      <td>C21844</td>\n",
       "      <td>PR6463</td>\n",
       "      <td>146</td>\n",
       "      <td>1055</td>\n",
       "      <td>9.768519</td>\n",
       "      <td>1071.0</td>\n",
       "      <td>155.8</td>\n",
       "      <td>147.3</td>\n",
       "    </tr>\n",
       "  </tbody>\n",
       "</table>\n",
       "</div>"
      ],
      "text/plain": [
       "   ReportID SalesPersonID ProductID  Quantity  TotalSalesValue  \\\n",
       "0  Rep70101        C21844    PR6483       102             1115   \n",
       "1  Rep70102        C21844    PR6251       102             1050   \n",
       "2  Rep70103        C21844    PR6253       344             3490   \n",
       "3  Rep70104        C21844    PR6378       108             1095   \n",
       "4  Rep70105        C21844    PR6463       146             1055   \n",
       "\n",
       "   OneUnitSalesValue  AvgSelingPrice  AvgQuantity_x  AvgQuantityperguy  \n",
       "0           6.126374          1115.0          102.0              147.3  \n",
       "1           5.769231          1050.0          102.0              147.3  \n",
       "2          34.554455          2252.5          225.5              147.3  \n",
       "3           3.869258          1095.0          108.0              147.3  \n",
       "4           9.768519          1071.0          155.8              147.3  "
      ]
     },
     "execution_count": 26,
     "metadata": {},
     "output_type": "execute_result"
    }
   ],
   "source": [
    "dftest=pd.merge(dftest,AvgQuantityperguy,on=['SalesPersonID'],how='left')\n",
    "dftest=dftest.rename(index=str, columns={\"AvgQuantity_y\": \"AvgQuantityperguy\"})\n",
    "\n",
    "dftest.head()"
   ]
  },
  {
   "cell_type": "code",
   "execution_count": 27,
   "metadata": {},
   "outputs": [],
   "source": [
    "AvgQuantityperProduct=dftrain.groupby(['ProductID']).mean()['Quantity']\n",
    "AvgQuantityperProduct=pd.DataFrame(AvgQuantityperProduct)\n",
    "#AvgQuantityperguy.head()"
   ]
  },
  {
   "cell_type": "markdown",
   "metadata": {},
   "source": [
    "### AvgQuantityperProduct:\n",
    "Average Quantity sold for a given ProductID"
   ]
  },
  {
   "cell_type": "code",
   "execution_count": 28,
   "metadata": {},
   "outputs": [
    {
     "data": {
      "text/html": [
       "<div>\n",
       "<style scoped>\n",
       "    .dataframe tbody tr th:only-of-type {\n",
       "        vertical-align: middle;\n",
       "    }\n",
       "\n",
       "    .dataframe tbody tr th {\n",
       "        vertical-align: top;\n",
       "    }\n",
       "\n",
       "    .dataframe thead th {\n",
       "        text-align: right;\n",
       "    }\n",
       "</style>\n",
       "<table border=\"1\" class=\"dataframe\">\n",
       "  <thead>\n",
       "    <tr style=\"text-align: right;\">\n",
       "      <th></th>\n",
       "      <th>ReportID</th>\n",
       "      <th>SalesPersonID</th>\n",
       "      <th>ProductID</th>\n",
       "      <th>Quantity_x</th>\n",
       "      <th>TotalSalesValue</th>\n",
       "      <th>Suspicious</th>\n",
       "      <th>OneUnitSalesValue</th>\n",
       "      <th>AvgSelingPrice</th>\n",
       "      <th>AvgQuantity_x</th>\n",
       "      <th>AvgQuantityperguy</th>\n",
       "      <th>AvgQuantityperProduct</th>\n",
       "    </tr>\n",
       "  </thead>\n",
       "  <tbody>\n",
       "    <tr>\n",
       "      <th>0</th>\n",
       "      <td>Rep10101</td>\n",
       "      <td>C21116</td>\n",
       "      <td>PR6112</td>\n",
       "      <td>182</td>\n",
       "      <td>1665</td>\n",
       "      <td>indeterminate</td>\n",
       "      <td>9.148352</td>\n",
       "      <td>1715.0</td>\n",
       "      <td>182.0</td>\n",
       "      <td>182.9</td>\n",
       "      <td>591.650888</td>\n",
       "    </tr>\n",
       "    <tr>\n",
       "      <th>1</th>\n",
       "      <td>Rep10102</td>\n",
       "      <td>C21116</td>\n",
       "      <td>PR6112</td>\n",
       "      <td>182</td>\n",
       "      <td>1740</td>\n",
       "      <td>indeterminate</td>\n",
       "      <td>9.560440</td>\n",
       "      <td>1715.0</td>\n",
       "      <td>182.0</td>\n",
       "      <td>182.9</td>\n",
       "      <td>591.650888</td>\n",
       "    </tr>\n",
       "    <tr>\n",
       "      <th>2</th>\n",
       "      <td>Rep10103</td>\n",
       "      <td>C21116</td>\n",
       "      <td>PR6253</td>\n",
       "      <td>101</td>\n",
       "      <td>1040</td>\n",
       "      <td>indeterminate</td>\n",
       "      <td>10.297030</td>\n",
       "      <td>3327.5</td>\n",
       "      <td>227.0</td>\n",
       "      <td>182.9</td>\n",
       "      <td>471.563320</td>\n",
       "    </tr>\n",
       "    <tr>\n",
       "      <th>3</th>\n",
       "      <td>Rep10104</td>\n",
       "      <td>C21116</td>\n",
       "      <td>PR6253</td>\n",
       "      <td>283</td>\n",
       "      <td>4495</td>\n",
       "      <td>No</td>\n",
       "      <td>15.883392</td>\n",
       "      <td>3327.5</td>\n",
       "      <td>227.0</td>\n",
       "      <td>182.9</td>\n",
       "      <td>471.563320</td>\n",
       "    </tr>\n",
       "    <tr>\n",
       "      <th>4</th>\n",
       "      <td>Rep10105</td>\n",
       "      <td>C21116</td>\n",
       "      <td>PR6294</td>\n",
       "      <td>108</td>\n",
       "      <td>1465</td>\n",
       "      <td>indeterminate</td>\n",
       "      <td>13.564815</td>\n",
       "      <td>1662.5</td>\n",
       "      <td>112.5</td>\n",
       "      <td>182.9</td>\n",
       "      <td>224.248227</td>\n",
       "    </tr>\n",
       "  </tbody>\n",
       "</table>\n",
       "</div>"
      ],
      "text/plain": [
       "   ReportID SalesPersonID ProductID  Quantity_x  TotalSalesValue  \\\n",
       "0  Rep10101        C21116    PR6112         182             1665   \n",
       "1  Rep10102        C21116    PR6112         182             1740   \n",
       "2  Rep10103        C21116    PR6253         101             1040   \n",
       "3  Rep10104        C21116    PR6253         283             4495   \n",
       "4  Rep10105        C21116    PR6294         108             1465   \n",
       "\n",
       "      Suspicious  OneUnitSalesValue  AvgSelingPrice  AvgQuantity_x  \\\n",
       "0  indeterminate           9.148352          1715.0          182.0   \n",
       "1  indeterminate           9.560440          1715.0          182.0   \n",
       "2  indeterminate          10.297030          3327.5          227.0   \n",
       "3             No          15.883392          3327.5          227.0   \n",
       "4  indeterminate          13.564815          1662.5          112.5   \n",
       "\n",
       "   AvgQuantityperguy  AvgQuantityperProduct  \n",
       "0              182.9             591.650888  \n",
       "1              182.9             591.650888  \n",
       "2              182.9             471.563320  \n",
       "3              182.9             471.563320  \n",
       "4              182.9             224.248227  "
      ]
     },
     "execution_count": 28,
     "metadata": {},
     "output_type": "execute_result"
    }
   ],
   "source": [
    "dftrain=pd.merge(dftrain,AvgQuantityperProduct,on=['ProductID'],how='left')\n",
    "dftrain=dftrain.rename(index=str, columns={\"Quantity_y\": \"AvgQuantityperProduct\"})\n",
    "dftrain.head()"
   ]
  },
  {
   "cell_type": "markdown",
   "metadata": {},
   "source": [
    "### Lets see the what insites does this attribute give"
   ]
  },
  {
   "cell_type": "code",
   "execution_count": 31,
   "metadata": {},
   "outputs": [
    {
     "data": {
      "text/html": [
       "<div>\n",
       "<style scoped>\n",
       "    .dataframe tbody tr th:only-of-type {\n",
       "        vertical-align: middle;\n",
       "    }\n",
       "\n",
       "    .dataframe tbody tr th {\n",
       "        vertical-align: top;\n",
       "    }\n",
       "\n",
       "    .dataframe thead th {\n",
       "        text-align: right;\n",
       "    }\n",
       "</style>\n",
       "<table border=\"1\" class=\"dataframe\">\n",
       "  <thead>\n",
       "    <tr style=\"text-align: right;\">\n",
       "      <th></th>\n",
       "      <th>ReportID</th>\n",
       "      <th>SalesPersonID</th>\n",
       "      <th>ProductID</th>\n",
       "      <th>Quantity_x</th>\n",
       "      <th>TotalSalesValue</th>\n",
       "      <th>OneUnitSalesValue</th>\n",
       "      <th>AvgSelingPrice</th>\n",
       "      <th>AvgQuantity_x</th>\n",
       "      <th>AvgQuantityperguy</th>\n",
       "      <th>AvgQuantityperProduct</th>\n",
       "    </tr>\n",
       "  </thead>\n",
       "  <tbody>\n",
       "    <tr>\n",
       "      <th>0</th>\n",
       "      <td>Rep70101</td>\n",
       "      <td>C21844</td>\n",
       "      <td>PR6483</td>\n",
       "      <td>102</td>\n",
       "      <td>1115</td>\n",
       "      <td>6.126374</td>\n",
       "      <td>1115.0</td>\n",
       "      <td>102.0</td>\n",
       "      <td>147.3</td>\n",
       "      <td>192.702128</td>\n",
       "    </tr>\n",
       "    <tr>\n",
       "      <th>1</th>\n",
       "      <td>Rep70102</td>\n",
       "      <td>C21844</td>\n",
       "      <td>PR6251</td>\n",
       "      <td>102</td>\n",
       "      <td>1050</td>\n",
       "      <td>5.769231</td>\n",
       "      <td>1050.0</td>\n",
       "      <td>102.0</td>\n",
       "      <td>147.3</td>\n",
       "      <td>387.523077</td>\n",
       "    </tr>\n",
       "    <tr>\n",
       "      <th>2</th>\n",
       "      <td>Rep70103</td>\n",
       "      <td>C21844</td>\n",
       "      <td>PR6253</td>\n",
       "      <td>344</td>\n",
       "      <td>3490</td>\n",
       "      <td>34.554455</td>\n",
       "      <td>2252.5</td>\n",
       "      <td>225.5</td>\n",
       "      <td>147.3</td>\n",
       "      <td>729.142384</td>\n",
       "    </tr>\n",
       "    <tr>\n",
       "      <th>3</th>\n",
       "      <td>Rep70104</td>\n",
       "      <td>C21844</td>\n",
       "      <td>PR6378</td>\n",
       "      <td>108</td>\n",
       "      <td>1095</td>\n",
       "      <td>3.869258</td>\n",
       "      <td>1095.0</td>\n",
       "      <td>108.0</td>\n",
       "      <td>147.3</td>\n",
       "      <td>130.835443</td>\n",
       "    </tr>\n",
       "    <tr>\n",
       "      <th>4</th>\n",
       "      <td>Rep70105</td>\n",
       "      <td>C21844</td>\n",
       "      <td>PR6463</td>\n",
       "      <td>146</td>\n",
       "      <td>1055</td>\n",
       "      <td>9.768519</td>\n",
       "      <td>1071.0</td>\n",
       "      <td>155.8</td>\n",
       "      <td>147.3</td>\n",
       "      <td>204.454545</td>\n",
       "    </tr>\n",
       "  </tbody>\n",
       "</table>\n",
       "</div>"
      ],
      "text/plain": [
       "   ReportID SalesPersonID ProductID  Quantity_x  TotalSalesValue  \\\n",
       "0  Rep70101        C21844    PR6483         102             1115   \n",
       "1  Rep70102        C21844    PR6251         102             1050   \n",
       "2  Rep70103        C21844    PR6253         344             3490   \n",
       "3  Rep70104        C21844    PR6378         108             1095   \n",
       "4  Rep70105        C21844    PR6463         146             1055   \n",
       "\n",
       "   OneUnitSalesValue  AvgSelingPrice  AvgQuantity_x  AvgQuantityperguy  \\\n",
       "0           6.126374          1115.0          102.0              147.3   \n",
       "1           5.769231          1050.0          102.0              147.3   \n",
       "2          34.554455          2252.5          225.5              147.3   \n",
       "3           3.869258          1095.0          108.0              147.3   \n",
       "4           9.768519          1071.0          155.8              147.3   \n",
       "\n",
       "   AvgQuantityperProduct  \n",
       "0             192.702128  \n",
       "1             387.523077  \n",
       "2             729.142384  \n",
       "3             130.835443  \n",
       "4             204.454545  "
      ]
     },
     "execution_count": 31,
     "metadata": {},
     "output_type": "execute_result"
    }
   ],
   "source": [
    "dftest=pd.merge(dftest,AvgQuantityperProduct,on=['ProductID'],how='left')\n",
    "dftest=dftest.rename(index=str, columns={\"Quantity_y\": \"AvgQuantityperProduct\"})\n",
    "\n",
    "dftest.head()"
   ]
  },
  {
   "cell_type": "code",
   "execution_count": 30,
   "metadata": {},
   "outputs": [],
   "source": [
    "AvgQuantityperProduct=dftest.groupby(['ProductID']).mean()['Quantity']\n",
    "AvgQuantityperProduct=pd.DataFrame(AvgQuantityperProduct)\n",
    "#AvgQuantityperguy.head()"
   ]
  },
  {
   "cell_type": "code",
   "execution_count": 128,
   "metadata": {},
   "outputs": [
    {
     "data": {
      "text/plain": [
       "<matplotlib.axes._subplots.AxesSubplot at 0x1d91124e240>"
      ]
     },
     "execution_count": 128,
     "metadata": {},
     "output_type": "execute_result"
    },
    {
     "data": {
      "image/png": "[encoded data removed]",
      "text/plain": [
       "<Figure size 432x288 with 1 Axes>"
      ]
     },
     "metadata": {},
     "output_type": "display_data"
    }
   ],
   "source": [
    "dftrain.groupby(['Suspicious'])[['AvgQuantityperProduct']].mean().plot.bar(color = \"#b53838\")"
   ]
  },
  {
   "cell_type": "markdown",
   "metadata": {},
   "source": [
    "### AvgSalesValueperProduct:\n",
    "Average TotalSalesValue sold for a given ProductID"
   ]
  },
  {
   "cell_type": "code",
   "execution_count": 32,
   "metadata": {},
   "outputs": [],
   "source": [
    "AvgSalesValueperProduct=dftrain.groupby(['ProductID']).mean()['TotalSalesValue']\n",
    "AvgSalesValueperProduct=pd.DataFrame(AvgSalesValueperProduct)\n",
    "#AvgSalesValueperProduct.head()"
   ]
  },
  {
   "cell_type": "code",
   "execution_count": 33,
   "metadata": {},
   "outputs": [
    {
     "data": {
      "text/html": [
       "<div>\n",
       "<style scoped>\n",
       "    .dataframe tbody tr th:only-of-type {\n",
       "        vertical-align: middle;\n",
       "    }\n",
       "\n",
       "    .dataframe tbody tr th {\n",
       "        vertical-align: top;\n",
       "    }\n",
       "\n",
       "    .dataframe thead th {\n",
       "        text-align: right;\n",
       "    }\n",
       "</style>\n",
       "<table border=\"1\" class=\"dataframe\">\n",
       "  <thead>\n",
       "    <tr style=\"text-align: right;\">\n",
       "      <th></th>\n",
       "      <th>ReportID</th>\n",
       "      <th>SalesPersonID</th>\n",
       "      <th>ProductID</th>\n",
       "      <th>Quantity</th>\n",
       "      <th>TotalSalesValue</th>\n",
       "      <th>Suspicious</th>\n",
       "      <th>OneUnitSalesValue</th>\n",
       "      <th>AvgSelingPrice</th>\n",
       "      <th>AvgQuantity</th>\n",
       "      <th>AvgQuantityperguy</th>\n",
       "      <th>AvgQuantityperProduct</th>\n",
       "      <th>AvgSalesValueperProduct</th>\n",
       "    </tr>\n",
       "  </thead>\n",
       "  <tbody>\n",
       "    <tr>\n",
       "      <th>0</th>\n",
       "      <td>Rep10101</td>\n",
       "      <td>C21116</td>\n",
       "      <td>PR6112</td>\n",
       "      <td>182</td>\n",
       "      <td>1665</td>\n",
       "      <td>indeterminate</td>\n",
       "      <td>9.148352</td>\n",
       "      <td>1715.0</td>\n",
       "      <td>182.0</td>\n",
       "      <td>182.9</td>\n",
       "      <td>591.650888</td>\n",
       "      <td>6876.035503</td>\n",
       "    </tr>\n",
       "    <tr>\n",
       "      <th>1</th>\n",
       "      <td>Rep10102</td>\n",
       "      <td>C21116</td>\n",
       "      <td>PR6112</td>\n",
       "      <td>182</td>\n",
       "      <td>1740</td>\n",
       "      <td>indeterminate</td>\n",
       "      <td>9.560440</td>\n",
       "      <td>1715.0</td>\n",
       "      <td>182.0</td>\n",
       "      <td>182.9</td>\n",
       "      <td>591.650888</td>\n",
       "      <td>6876.035503</td>\n",
       "    </tr>\n",
       "    <tr>\n",
       "      <th>2</th>\n",
       "      <td>Rep10103</td>\n",
       "      <td>C21116</td>\n",
       "      <td>PR6253</td>\n",
       "      <td>101</td>\n",
       "      <td>1040</td>\n",
       "      <td>indeterminate</td>\n",
       "      <td>10.297030</td>\n",
       "      <td>3327.5</td>\n",
       "      <td>227.0</td>\n",
       "      <td>182.9</td>\n",
       "      <td>471.563320</td>\n",
       "      <td>5612.323552</td>\n",
       "    </tr>\n",
       "    <tr>\n",
       "      <th>3</th>\n",
       "      <td>Rep10104</td>\n",
       "      <td>C21116</td>\n",
       "      <td>PR6253</td>\n",
       "      <td>283</td>\n",
       "      <td>4495</td>\n",
       "      <td>No</td>\n",
       "      <td>15.883392</td>\n",
       "      <td>3327.5</td>\n",
       "      <td>227.0</td>\n",
       "      <td>182.9</td>\n",
       "      <td>471.563320</td>\n",
       "      <td>5612.323552</td>\n",
       "    </tr>\n",
       "    <tr>\n",
       "      <th>4</th>\n",
       "      <td>Rep10105</td>\n",
       "      <td>C21116</td>\n",
       "      <td>PR6294</td>\n",
       "      <td>108</td>\n",
       "      <td>1465</td>\n",
       "      <td>indeterminate</td>\n",
       "      <td>13.564815</td>\n",
       "      <td>1662.5</td>\n",
       "      <td>112.5</td>\n",
       "      <td>182.9</td>\n",
       "      <td>224.248227</td>\n",
       "      <td>5203.262411</td>\n",
       "    </tr>\n",
       "  </tbody>\n",
       "</table>\n",
       "</div>"
      ],
      "text/plain": [
       "   ReportID SalesPersonID ProductID  Quantity  TotalSalesValue     Suspicious  \\\n",
       "0  Rep10101        C21116    PR6112       182             1665  indeterminate   \n",
       "1  Rep10102        C21116    PR6112       182             1740  indeterminate   \n",
       "2  Rep10103        C21116    PR6253       101             1040  indeterminate   \n",
       "3  Rep10104        C21116    PR6253       283             4495             No   \n",
       "4  Rep10105        C21116    PR6294       108             1465  indeterminate   \n",
       "\n",
       "   OneUnitSalesValue  AvgSelingPrice  AvgQuantity  AvgQuantityperguy  \\\n",
       "0           9.148352          1715.0        182.0              182.9   \n",
       "1           9.560440          1715.0        182.0              182.9   \n",
       "2          10.297030          3327.5        227.0              182.9   \n",
       "3          15.883392          3327.5        227.0              182.9   \n",
       "4          13.564815          1662.5        112.5              182.9   \n",
       "\n",
       "   AvgQuantityperProduct  AvgSalesValueperProduct  \n",
       "0             591.650888              6876.035503  \n",
       "1             591.650888              6876.035503  \n",
       "2             471.563320              5612.323552  \n",
       "3             471.563320              5612.323552  \n",
       "4             224.248227              5203.262411  "
      ]
     },
     "execution_count": 33,
     "metadata": {},
     "output_type": "execute_result"
    }
   ],
   "source": [
    "dftrain=pd.merge(dftrain,AvgSalesValueperProduct,on=['ProductID'],how='left')\n",
    "dftrain=dftrain.rename(index=str, columns={\"TotalSalesValue_y\": \"AvgSalesValueperProduct\",'TotalSalesValue_x':'TotalSalesValue','Quantity_x':'Quantity','AvgQuantity_x':'AvgQuantity'})\n",
    "dftrain.head()"
   ]
  },
  {
   "cell_type": "code",
   "execution_count": 34,
   "metadata": {},
   "outputs": [],
   "source": [
    "AvgSalesValueperProduct=dftest.groupby(['ProductID']).mean()['TotalSalesValue']\n",
    "AvgSalesValueperProduct=pd.DataFrame(AvgSalesValueperProduct)\n",
    "#AvgSalesValueperProduct.head()"
   ]
  },
  {
   "cell_type": "code",
   "execution_count": 35,
   "metadata": {},
   "outputs": [
    {
     "data": {
      "text/html": [
       "<div>\n",
       "<style scoped>\n",
       "    .dataframe tbody tr th:only-of-type {\n",
       "        vertical-align: middle;\n",
       "    }\n",
       "\n",
       "    .dataframe tbody tr th {\n",
       "        vertical-align: top;\n",
       "    }\n",
       "\n",
       "    .dataframe thead th {\n",
       "        text-align: right;\n",
       "    }\n",
       "</style>\n",
       "<table border=\"1\" class=\"dataframe\">\n",
       "  <thead>\n",
       "    <tr style=\"text-align: right;\">\n",
       "      <th></th>\n",
       "      <th>ReportID</th>\n",
       "      <th>SalesPersonID</th>\n",
       "      <th>ProductID</th>\n",
       "      <th>Quantity</th>\n",
       "      <th>TotalSalesValue</th>\n",
       "      <th>OneUnitSalesValue</th>\n",
       "      <th>AvgSelingPrice</th>\n",
       "      <th>AvgQuantity</th>\n",
       "      <th>AvgQuantityperguy</th>\n",
       "      <th>AvgQuantityperProduct</th>\n",
       "      <th>AvgSalesValueperProduct</th>\n",
       "    </tr>\n",
       "  </thead>\n",
       "  <tbody>\n",
       "    <tr>\n",
       "      <th>0</th>\n",
       "      <td>Rep70101</td>\n",
       "      <td>C21844</td>\n",
       "      <td>PR6483</td>\n",
       "      <td>102</td>\n",
       "      <td>1115</td>\n",
       "      <td>6.126374</td>\n",
       "      <td>1115.0</td>\n",
       "      <td>102.0</td>\n",
       "      <td>147.3</td>\n",
       "      <td>192.702128</td>\n",
       "      <td>1840.106383</td>\n",
       "    </tr>\n",
       "    <tr>\n",
       "      <th>1</th>\n",
       "      <td>Rep70102</td>\n",
       "      <td>C21844</td>\n",
       "      <td>PR6251</td>\n",
       "      <td>102</td>\n",
       "      <td>1050</td>\n",
       "      <td>5.769231</td>\n",
       "      <td>1050.0</td>\n",
       "      <td>102.0</td>\n",
       "      <td>147.3</td>\n",
       "      <td>387.523077</td>\n",
       "      <td>3268.692308</td>\n",
       "    </tr>\n",
       "    <tr>\n",
       "      <th>2</th>\n",
       "      <td>Rep70103</td>\n",
       "      <td>C21844</td>\n",
       "      <td>PR6253</td>\n",
       "      <td>344</td>\n",
       "      <td>3490</td>\n",
       "      <td>34.554455</td>\n",
       "      <td>2252.5</td>\n",
       "      <td>225.5</td>\n",
       "      <td>147.3</td>\n",
       "      <td>729.142384</td>\n",
       "      <td>5101.100993</td>\n",
       "    </tr>\n",
       "    <tr>\n",
       "      <th>3</th>\n",
       "      <td>Rep70104</td>\n",
       "      <td>C21844</td>\n",
       "      <td>PR6378</td>\n",
       "      <td>108</td>\n",
       "      <td>1095</td>\n",
       "      <td>3.869258</td>\n",
       "      <td>1095.0</td>\n",
       "      <td>108.0</td>\n",
       "      <td>147.3</td>\n",
       "      <td>130.835443</td>\n",
       "      <td>2788.544304</td>\n",
       "    </tr>\n",
       "    <tr>\n",
       "      <th>4</th>\n",
       "      <td>Rep70105</td>\n",
       "      <td>C21844</td>\n",
       "      <td>PR6463</td>\n",
       "      <td>146</td>\n",
       "      <td>1055</td>\n",
       "      <td>9.768519</td>\n",
       "      <td>1071.0</td>\n",
       "      <td>155.8</td>\n",
       "      <td>147.3</td>\n",
       "      <td>204.454545</td>\n",
       "      <td>1558.636364</td>\n",
       "    </tr>\n",
       "  </tbody>\n",
       "</table>\n",
       "</div>"
      ],
      "text/plain": [
       "   ReportID SalesPersonID ProductID  Quantity  TotalSalesValue  \\\n",
       "0  Rep70101        C21844    PR6483       102             1115   \n",
       "1  Rep70102        C21844    PR6251       102             1050   \n",
       "2  Rep70103        C21844    PR6253       344             3490   \n",
       "3  Rep70104        C21844    PR6378       108             1095   \n",
       "4  Rep70105        C21844    PR6463       146             1055   \n",
       "\n",
       "   OneUnitSalesValue  AvgSelingPrice  AvgQuantity  AvgQuantityperguy  \\\n",
       "0           6.126374          1115.0        102.0              147.3   \n",
       "1           5.769231          1050.0        102.0              147.3   \n",
       "2          34.554455          2252.5        225.5              147.3   \n",
       "3           3.869258          1095.0        108.0              147.3   \n",
       "4           9.768519          1071.0        155.8              147.3   \n",
       "\n",
       "   AvgQuantityperProduct  AvgSalesValueperProduct  \n",
       "0             192.702128              1840.106383  \n",
       "1             387.523077              3268.692308  \n",
       "2             729.142384              5101.100993  \n",
       "3             130.835443              2788.544304  \n",
       "4             204.454545              1558.636364  "
      ]
     },
     "execution_count": 35,
     "metadata": {},
     "output_type": "execute_result"
    }
   ],
   "source": [
    "dftest=pd.merge(dftest,AvgSalesValueperProduct,on=['ProductID'],how='left')\n",
    "dftest=dftest.rename(index=str, columns={\"TotalSalesValue_y\": \"AvgSalesValueperProduct\",'TotalSalesValue_x':'TotalSalesValue','Quantity_x':'Quantity','AvgQuantity_x':'AvgQuantity'})\n",
    "dftest.head()"
   ]
  },
  {
   "cell_type": "code",
   "execution_count": 36,
   "metadata": {},
   "outputs": [
    {
     "data": {
      "text/plain": [
       "<matplotlib.axes._subplots.AxesSubplot at 0x1d908efb400>"
      ]
     },
     "execution_count": 36,
     "metadata": {},
     "output_type": "execute_result"
    },
    {
     "data": {
      "image/png": "[encoded data removed]",
      "text/plain": [
       "<Figure size 432x288 with 1 Axes>"
      ]
     },
     "metadata": {},
     "output_type": "display_data"
    }
   ],
   "source": [
    "dftrain.groupby(['Suspicious'])[['AvgSalesValueperProduct']].mean().plot.bar(color = \"#b53838\")"
   ]
  },
  {
   "cell_type": "markdown",
   "metadata": {},
   "source": [
    "### AvgTransactionsSalesPrice:\n",
    "Average TotalSalesValue sold for a given SalesPersonID"
   ]
  },
  {
   "cell_type": "code",
   "execution_count": 37,
   "metadata": {},
   "outputs": [
    {
     "data": {
      "text/html": [
       "<div>\n",
       "<style scoped>\n",
       "    .dataframe tbody tr th:only-of-type {\n",
       "        vertical-align: middle;\n",
       "    }\n",
       "\n",
       "    .dataframe tbody tr th {\n",
       "        vertical-align: top;\n",
       "    }\n",
       "\n",
       "    .dataframe thead th {\n",
       "        text-align: right;\n",
       "    }\n",
       "</style>\n",
       "<table border=\"1\" class=\"dataframe\">\n",
       "  <thead>\n",
       "    <tr style=\"text-align: right;\">\n",
       "      <th></th>\n",
       "      <th>ReportID</th>\n",
       "      <th>SalesPersonID</th>\n",
       "      <th>ProductID</th>\n",
       "      <th>Quantity</th>\n",
       "      <th>TotalSalesValue</th>\n",
       "      <th>Suspicious</th>\n",
       "      <th>OneUnitSalesValue</th>\n",
       "      <th>AvgSelingPrice</th>\n",
       "      <th>AvgQuantity</th>\n",
       "      <th>AvgQuantityperguy</th>\n",
       "      <th>AvgQuantityperProduct</th>\n",
       "      <th>AvgSalesValueperProduct</th>\n",
       "      <th>AvgTransactionsSalesPrice</th>\n",
       "    </tr>\n",
       "  </thead>\n",
       "  <tbody>\n",
       "    <tr>\n",
       "      <th>0</th>\n",
       "      <td>Rep10101</td>\n",
       "      <td>C21116</td>\n",
       "      <td>PR6112</td>\n",
       "      <td>182</td>\n",
       "      <td>1665</td>\n",
       "      <td>indeterminate</td>\n",
       "      <td>9.148352</td>\n",
       "      <td>1715.0</td>\n",
       "      <td>182.0</td>\n",
       "      <td>182.9</td>\n",
       "      <td>591.650888</td>\n",
       "      <td>6876.035503</td>\n",
       "      <td>2408.0</td>\n",
       "    </tr>\n",
       "    <tr>\n",
       "      <th>1</th>\n",
       "      <td>Rep10102</td>\n",
       "      <td>C21116</td>\n",
       "      <td>PR6112</td>\n",
       "      <td>182</td>\n",
       "      <td>1740</td>\n",
       "      <td>indeterminate</td>\n",
       "      <td>9.560440</td>\n",
       "      <td>1715.0</td>\n",
       "      <td>182.0</td>\n",
       "      <td>182.9</td>\n",
       "      <td>591.650888</td>\n",
       "      <td>6876.035503</td>\n",
       "      <td>2408.0</td>\n",
       "    </tr>\n",
       "    <tr>\n",
       "      <th>2</th>\n",
       "      <td>Rep10103</td>\n",
       "      <td>C21116</td>\n",
       "      <td>PR6253</td>\n",
       "      <td>101</td>\n",
       "      <td>1040</td>\n",
       "      <td>indeterminate</td>\n",
       "      <td>10.297030</td>\n",
       "      <td>3327.5</td>\n",
       "      <td>227.0</td>\n",
       "      <td>182.9</td>\n",
       "      <td>471.563320</td>\n",
       "      <td>5612.323552</td>\n",
       "      <td>2408.0</td>\n",
       "    </tr>\n",
       "    <tr>\n",
       "      <th>3</th>\n",
       "      <td>Rep10104</td>\n",
       "      <td>C21116</td>\n",
       "      <td>PR6253</td>\n",
       "      <td>283</td>\n",
       "      <td>4495</td>\n",
       "      <td>No</td>\n",
       "      <td>15.883392</td>\n",
       "      <td>3327.5</td>\n",
       "      <td>227.0</td>\n",
       "      <td>182.9</td>\n",
       "      <td>471.563320</td>\n",
       "      <td>5612.323552</td>\n",
       "      <td>2408.0</td>\n",
       "    </tr>\n",
       "    <tr>\n",
       "      <th>4</th>\n",
       "      <td>Rep10105</td>\n",
       "      <td>C21116</td>\n",
       "      <td>PR6294</td>\n",
       "      <td>108</td>\n",
       "      <td>1465</td>\n",
       "      <td>indeterminate</td>\n",
       "      <td>13.564815</td>\n",
       "      <td>1662.5</td>\n",
       "      <td>112.5</td>\n",
       "      <td>182.9</td>\n",
       "      <td>224.248227</td>\n",
       "      <td>5203.262411</td>\n",
       "      <td>2408.0</td>\n",
       "    </tr>\n",
       "  </tbody>\n",
       "</table>\n",
       "</div>"
      ],
      "text/plain": [
       "   ReportID SalesPersonID ProductID  Quantity  TotalSalesValue     Suspicious  \\\n",
       "0  Rep10101        C21116    PR6112       182             1665  indeterminate   \n",
       "1  Rep10102        C21116    PR6112       182             1740  indeterminate   \n",
       "2  Rep10103        C21116    PR6253       101             1040  indeterminate   \n",
       "3  Rep10104        C21116    PR6253       283             4495             No   \n",
       "4  Rep10105        C21116    PR6294       108             1465  indeterminate   \n",
       "\n",
       "   OneUnitSalesValue  AvgSelingPrice  AvgQuantity  AvgQuantityperguy  \\\n",
       "0           9.148352          1715.0        182.0              182.9   \n",
       "1           9.560440          1715.0        182.0              182.9   \n",
       "2          10.297030          3327.5        227.0              182.9   \n",
       "3          15.883392          3327.5        227.0              182.9   \n",
       "4          13.564815          1662.5        112.5              182.9   \n",
       "\n",
       "   AvgQuantityperProduct  AvgSalesValueperProduct  AvgTransactionsSalesPrice  \n",
       "0             591.650888              6876.035503                     2408.0  \n",
       "1             591.650888              6876.035503                     2408.0  \n",
       "2             471.563320              5612.323552                     2408.0  \n",
       "3             471.563320              5612.323552                     2408.0  \n",
       "4             224.248227              5203.262411                     2408.0  "
      ]
     },
     "execution_count": 37,
     "metadata": {},
     "output_type": "execute_result"
    }
   ],
   "source": [
    "AvgTransactionsSalesPrice = dftrain.groupby(['SalesPersonID'])[['TotalSalesValue']].mean()\n",
    "AvgTransactionsSalesPrice = AvgTransactionsSalesPrice.rename(columns={'TotalSalesValue': 'AvgTransactionsSalesPrice'})\n",
    "dftrain = dftrain.join(AvgTransactionsSalesPrice,on = ['SalesPersonID'])\n",
    "dftrain.head()"
   ]
  },
  {
   "cell_type": "code",
   "execution_count": 38,
   "metadata": {},
   "outputs": [
    {
     "data": {
      "text/html": [
       "<div>\n",
       "<style scoped>\n",
       "    .dataframe tbody tr th:only-of-type {\n",
       "        vertical-align: middle;\n",
       "    }\n",
       "\n",
       "    .dataframe tbody tr th {\n",
       "        vertical-align: top;\n",
       "    }\n",
       "\n",
       "    .dataframe thead th {\n",
       "        text-align: right;\n",
       "    }\n",
       "</style>\n",
       "<table border=\"1\" class=\"dataframe\">\n",
       "  <thead>\n",
       "    <tr style=\"text-align: right;\">\n",
       "      <th></th>\n",
       "      <th>ReportID</th>\n",
       "      <th>SalesPersonID</th>\n",
       "      <th>ProductID</th>\n",
       "      <th>Quantity</th>\n",
       "      <th>TotalSalesValue</th>\n",
       "      <th>OneUnitSalesValue</th>\n",
       "      <th>AvgSelingPrice</th>\n",
       "      <th>AvgQuantity</th>\n",
       "      <th>AvgQuantityperguy</th>\n",
       "      <th>AvgQuantityperProduct</th>\n",
       "      <th>AvgSalesValueperProduct</th>\n",
       "      <th>AvgTransactionsSalesPrice</th>\n",
       "    </tr>\n",
       "  </thead>\n",
       "  <tbody>\n",
       "    <tr>\n",
       "      <th>0</th>\n",
       "      <td>Rep70101</td>\n",
       "      <td>C21844</td>\n",
       "      <td>PR6483</td>\n",
       "      <td>102</td>\n",
       "      <td>1115</td>\n",
       "      <td>6.126374</td>\n",
       "      <td>1115.0</td>\n",
       "      <td>102.0</td>\n",
       "      <td>147.3</td>\n",
       "      <td>192.702128</td>\n",
       "      <td>1840.106383</td>\n",
       "      <td>1422.0</td>\n",
       "    </tr>\n",
       "    <tr>\n",
       "      <th>1</th>\n",
       "      <td>Rep70102</td>\n",
       "      <td>C21844</td>\n",
       "      <td>PR6251</td>\n",
       "      <td>102</td>\n",
       "      <td>1050</td>\n",
       "      <td>5.769231</td>\n",
       "      <td>1050.0</td>\n",
       "      <td>102.0</td>\n",
       "      <td>147.3</td>\n",
       "      <td>387.523077</td>\n",
       "      <td>3268.692308</td>\n",
       "      <td>1422.0</td>\n",
       "    </tr>\n",
       "    <tr>\n",
       "      <th>2</th>\n",
       "      <td>Rep70103</td>\n",
       "      <td>C21844</td>\n",
       "      <td>PR6253</td>\n",
       "      <td>344</td>\n",
       "      <td>3490</td>\n",
       "      <td>34.554455</td>\n",
       "      <td>2252.5</td>\n",
       "      <td>225.5</td>\n",
       "      <td>147.3</td>\n",
       "      <td>729.142384</td>\n",
       "      <td>5101.100993</td>\n",
       "      <td>1422.0</td>\n",
       "    </tr>\n",
       "    <tr>\n",
       "      <th>3</th>\n",
       "      <td>Rep70104</td>\n",
       "      <td>C21844</td>\n",
       "      <td>PR6378</td>\n",
       "      <td>108</td>\n",
       "      <td>1095</td>\n",
       "      <td>3.869258</td>\n",
       "      <td>1095.0</td>\n",
       "      <td>108.0</td>\n",
       "      <td>147.3</td>\n",
       "      <td>130.835443</td>\n",
       "      <td>2788.544304</td>\n",
       "      <td>1422.0</td>\n",
       "    </tr>\n",
       "    <tr>\n",
       "      <th>4</th>\n",
       "      <td>Rep70105</td>\n",
       "      <td>C21844</td>\n",
       "      <td>PR6463</td>\n",
       "      <td>146</td>\n",
       "      <td>1055</td>\n",
       "      <td>9.768519</td>\n",
       "      <td>1071.0</td>\n",
       "      <td>155.8</td>\n",
       "      <td>147.3</td>\n",
       "      <td>204.454545</td>\n",
       "      <td>1558.636364</td>\n",
       "      <td>1422.0</td>\n",
       "    </tr>\n",
       "  </tbody>\n",
       "</table>\n",
       "</div>"
      ],
      "text/plain": [
       "   ReportID SalesPersonID ProductID  Quantity  TotalSalesValue  \\\n",
       "0  Rep70101        C21844    PR6483       102             1115   \n",
       "1  Rep70102        C21844    PR6251       102             1050   \n",
       "2  Rep70103        C21844    PR6253       344             3490   \n",
       "3  Rep70104        C21844    PR6378       108             1095   \n",
       "4  Rep70105        C21844    PR6463       146             1055   \n",
       "\n",
       "   OneUnitSalesValue  AvgSelingPrice  AvgQuantity  AvgQuantityperguy  \\\n",
       "0           6.126374          1115.0        102.0              147.3   \n",
       "1           5.769231          1050.0        102.0              147.3   \n",
       "2          34.554455          2252.5        225.5              147.3   \n",
       "3           3.869258          1095.0        108.0              147.3   \n",
       "4           9.768519          1071.0        155.8              147.3   \n",
       "\n",
       "   AvgQuantityperProduct  AvgSalesValueperProduct  AvgTransactionsSalesPrice  \n",
       "0             192.702128              1840.106383                     1422.0  \n",
       "1             387.523077              3268.692308                     1422.0  \n",
       "2             729.142384              5101.100993                     1422.0  \n",
       "3             130.835443              2788.544304                     1422.0  \n",
       "4             204.454545              1558.636364                     1422.0  "
      ]
     },
     "execution_count": 38,
     "metadata": {},
     "output_type": "execute_result"
    }
   ],
   "source": [
    "AvgTransactionsSalesPrice = dftest.groupby(['SalesPersonID'])[['TotalSalesValue']].mean()\n",
    "AvgTransactionsSalesPrice = AvgTransactionsSalesPrice.rename(columns={'TotalSalesValue': 'AvgTransactionsSalesPrice'})\n",
    "dftest = dftest.join(AvgTransactionsSalesPrice,on = ['SalesPersonID'])\n",
    "dftest.head()"
   ]
  },
  {
   "cell_type": "code",
   "execution_count": 39,
   "metadata": {},
   "outputs": [
    {
     "data": {
      "text/plain": [
       "<matplotlib.axes._subplots.AxesSubplot at 0x1d908edc5f8>"
      ]
     },
     "execution_count": 39,
     "metadata": {},
     "output_type": "execute_result"
    },
    {
     "data": {
      "image/png": "[encoded data removed]",
      "text/plain": [
       "<Figure size 432x288 with 1 Axes>"
      ]
     },
     "metadata": {},
     "output_type": "display_data"
    }
   ],
   "source": [
    "dftrain.groupby(['Suspicious'])[['AvgTransactionsSalesPrice']].mean().plot.bar(color = \"#b53838\")"
   ]
  },
  {
   "cell_type": "code",
   "execution_count": 40,
   "metadata": {},
   "outputs": [],
   "source": [
    "dftrain['RatioOfQuantitySold'] = dftrain['Quantity']/dftrain['AvgQuantityperProduct']"
   ]
  },
  {
   "cell_type": "code",
   "execution_count": 41,
   "metadata": {},
   "outputs": [],
   "source": [
    "dftest['RatioOfQuantitySold'] = dftest['Quantity']/dftest['AvgQuantityperProduct']"
   ]
  },
  {
   "cell_type": "code",
   "execution_count": 42,
   "metadata": {},
   "outputs": [
    {
     "data": {
      "text/plain": [
       "<matplotlib.axes._subplots.AxesSubplot at 0x1d90967e0b8>"
      ]
     },
     "execution_count": 42,
     "metadata": {},
     "output_type": "execute_result"
    },
    {
     "data": {
      "image/png": "[encoded data removed]",
      "text/plain": [
       "<Figure size 432x288 with 1 Axes>"
      ]
     },
     "metadata": {},
     "output_type": "display_data"
    }
   ],
   "source": [
    "dftrain.groupby(['Suspicious'])[['RatioOfQuantitySold']].mean().plot.bar(color = \"#b53838\")"
   ]
  },
  {
   "cell_type": "markdown",
   "metadata": {},
   "source": [
    "### TotalProductperSalesPerson\n",
    "Average TotalSalesValue sold for a given SalesPersonID"
   ]
  },
  {
   "cell_type": "code",
   "execution_count": 43,
   "metadata": {},
   "outputs": [
    {
     "data": {
      "text/html": [
       "<div>\n",
       "<style scoped>\n",
       "    .dataframe tbody tr th:only-of-type {\n",
       "        vertical-align: middle;\n",
       "    }\n",
       "\n",
       "    .dataframe tbody tr th {\n",
       "        vertical-align: top;\n",
       "    }\n",
       "\n",
       "    .dataframe thead th {\n",
       "        text-align: right;\n",
       "    }\n",
       "</style>\n",
       "<table border=\"1\" class=\"dataframe\">\n",
       "  <thead>\n",
       "    <tr style=\"text-align: right;\">\n",
       "      <th></th>\n",
       "      <th>ReportID</th>\n",
       "      <th>SalesPersonID</th>\n",
       "      <th>ProductID</th>\n",
       "      <th>Quantity</th>\n",
       "      <th>TotalSalesValue</th>\n",
       "      <th>Suspicious</th>\n",
       "      <th>OneUnitSalesValue</th>\n",
       "      <th>AvgSelingPrice</th>\n",
       "      <th>AvgQuantity</th>\n",
       "      <th>AvgQuantityperguy</th>\n",
       "      <th>AvgQuantityperProduct</th>\n",
       "      <th>AvgSalesValueperProduct</th>\n",
       "      <th>AvgTransactionsSalesPrice</th>\n",
       "      <th>RatioOfQuantitySold</th>\n",
       "      <th>Total Pro SSP</th>\n",
       "    </tr>\n",
       "  </thead>\n",
       "  <tbody>\n",
       "    <tr>\n",
       "      <th>0</th>\n",
       "      <td>Rep10101</td>\n",
       "      <td>C21116</td>\n",
       "      <td>PR6112</td>\n",
       "      <td>182</td>\n",
       "      <td>1665</td>\n",
       "      <td>indeterminate</td>\n",
       "      <td>9.148352</td>\n",
       "      <td>1715.0</td>\n",
       "      <td>182.0</td>\n",
       "      <td>182.9</td>\n",
       "      <td>591.650888</td>\n",
       "      <td>6876.035503</td>\n",
       "      <td>2408.0</td>\n",
       "      <td>0.307614</td>\n",
       "      <td>546</td>\n",
       "    </tr>\n",
       "    <tr>\n",
       "      <th>1</th>\n",
       "      <td>Rep10102</td>\n",
       "      <td>C21116</td>\n",
       "      <td>PR6112</td>\n",
       "      <td>182</td>\n",
       "      <td>1740</td>\n",
       "      <td>indeterminate</td>\n",
       "      <td>9.560440</td>\n",
       "      <td>1715.0</td>\n",
       "      <td>182.0</td>\n",
       "      <td>182.9</td>\n",
       "      <td>591.650888</td>\n",
       "      <td>6876.035503</td>\n",
       "      <td>2408.0</td>\n",
       "      <td>0.307614</td>\n",
       "      <td>546</td>\n",
       "    </tr>\n",
       "    <tr>\n",
       "      <th>2</th>\n",
       "      <td>Rep10103</td>\n",
       "      <td>C21116</td>\n",
       "      <td>PR6253</td>\n",
       "      <td>101</td>\n",
       "      <td>1040</td>\n",
       "      <td>indeterminate</td>\n",
       "      <td>10.297030</td>\n",
       "      <td>3327.5</td>\n",
       "      <td>227.0</td>\n",
       "      <td>182.9</td>\n",
       "      <td>471.563320</td>\n",
       "      <td>5612.323552</td>\n",
       "      <td>2408.0</td>\n",
       "      <td>0.214181</td>\n",
       "      <td>908</td>\n",
       "    </tr>\n",
       "    <tr>\n",
       "      <th>3</th>\n",
       "      <td>Rep10104</td>\n",
       "      <td>C21116</td>\n",
       "      <td>PR6253</td>\n",
       "      <td>283</td>\n",
       "      <td>4495</td>\n",
       "      <td>No</td>\n",
       "      <td>15.883392</td>\n",
       "      <td>3327.5</td>\n",
       "      <td>227.0</td>\n",
       "      <td>182.9</td>\n",
       "      <td>471.563320</td>\n",
       "      <td>5612.323552</td>\n",
       "      <td>2408.0</td>\n",
       "      <td>0.600131</td>\n",
       "      <td>908</td>\n",
       "    </tr>\n",
       "    <tr>\n",
       "      <th>4</th>\n",
       "      <td>Rep10105</td>\n",
       "      <td>C21116</td>\n",
       "      <td>PR6294</td>\n",
       "      <td>108</td>\n",
       "      <td>1465</td>\n",
       "      <td>indeterminate</td>\n",
       "      <td>13.564815</td>\n",
       "      <td>1662.5</td>\n",
       "      <td>112.5</td>\n",
       "      <td>182.9</td>\n",
       "      <td>224.248227</td>\n",
       "      <td>5203.262411</td>\n",
       "      <td>2408.0</td>\n",
       "      <td>0.481609</td>\n",
       "      <td>225</td>\n",
       "    </tr>\n",
       "  </tbody>\n",
       "</table>\n",
       "</div>"
      ],
      "text/plain": [
       "   ReportID SalesPersonID ProductID  Quantity  TotalSalesValue     Suspicious  \\\n",
       "0  Rep10101        C21116    PR6112       182             1665  indeterminate   \n",
       "1  Rep10102        C21116    PR6112       182             1740  indeterminate   \n",
       "2  Rep10103        C21116    PR6253       101             1040  indeterminate   \n",
       "3  Rep10104        C21116    PR6253       283             4495             No   \n",
       "4  Rep10105        C21116    PR6294       108             1465  indeterminate   \n",
       "\n",
       "   OneUnitSalesValue  AvgSelingPrice  AvgQuantity  AvgQuantityperguy  \\\n",
       "0           9.148352          1715.0        182.0              182.9   \n",
       "1           9.560440          1715.0        182.0              182.9   \n",
       "2          10.297030          3327.5        227.0              182.9   \n",
       "3          15.883392          3327.5        227.0              182.9   \n",
       "4          13.564815          1662.5        112.5              182.9   \n",
       "\n",
       "   AvgQuantityperProduct  AvgSalesValueperProduct  AvgTransactionsSalesPrice  \\\n",
       "0             591.650888              6876.035503                     2408.0   \n",
       "1             591.650888              6876.035503                     2408.0   \n",
       "2             471.563320              5612.323552                     2408.0   \n",
       "3             471.563320              5612.323552                     2408.0   \n",
       "4             224.248227              5203.262411                     2408.0   \n",
       "\n",
       "   RatioOfQuantitySold  Total Pro SSP  \n",
       "0             0.307614            546  \n",
       "1             0.307614            546  \n",
       "2             0.214181            908  \n",
       "3             0.600131            908  \n",
       "4             0.481609            225  "
      ]
     },
     "execution_count": 43,
     "metadata": {},
     "output_type": "execute_result"
    }
   ],
   "source": [
    "df7 = dftrain.groupby(['SalesPersonID','ProductID'])[['Quantity']].sum()\n",
    "df7 = df7.rename(columns={'Quantity': 'TotalProductperSalesPerson'})\n",
    "dftrain = dftrain.join(df7,on=['SalesPersonID','ProductID'])\n",
    "dftrain.head()"
   ]
  },
  {
   "cell_type": "code",
   "execution_count": 44,
   "metadata": {},
   "outputs": [
    {
     "data": {
      "text/html": [
       "<div>\n",
       "<style scoped>\n",
       "    .dataframe tbody tr th:only-of-type {\n",
       "        vertical-align: middle;\n",
       "    }\n",
       "\n",
       "    .dataframe tbody tr th {\n",
       "        vertical-align: top;\n",
       "    }\n",
       "\n",
       "    .dataframe thead th {\n",
       "        text-align: right;\n",
       "    }\n",
       "</style>\n",
       "<table border=\"1\" class=\"dataframe\">\n",
       "  <thead>\n",
       "    <tr style=\"text-align: right;\">\n",
       "      <th></th>\n",
       "      <th>ReportID</th>\n",
       "      <th>SalesPersonID</th>\n",
       "      <th>ProductID</th>\n",
       "      <th>Quantity</th>\n",
       "      <th>TotalSalesValue</th>\n",
       "      <th>OneUnitSalesValue</th>\n",
       "      <th>AvgSelingPrice</th>\n",
       "      <th>AvgQuantity</th>\n",
       "      <th>AvgQuantityperguy</th>\n",
       "      <th>AvgQuantityperProduct</th>\n",
       "      <th>AvgSalesValueperProduct</th>\n",
       "      <th>AvgTransactionsSalesPrice</th>\n",
       "      <th>RatioOfQuantitySold</th>\n",
       "      <th>Total Pro SSP</th>\n",
       "    </tr>\n",
       "  </thead>\n",
       "  <tbody>\n",
       "    <tr>\n",
       "      <th>0</th>\n",
       "      <td>Rep70101</td>\n",
       "      <td>C21844</td>\n",
       "      <td>PR6483</td>\n",
       "      <td>102</td>\n",
       "      <td>1115</td>\n",
       "      <td>6.126374</td>\n",
       "      <td>1115.0</td>\n",
       "      <td>102.0</td>\n",
       "      <td>147.3</td>\n",
       "      <td>192.702128</td>\n",
       "      <td>1840.106383</td>\n",
       "      <td>1422.0</td>\n",
       "      <td>0.529314</td>\n",
       "      <td>408</td>\n",
       "    </tr>\n",
       "    <tr>\n",
       "      <th>1</th>\n",
       "      <td>Rep70102</td>\n",
       "      <td>C21844</td>\n",
       "      <td>PR6251</td>\n",
       "      <td>102</td>\n",
       "      <td>1050</td>\n",
       "      <td>5.769231</td>\n",
       "      <td>1050.0</td>\n",
       "      <td>102.0</td>\n",
       "      <td>147.3</td>\n",
       "      <td>387.523077</td>\n",
       "      <td>3268.692308</td>\n",
       "      <td>1422.0</td>\n",
       "      <td>0.263210</td>\n",
       "      <td>408</td>\n",
       "    </tr>\n",
       "    <tr>\n",
       "      <th>2</th>\n",
       "      <td>Rep70103</td>\n",
       "      <td>C21844</td>\n",
       "      <td>PR6253</td>\n",
       "      <td>344</td>\n",
       "      <td>3490</td>\n",
       "      <td>34.554455</td>\n",
       "      <td>2252.5</td>\n",
       "      <td>225.5</td>\n",
       "      <td>147.3</td>\n",
       "      <td>729.142384</td>\n",
       "      <td>5101.100993</td>\n",
       "      <td>1422.0</td>\n",
       "      <td>0.471787</td>\n",
       "      <td>451</td>\n",
       "    </tr>\n",
       "    <tr>\n",
       "      <th>3</th>\n",
       "      <td>Rep70104</td>\n",
       "      <td>C21844</td>\n",
       "      <td>PR6378</td>\n",
       "      <td>108</td>\n",
       "      <td>1095</td>\n",
       "      <td>3.869258</td>\n",
       "      <td>1095.0</td>\n",
       "      <td>108.0</td>\n",
       "      <td>147.3</td>\n",
       "      <td>130.835443</td>\n",
       "      <td>2788.544304</td>\n",
       "      <td>1422.0</td>\n",
       "      <td>0.825464</td>\n",
       "      <td>432</td>\n",
       "    </tr>\n",
       "    <tr>\n",
       "      <th>4</th>\n",
       "      <td>Rep70105</td>\n",
       "      <td>C21844</td>\n",
       "      <td>PR6463</td>\n",
       "      <td>146</td>\n",
       "      <td>1055</td>\n",
       "      <td>9.768519</td>\n",
       "      <td>1071.0</td>\n",
       "      <td>155.8</td>\n",
       "      <td>147.3</td>\n",
       "      <td>204.454545</td>\n",
       "      <td>1558.636364</td>\n",
       "      <td>1422.0</td>\n",
       "      <td>0.714095</td>\n",
       "      <td>779</td>\n",
       "    </tr>\n",
       "  </tbody>\n",
       "</table>\n",
       "</div>"
      ],
      "text/plain": [
       "   ReportID SalesPersonID ProductID  Quantity  TotalSalesValue  \\\n",
       "0  Rep70101        C21844    PR6483       102             1115   \n",
       "1  Rep70102        C21844    PR6251       102             1050   \n",
       "2  Rep70103        C21844    PR6253       344             3490   \n",
       "3  Rep70104        C21844    PR6378       108             1095   \n",
       "4  Rep70105        C21844    PR6463       146             1055   \n",
       "\n",
       "   OneUnitSalesValue  AvgSelingPrice  AvgQuantity  AvgQuantityperguy  \\\n",
       "0           6.126374          1115.0        102.0              147.3   \n",
       "1           5.769231          1050.0        102.0              147.3   \n",
       "2          34.554455          2252.5        225.5              147.3   \n",
       "3           3.869258          1095.0        108.0              147.3   \n",
       "4           9.768519          1071.0        155.8              147.3   \n",
       "\n",
       "   AvgQuantityperProduct  AvgSalesValueperProduct  AvgTransactionsSalesPrice  \\\n",
       "0             192.702128              1840.106383                     1422.0   \n",
       "1             387.523077              3268.692308                     1422.0   \n",
       "2             729.142384              5101.100993                     1422.0   \n",
       "3             130.835443              2788.544304                     1422.0   \n",
       "4             204.454545              1558.636364                     1422.0   \n",
       "\n",
       "   RatioOfQuantitySold  Total Pro SSP  \n",
       "0             0.529314            408  \n",
       "1             0.263210            408  \n",
       "2             0.471787            451  \n",
       "3             0.825464            432  \n",
       "4             0.714095            779  "
      ]
     },
     "execution_count": 44,
     "metadata": {},
     "output_type": "execute_result"
    }
   ],
   "source": [
    "df7 = dftest.groupby(['SalesPersonID','ProductID'])[['Quantity']].sum()\n",
    "df7 = df7.rename(columns={'Quantity': 'TotalProductperSalesPerson'})\n",
    "dftest = dftest.join(df7,on=['SalesPersonID','ProductID'])\n",
    "dftest.head()"
   ]
  },
  {
   "cell_type": "markdown",
   "metadata": {},
   "source": [
    "### RatioOfQuantiy:\n",
    "Quantity by Average Quantity sold for a given product gives the ratio of the Quantity sold"
   ]
  },
  {
   "cell_type": "code",
   "execution_count": 45,
   "metadata": {},
   "outputs": [],
   "source": [
    "dftrain['RatioOfQuantiy'] = dftrain['Quantity']/dftrain['AvgQuantity']"
   ]
  },
  {
   "cell_type": "code",
   "execution_count": 46,
   "metadata": {},
   "outputs": [],
   "source": [
    "dftest['RatioOfQuantiy'] = dftest['Quantity']/dftest['AvgQuantity']"
   ]
  },
  {
   "cell_type": "markdown",
   "metadata": {},
   "source": [
    "### TransactionsPerProduct\n",
    "Number of Transactions per product per SalesPerson"
   ]
  },
  {
   "cell_type": "code",
   "execution_count": 47,
   "metadata": {},
   "outputs": [],
   "source": [
    "TransactionsPerProduct = dftrain.groupby(['ProductID'])[['SalesPersonID']].count()\n",
    "TransactionsPerProduct = TransactionsPerProduct.rename(columns={'SalesPersonID': 'TransactionsPerProduct'})\n",
    "dftrain = dftrain.join(TransactionsPerProduct,on=['ProductID'])"
   ]
  },
  {
   "cell_type": "code",
   "execution_count": 48,
   "metadata": {},
   "outputs": [],
   "source": [
    "TransactionsPerProduct = dftest.groupby(['ProductID'])[['SalesPersonID']].count()\n",
    "TransactionsPerProduct = TransactionsPerProduct.rename(columns={'SalesPersonID': 'TransactionsPerProduct'})\n",
    "dftest = dftest.join(TransactionsPerProduct,on=['ProductID'])"
   ]
  },
  {
   "cell_type": "code",
   "execution_count": 50,
   "metadata": {},
   "outputs": [],
   "source": [
    "TransactionsPerPersom = dftrain.groupby(['SalesPersonID'])[['ProductID']].count()\n",
    "TransactionsPerPersom = TransactionsPerPersom.rename(columns={'ProductID': 'TransactionsPerPerson'})\n",
    "dftrain = dftrain.join(TransactionsPerPersom,on=['SalesPersonID'])"
   ]
  },
  {
   "cell_type": "code",
   "execution_count": 51,
   "metadata": {},
   "outputs": [],
   "source": [
    "TransactionsPerPersom = dftest.groupby(['SalesPersonID'])[['ProductID']].count()\n",
    "TransactionsPerPersom = TransactionsPerPersom.rename(columns={'ProductID': 'TransactionsPerPerson'})\n",
    "dftest = dftest.join(TransactionsPerPersom,on=['SalesPersonID'])"
   ]
  },
  {
   "cell_type": "code",
   "execution_count": 49,
   "metadata": {},
   "outputs": [
    {
     "data": {
      "text/plain": [
       "<matplotlib.axes._subplots.AxesSubplot at 0x1d90de5da58>"
      ]
     },
     "execution_count": 49,
     "metadata": {},
     "output_type": "execute_result"
    },
    {
     "data": {
      "image/png": "[encoded data removed]",
      "text/plain": [
       "<Figure size 432x288 with 1 Axes>"
      ]
     },
     "metadata": {},
     "output_type": "display_data"
    }
   ],
   "source": [
    "dftrain.groupby(['Suspicious'])[['TransactionsPerProduct']].mean().plot.bar(color = \"#b53838\")"
   ]
  },
  {
   "cell_type": "markdown",
   "metadata": {},
   "source": [
    "### TotalValueOfProductPerPerson:\n",
    "Total value of product sold per SalesPerson"
   ]
  },
  {
   "cell_type": "code",
   "execution_count": 52,
   "metadata": {},
   "outputs": [],
   "source": [
    "TotalValueOfProductPerPerson = dftrain.groupby(['SalesPersonID','ProductID'])[['TotalSalesValue']].sum()\n",
    "TotalValueOfProductPerPerson=TotalValueOfProductPerPerson.rename(columns={'TotalSalesValue': 'TotalValueOfProductPerPerson'})\n",
    "dftrain = dftrain.join(TotalValueOfProductPerPerson,on=['SalesPersonID','ProductID'])"
   ]
  },
  {
   "cell_type": "code",
   "execution_count": 53,
   "metadata": {},
   "outputs": [],
   "source": [
    "TotalValueOfProductPerPerson = dftest.groupby(['SalesPersonID','ProductID'])[['TotalSalesValue']].sum()\n",
    "TotalValueOfProductPerPerson=TotalValueOfProductPerPerson.rename(columns={'TotalSalesValue': 'TotalValueOfProductPerPerson'})\n",
    "dftest = dftest.join(TotalValueOfProductPerPerson,on=['SalesPersonID','ProductID'])"
   ]
  },
  {
   "cell_type": "markdown",
   "metadata": {},
   "source": [
    "### AvgPricePerProduct:\n",
    "Average UnitSalesValue sold for a given ProductID"
   ]
  },
  {
   "cell_type": "code",
   "execution_count": 54,
   "metadata": {},
   "outputs": [
    {
     "data": {
      "text/html": [
       "<div>\n",
       "<style scoped>\n",
       "    .dataframe tbody tr th:only-of-type {\n",
       "        vertical-align: middle;\n",
       "    }\n",
       "\n",
       "    .dataframe tbody tr th {\n",
       "        vertical-align: top;\n",
       "    }\n",
       "\n",
       "    .dataframe thead th {\n",
       "        text-align: right;\n",
       "    }\n",
       "</style>\n",
       "<table border=\"1\" class=\"dataframe\">\n",
       "  <thead>\n",
       "    <tr style=\"text-align: right;\">\n",
       "      <th></th>\n",
       "      <th>ReportID</th>\n",
       "      <th>SalesPersonID</th>\n",
       "      <th>ProductID</th>\n",
       "      <th>Quantity</th>\n",
       "      <th>TotalSalesValue</th>\n",
       "      <th>Suspicious</th>\n",
       "      <th>OneUnitSalesValue</th>\n",
       "      <th>AvgSelingPrice</th>\n",
       "      <th>AvgQuantity</th>\n",
       "      <th>AvgQuantityperguy</th>\n",
       "      <th>AvgQuantityperProduct</th>\n",
       "      <th>AvgSalesValueperProduct</th>\n",
       "      <th>AvgTransactionsSalesPrice</th>\n",
       "      <th>RatioOfQuantitySold</th>\n",
       "      <th>Total Pro SSP</th>\n",
       "      <th>RatioOfQuantiy</th>\n",
       "      <th>TransactionsPerProduct</th>\n",
       "      <th>TransactionsPerPerson</th>\n",
       "      <th>TotalValueOfProductPerPerson</th>\n",
       "      <th>AvgPricePerProduct</th>\n",
       "    </tr>\n",
       "  </thead>\n",
       "  <tbody>\n",
       "    <tr>\n",
       "      <th>0</th>\n",
       "      <td>Rep10101</td>\n",
       "      <td>C21116</td>\n",
       "      <td>PR6112</td>\n",
       "      <td>182</td>\n",
       "      <td>1665</td>\n",
       "      <td>indeterminate</td>\n",
       "      <td>9.148352</td>\n",
       "      <td>1715.0</td>\n",
       "      <td>182.0</td>\n",
       "      <td>182.9</td>\n",
       "      <td>591.650888</td>\n",
       "      <td>6876.035503</td>\n",
       "      <td>2408.0</td>\n",
       "      <td>0.307614</td>\n",
       "      <td>546</td>\n",
       "      <td>1.000000</td>\n",
       "      <td>169</td>\n",
       "      <td>10</td>\n",
       "      <td>5145</td>\n",
       "      <td>14.164825</td>\n",
       "    </tr>\n",
       "    <tr>\n",
       "      <th>1</th>\n",
       "      <td>Rep10102</td>\n",
       "      <td>C21116</td>\n",
       "      <td>PR6112</td>\n",
       "      <td>182</td>\n",
       "      <td>1740</td>\n",
       "      <td>indeterminate</td>\n",
       "      <td>9.560440</td>\n",
       "      <td>1715.0</td>\n",
       "      <td>182.0</td>\n",
       "      <td>182.9</td>\n",
       "      <td>591.650888</td>\n",
       "      <td>6876.035503</td>\n",
       "      <td>2408.0</td>\n",
       "      <td>0.307614</td>\n",
       "      <td>546</td>\n",
       "      <td>1.000000</td>\n",
       "      <td>169</td>\n",
       "      <td>10</td>\n",
       "      <td>5145</td>\n",
       "      <td>14.164825</td>\n",
       "    </tr>\n",
       "    <tr>\n",
       "      <th>2</th>\n",
       "      <td>Rep10103</td>\n",
       "      <td>C21116</td>\n",
       "      <td>PR6253</td>\n",
       "      <td>101</td>\n",
       "      <td>1040</td>\n",
       "      <td>indeterminate</td>\n",
       "      <td>10.297030</td>\n",
       "      <td>3327.5</td>\n",
       "      <td>227.0</td>\n",
       "      <td>182.9</td>\n",
       "      <td>471.563320</td>\n",
       "      <td>5612.323552</td>\n",
       "      <td>2408.0</td>\n",
       "      <td>0.214181</td>\n",
       "      <td>908</td>\n",
       "      <td>0.444934</td>\n",
       "      <td>2590</td>\n",
       "      <td>10</td>\n",
       "      <td>13310</td>\n",
       "      <td>16.161482</td>\n",
       "    </tr>\n",
       "    <tr>\n",
       "      <th>3</th>\n",
       "      <td>Rep10104</td>\n",
       "      <td>C21116</td>\n",
       "      <td>PR6253</td>\n",
       "      <td>283</td>\n",
       "      <td>4495</td>\n",
       "      <td>No</td>\n",
       "      <td>15.883392</td>\n",
       "      <td>3327.5</td>\n",
       "      <td>227.0</td>\n",
       "      <td>182.9</td>\n",
       "      <td>471.563320</td>\n",
       "      <td>5612.323552</td>\n",
       "      <td>2408.0</td>\n",
       "      <td>0.600131</td>\n",
       "      <td>908</td>\n",
       "      <td>1.246696</td>\n",
       "      <td>2590</td>\n",
       "      <td>10</td>\n",
       "      <td>13310</td>\n",
       "      <td>16.161482</td>\n",
       "    </tr>\n",
       "    <tr>\n",
       "      <th>4</th>\n",
       "      <td>Rep10105</td>\n",
       "      <td>C21116</td>\n",
       "      <td>PR6294</td>\n",
       "      <td>108</td>\n",
       "      <td>1465</td>\n",
       "      <td>indeterminate</td>\n",
       "      <td>13.564815</td>\n",
       "      <td>1662.5</td>\n",
       "      <td>112.5</td>\n",
       "      <td>182.9</td>\n",
       "      <td>224.248227</td>\n",
       "      <td>5203.262411</td>\n",
       "      <td>2408.0</td>\n",
       "      <td>0.481609</td>\n",
       "      <td>225</td>\n",
       "      <td>0.960000</td>\n",
       "      <td>141</td>\n",
       "      <td>10</td>\n",
       "      <td>3325</td>\n",
       "      <td>20.898267</td>\n",
       "    </tr>\n",
       "  </tbody>\n",
       "</table>\n",
       "</div>"
      ],
      "text/plain": [
       "   ReportID SalesPersonID ProductID  Quantity  TotalSalesValue     Suspicious  \\\n",
       "0  Rep10101        C21116    PR6112       182             1665  indeterminate   \n",
       "1  Rep10102        C21116    PR6112       182             1740  indeterminate   \n",
       "2  Rep10103        C21116    PR6253       101             1040  indeterminate   \n",
       "3  Rep10104        C21116    PR6253       283             4495             No   \n",
       "4  Rep10105        C21116    PR6294       108             1465  indeterminate   \n",
       "\n",
       "   OneUnitSalesValue  AvgSelingPrice  AvgQuantity  AvgQuantityperguy  \\\n",
       "0           9.148352          1715.0        182.0              182.9   \n",
       "1           9.560440          1715.0        182.0              182.9   \n",
       "2          10.297030          3327.5        227.0              182.9   \n",
       "3          15.883392          3327.5        227.0              182.9   \n",
       "4          13.564815          1662.5        112.5              182.9   \n",
       "\n",
       "   AvgQuantityperProduct  AvgSalesValueperProduct  AvgTransactionsSalesPrice  \\\n",
       "0             591.650888              6876.035503                     2408.0   \n",
       "1             591.650888              6876.035503                     2408.0   \n",
       "2             471.563320              5612.323552                     2408.0   \n",
       "3             471.563320              5612.323552                     2408.0   \n",
       "4             224.248227              5203.262411                     2408.0   \n",
       "\n",
       "   RatioOfQuantitySold  Total Pro SSP  RatioOfQuantiy  TransactionsPerProduct  \\\n",
       "0             0.307614            546        1.000000                     169   \n",
       "1             0.307614            546        1.000000                     169   \n",
       "2             0.214181            908        0.444934                    2590   \n",
       "3             0.600131            908        1.246696                    2590   \n",
       "4             0.481609            225        0.960000                     141   \n",
       "\n",
       "   TransactionsPerPerson  TotalValueOfProductPerPerson  AvgPricePerProduct  \n",
       "0                     10                          5145           14.164825  \n",
       "1                     10                          5145           14.164825  \n",
       "2                     10                         13310           16.161482  \n",
       "3                     10                         13310           16.161482  \n",
       "4                     10                          3325           20.898267  "
      ]
     },
     "execution_count": 54,
     "metadata": {},
     "output_type": "execute_result"
    }
   ],
   "source": [
    "AvgPricePerProduct = dftrain.groupby(['ProductID'])[['OneUnitSalesValue']].mean()\n",
    "AvgPricePerProduct = AvgPricePerProduct.rename(columns={'OneUnitSalesValue': 'AvgPricePerProduct'})\n",
    "dftrain = dftrain.join(AvgPricePerProduct,on ='ProductID')\n",
    "dftrain.head()"
   ]
  },
  {
   "cell_type": "code",
   "execution_count": 55,
   "metadata": {},
   "outputs": [],
   "source": [
    "AvgPricePerProduct = dftest.groupby(['ProductID'])[['OneUnitSalesValue']].mean()\n",
    "AvgPricePerProduct = AvgPricePerProduct.rename(columns={'OneUnitSalesValue': 'AvgPricePerProduct'})\n",
    "dftest = dftest.join(AvgPricePerProduct,on ='ProductID')"
   ]
  },
  {
   "cell_type": "markdown",
   "metadata": {},
   "source": [
    "### AvgSellingQuantitySalesPerson:\n",
    "Average Quantity sold for a given SalesPerson"
   ]
  },
  {
   "cell_type": "code",
   "execution_count": 56,
   "metadata": {},
   "outputs": [],
   "source": [
    "AvgSellingQuantitySalesPerson = dftrain.groupby(['SalesPersonID'])[['Quantity']].mean()\n",
    "AvgSellingQuantitySalesPerson = AvgSellingQuantitySalesPerson.rename(columns={'Quantity': 'AvgSellingQuantitySalesPerson'})\n",
    "dftrain = dftrain.join(AvgSellingQuantitySalesPerson,on=['SalesPersonID'])"
   ]
  },
  {
   "cell_type": "code",
   "execution_count": 57,
   "metadata": {},
   "outputs": [],
   "source": [
    "AvgSellingQuantitySalesPerson = dftest.groupby(['SalesPersonID'])[['Quantity']].mean()\n",
    "AvgSellingQuantitySalesPerson = AvgSellingQuantitySalesPerson.rename(columns={'Quantity': 'AvgSellingQuantitySalesPerson'})\n",
    "dftest = dftest.join(AvgSellingQuantitySalesPerson,on=['SalesPersonID'])"
   ]
  },
  {
   "cell_type": "code",
   "execution_count": 58,
   "metadata": {},
   "outputs": [
    {
     "data": {
      "text/plain": [
       "<matplotlib.axes._subplots.AxesSubplot at 0x1d90debc940>"
      ]
     },
     "execution_count": 58,
     "metadata": {},
     "output_type": "execute_result"
    },
    {
     "data": {
      "image/png": "[encoded data removed]",
      "text/plain": [
       "<Figure size 432x288 with 1 Axes>"
      ]
     },
     "metadata": {},
     "output_type": "display_data"
    }
   ],
   "source": [
    "dftrain.groupby(['Suspicious'])[['AvgPricePerProduct']].mean().plot.bar(color = \"#b53838\")"
   ]
  },
  {
   "cell_type": "code",
   "execution_count": 59,
   "metadata": {},
   "outputs": [],
   "source": [
    "#just having a copy \n",
    "data = dftrain "
   ]
  },
  {
   "cell_type": "code",
   "execution_count": 60,
   "metadata": {
    "scrolled": true
   },
   "outputs": [],
   "source": [
    "# replacing the vaule in the traget attribute\n",
    "Suspicious_dict = {'Yes':1, 'No':2, 'indeterminate':3}\n",
    "\n",
    "data['Suspicious'] = data['Suspicious'].replace(Suspicious_dict, regex=True)"
   ]
  },
  {
   "cell_type": "code",
   "execution_count": 61,
   "metadata": {},
   "outputs": [],
   "source": [
    "#just having a copy\n",
    "testdata = dftest"
   ]
  },
  {
   "cell_type": "code",
   "execution_count": 62,
   "metadata": {},
   "outputs": [
    {
     "data": {
      "text/plain": [
       "(9135, 20)"
      ]
     },
     "execution_count": 62,
     "metadata": {},
     "output_type": "execute_result"
    }
   ],
   "source": [
    "testdata.shape"
   ]
  },
  {
   "cell_type": "markdown",
   "metadata": {},
   "source": [
    "### droping some attributes (Id's)"
   ]
  },
  {
   "cell_type": "code",
   "execution_count": 63,
   "metadata": {},
   "outputs": [],
   "source": [
    "data = data.drop(['ReportID'],axis=1)\n",
    "data=data.drop(axis=1,columns=['ProductID','SalesPersonID'])"
   ]
  },
  {
   "cell_type": "code",
   "execution_count": 64,
   "metadata": {},
   "outputs": [],
   "source": [
    "testdata = testdata.drop(['ReportID'],axis=1)\n",
    "testdata=testdata.drop(axis=1,columns=['ProductID','SalesPersonID'])"
   ]
  },
  {
   "cell_type": "code",
   "execution_count": 65,
   "metadata": {
    "scrolled": true
   },
   "outputs": [
    {
     "name": "stdout",
     "output_type": "stream",
     "text": [
      "<class 'pandas.core.frame.DataFrame'>\n",
      "Index: 42582 entries, 0 to 42581\n",
      "Data columns (total 18 columns):\n",
      "Quantity                         42582 non-null int64\n",
      "TotalSalesValue                  42582 non-null int64\n",
      "Suspicious                       42582 non-null int64\n",
      "OneUnitSalesValue                42582 non-null float64\n",
      "AvgSelingPrice                   42582 non-null float64\n",
      "AvgQuantity                      42582 non-null float64\n",
      "AvgQuantityperguy                42582 non-null float64\n",
      "AvgQuantityperProduct            42582 non-null float64\n",
      "AvgSalesValueperProduct          42582 non-null float64\n",
      "AvgTransactionsSalesPrice        42582 non-null float64\n",
      "RatioOfQuantitySold              42582 non-null float64\n",
      "Total Pro SSP                    42582 non-null int64\n",
      "RatioOfQuantiy                   42582 non-null float64\n",
      "TransactionsPerProduct           42582 non-null int64\n",
      "TransactionsPerPerson            42582 non-null int64\n",
      "TotalValueOfProductPerPerson     42582 non-null int64\n",
      "AvgPricePerProduct               42582 non-null float64\n",
      "AvgSellingQuantitySalesPerson    42582 non-null float64\n",
      "dtypes: float64(11), int64(7)\n",
      "memory usage: 6.2+ MB\n"
     ]
    }
   ],
   "source": [
    "data.info()"
   ]
  },
  {
   "cell_type": "code",
   "execution_count": 66,
   "metadata": {},
   "outputs": [
    {
     "name": "stdout",
     "output_type": "stream",
     "text": [
      "<class 'pandas.core.frame.DataFrame'>\n",
      "Index: 9135 entries, 0 to 9134\n",
      "Data columns (total 17 columns):\n",
      "Quantity                         9135 non-null int64\n",
      "TotalSalesValue                  9135 non-null int64\n",
      "OneUnitSalesValue                9135 non-null float64\n",
      "AvgSelingPrice                   9135 non-null float64\n",
      "AvgQuantity                      9135 non-null float64\n",
      "AvgQuantityperguy                9135 non-null float64\n",
      "AvgQuantityperProduct            9135 non-null float64\n",
      "AvgSalesValueperProduct          9135 non-null float64\n",
      "AvgTransactionsSalesPrice        9135 non-null float64\n",
      "RatioOfQuantitySold              9135 non-null float64\n",
      "Total Pro SSP                    9135 non-null int64\n",
      "RatioOfQuantiy                   9135 non-null float64\n",
      "TransactionsPerProduct           9135 non-null int64\n",
      "TransactionsPerPerson            9135 non-null int64\n",
      "TotalValueOfProductPerPerson     9135 non-null int64\n",
      "AvgPricePerProduct               9135 non-null float64\n",
      "AvgSellingQuantitySalesPerson    9135 non-null float64\n",
      "dtypes: float64(11), int64(6)\n",
      "memory usage: 1.3+ MB\n"
     ]
    }
   ],
   "source": [
    "testdata.info()"
   ]
  },
  {
   "cell_type": "markdown",
   "metadata": {},
   "source": [
    "### conveting attribute to integers "
   ]
  },
  {
   "cell_type": "code",
   "execution_count": 67,
   "metadata": {},
   "outputs": [],
   "source": [
    "data['OneUnitSalesValue']=data['OneUnitSalesValue'].astype('int64')\n",
    "data['AvgSelingPrice']=data['AvgSelingPrice'].astype('int64')\n",
    "data['AvgQuantity']=data['AvgQuantity'].astype('int64')\n",
    "data['RatioOfQuantiy']=data['RatioOfQuantiy'].astype('int64')\n",
    "data['TotalProductperSalesPerson']=data['TotalProductperSalesPerson'].astype('int64')\n",
    "data['AvgQuantityperguy']=data['AvgQuantityperguy'].astype('int64')\n",
    "data['AvgQuantityperProduct']=data['AvgQuantityperProduct'].astype('int64')\n",
    "data['AvgSalesValueperProduct']=data['AvgSalesValueperProduct'].astype('int64')\n",
    "data['RatioOfQuantitySold']=data['RatioOfQuantitySold'].astype('int64')\n",
    "data['TransactionsPerProduct']=data['TransactionsPerProduct'].astype('int64')\n",
    "data['TransactionsPerPerson']=data['TransactionsPerPerson'].astype('int64')\n",
    "data['TotalValueOfProductPerPerson']=data['TotalValueOfProductPerPerson'].astype('int64')\n",
    "data['AvgPricePerProduct']=data['AvgPricePerProduct'].astype('int64')\n",
    "data['AvgSellingQuantitySalesPerson']=data['AvgSellingQuantitySalesPerson'].astype('int64')"
   ]
  },
  {
   "cell_type": "code",
   "execution_count": 68,
   "metadata": {},
   "outputs": [],
   "source": [
    "testdata['OneUnitSalesValue']=testdata['OneUnitSalesValue'].astype('int64')\n",
    "testdata['AvgSelingPrice']=testdata['AvgSelingPrice'].astype('int64')\n",
    "testdata['AvgQuantity']=testdata['AvgQuantity'].astype('int64')\n",
    "testdata['RatioOfQuantiy']=testdata['RatioOfQuantiy'].astype('int64')\n",
    "testdata['Total Pro SSP']=testdata['Total Pro SSP'].astype('int64')\n",
    "testdata['AvgQuantityperguy']=testdata['AvgQuantityperguy'].astype('int64')\n",
    "testdata['AvgQuantityperProduct']=testdata['AvgQuantityperProduct'].astype('int64')\n",
    "testdata['AvgSalesValueperProduct']=testdata['AvgSalesValueperProduct'].astype('int64')\n",
    "testdata['RatioOfQuantitySold']=testdata['RatioOfQuantitySold'].astype('int64')\n",
    "testdata['TransactionsPerProduct']=testdata['TransactionsPerProduct'].astype('int64')\n",
    "testdata['TransactionsPerPerson']=testdata['TransactionsPerPerson'].astype('int64')\n",
    "testdata['TotalValueOfProductPerPerson']=testdata['TotalValueOfProductPerPerson'].astype('int64')\n",
    "testdata['AvgPricePerProduct']=testdata['AvgPricePerProduct'].astype('int64')\n",
    "testdata['AvgSellingQuantitySalesPerson']=testdata['AvgSellingQuantitySalesPerson'].astype('int64')"
   ]
  },
  {
   "cell_type": "code",
   "execution_count": 69,
   "metadata": {},
   "outputs": [
    {
     "data": {
      "text/plain": [
       "Index(['Quantity', 'TotalSalesValue', 'Suspicious', 'OneUnitSalesValue',\n",
       "       'AvgSelingPrice', 'AvgQuantity', 'AvgQuantityperguy',\n",
       "       'AvgQuantityperProduct', 'AvgSalesValueperProduct',\n",
       "       'AvgTransactionsSalesPrice', 'RatioOfQuantitySold', 'Total Pro SSP',\n",
       "       'RatioOfQuantiy', 'TransactionsPerProduct', 'TransactionsPerPerson',\n",
       "       'TotalValueOfProductPerPerson', 'AvgPricePerProduct',\n",
       "       'AvgSellingQuantitySalesPerson'],\n",
       "      dtype='object')"
      ]
     },
     "execution_count": 69,
     "metadata": {},
     "output_type": "execute_result"
    }
   ],
   "source": [
    "data.columns"
   ]
  },
  {
   "cell_type": "code",
   "execution_count": 70,
   "metadata": {},
   "outputs": [
    {
     "data": {
      "text/plain": [
       "Index(['Quantity', 'TotalSalesValue', 'OneUnitSalesValue', 'AvgSelingPrice',\n",
       "       'AvgQuantity', 'AvgQuantityperguy', 'AvgQuantityperProduct',\n",
       "       'AvgSalesValueperProduct', 'AvgTransactionsSalesPrice',\n",
       "       'RatioOfQuantitySold', 'Total Pro SSP', 'RatioOfQuantiy',\n",
       "       'TransactionsPerProduct', 'TransactionsPerPerson',\n",
       "       'TotalValueOfProductPerPerson', 'AvgPricePerProduct',\n",
       "       'AvgSellingQuantitySalesPerson'],\n",
       "      dtype='object')"
      ]
     },
     "execution_count": 70,
     "metadata": {},
     "output_type": "execute_result"
    }
   ],
   "source": [
    "testdata.columns"
   ]
  },
  {
   "cell_type": "code",
   "execution_count": 129,
   "metadata": {},
   "outputs": [],
   "source": [
    "# loading the attributes to a feat_columns\n",
    "feat_col = ['Quantity', 'TotalSalesValue',\n",
    "       'OneUnitSalesValue','AvgSelingPrice','RatioOfQuantitySold','AvgQuantity', 'AvgQuantityperguy', 'AvgQuantityperProduct',\n",
    "       'AvgSalesValueperProduct','AvgTransactionsSalesPrice','TotalProductperSalesPerson','RatioOfQuantiy', 'TransactionsPerProduct','TransactionsPerPerson','TotalValueOfProductPerPerson',\n",
    "           'AvgPricePerProduct','AvgSellingQuantitySalesPerson']"
   ]
  },
  {
   "cell_type": "code",
   "execution_count": 72,
   "metadata": {},
   "outputs": [
    {
     "data": {
      "text/plain": [
       "(42582, 18)"
      ]
     },
     "execution_count": 72,
     "metadata": {},
     "output_type": "execute_result"
    }
   ],
   "source": [
    "# numbers of rows and columns for the given \n",
    "data.shape"
   ]
  },
  {
   "cell_type": "code",
   "execution_count": 73,
   "metadata": {},
   "outputs": [
    {
     "data": {
      "text/plain": [
       "(9135, 17)"
      ]
     },
     "execution_count": 73,
     "metadata": {},
     "output_type": "execute_result"
    }
   ],
   "source": [
    "testdata.shape"
   ]
  },
  {
   "cell_type": "code",
   "execution_count": 74,
   "metadata": {},
   "outputs": [
    {
     "data": {
      "text/plain": [
       "(42582, 17)"
      ]
     },
     "execution_count": 74,
     "metadata": {},
     "output_type": "execute_result"
    }
   ],
   "source": [
    "data[feat_col].shape"
   ]
  },
  {
   "cell_type": "markdown",
   "metadata": {},
   "source": [
    "## Split to Train and Validation"
   ]
  },
  {
   "cell_type": "code",
   "execution_count": 75,
   "metadata": {},
   "outputs": [],
   "source": [
    "from sklearn.model_selection import train_test_split #loading the requred packages for the split \n",
    "X=data[feat_col]\n",
    "y=data['Suspicious']\n",
    "X_train,X_test,y_train,y_test=train_test_split(X,y,test_size=0.25,random_state=0,stratify=y)"
   ]
  },
  {
   "cell_type": "code",
   "execution_count": 76,
   "metadata": {},
   "outputs": [
    {
     "name": "stderr",
     "output_type": "stream",
     "text": [
      "C:\\Annaconda\\lib\\site-packages\\sklearn\\preprocessing\\data.py:645: DataConversionWarning:\n",
      "\n",
      "Data with input dtype int64, float64 were all converted to float64 by StandardScaler.\n",
      "\n",
      "C:\\Annaconda\\lib\\site-packages\\sklearn\\base.py:464: DataConversionWarning:\n",
      "\n",
      "Data with input dtype int64, float64 were all converted to float64 by StandardScaler.\n",
      "\n",
      "C:\\Annaconda\\lib\\site-packages\\sklearn\\preprocessing\\data.py:645: DataConversionWarning:\n",
      "\n",
      "Data with input dtype int64, float64 were all converted to float64 by StandardScaler.\n",
      "\n",
      "C:\\Annaconda\\lib\\site-packages\\sklearn\\base.py:464: DataConversionWarning:\n",
      "\n",
      "Data with input dtype int64, float64 were all converted to float64 by StandardScaler.\n",
      "\n"
     ]
    }
   ],
   "source": [
    "# Standardizing the data\n",
    "from sklearn.preprocessing import StandardScaler\n",
    "std = StandardScaler()\n",
    "X_train = std.fit_transform(X_train)\n",
    "X_test = std.fit_transform(X_test)"
   ]
  },
  {
   "cell_type": "code",
   "execution_count": 77,
   "metadata": {},
   "outputs": [
    {
     "name": "stdout",
     "output_type": "stream",
     "text": [
      "(31936, 17)\n",
      "(10646, 17)\n",
      "(31936,)\n",
      "(10646,)\n"
     ]
    }
   ],
   "source": [
    "# numbers of rows and columns for the given \n",
    "print(X_train.shape)\n",
    "print(X_test.shape)\n",
    "print(y_train.shape)\n",
    "print(y_test.shape)"
   ]
  },
  {
   "cell_type": "code",
   "execution_count": 78,
   "metadata": {},
   "outputs": [],
   "source": [
    "from sklearn.model_selection import learning_curve\n",
    "from sklearn.model_selection import ShuffleSplit"
   ]
  },
  {
   "cell_type": "markdown",
   "metadata": {},
   "source": [
    "# Model building \n",
    "## Knn"
   ]
  },
  {
   "cell_type": "code",
   "execution_count": 79,
   "metadata": {},
   "outputs": [
    {
     "data": {
      "text/plain": [
       "KNeighborsClassifier(algorithm='auto', leaf_size=30, metric='minkowski',\n",
       "           metric_params=None, n_jobs=None, n_neighbors=5, p=2,\n",
       "           weights='uniform')"
      ]
     },
     "execution_count": 79,
     "metadata": {},
     "output_type": "execute_result"
    }
   ],
   "source": [
    "# loading the package for the KNNClassifier\n",
    "from sklearn.neighbors import KNeighborsClassifier\n",
    "knn = KNeighborsClassifier()\n",
    "knn.fit(X_train,y_train) #fitting the model for the given data set(train set) this where the model learns "
   ]
  },
  {
   "cell_type": "code",
   "execution_count": 82,
   "metadata": {},
   "outputs": [],
   "source": [
    "#from the learnt model we are predicting for the unknowns\n",
    "knn_train_predictions_train=knn.predict(X_train)\n",
    "knn_test_predictions_test=knn.predict(X_test)"
   ]
  },
  {
   "cell_type": "code",
   "execution_count": 83,
   "metadata": {
    "scrolled": true
   },
   "outputs": [
    {
     "name": "stdout",
     "output_type": "stream",
     "text": [
      "              precision    recall  f1-score   support\n",
      "\n",
      "           1       0.35      0.29      0.32        45\n",
      "           2       0.65      0.31      0.42       639\n",
      "           3       0.96      0.99      0.97      9962\n",
      "\n",
      "   micro avg       0.94      0.94      0.94     10646\n",
      "   macro avg       0.65      0.53      0.57     10646\n",
      "weighted avg       0.93      0.94      0.94     10646\n",
      "\n"
     ]
    }
   ],
   "source": [
    "# from sklearn.metrics with classification_report we can validate the model by recall in this multiclass classification\n",
    "from sklearn.metrics import classification_report\n",
    "print(classification_report(y_train, knn_train_predictions_train))\n",
    "print(classification_report(y_test, knn_test_predictions_test))"
   ]
  },
  {
   "cell_type": "code",
   "execution_count": 80,
   "metadata": {},
   "outputs": [],
   "source": [
    "def plot_learning_curve(estimator, title, X, y, ylim=None, cv=None,\n",
    "                        n_jobs=-1, train_sizes=np.linspace(.1, 1.0, 10)):\n",
    "    \"\"\"Generate a simple plot of the test and training learning curve\"\"\"\n",
    "    plt.figure()\n",
    "    plt.title(title)\n",
    "    if ylim is not None:\n",
    "        plt.ylim(*ylim)\n",
    "    plt.xlabel(\"Training examples\")\n",
    "    plt.ylabel(\"Score\")\n",
    "    train_sizes, train_scores, test_scores = learning_curve(estimator, X, y, cv=cv, n_jobs=n_jobs, train_sizes=train_sizes)\n",
    "    train_scores_mean = np.mean(train_scores, axis=1)\n",
    "    train_scores_std = np.std(train_scores, axis=1)\n",
    "    test_scores_mean = np.mean(test_scores, axis=1)\n",
    "    test_scores_std = np.std(test_scores, axis=1)\n",
    "    plt.grid()\n",
    "\n",
    "    plt.fill_between(train_sizes, train_scores_mean - train_scores_std,\n",
    "                     train_scores_mean + train_scores_std, alpha=0.1, color=\"r\")\n",
    "    plt.fill_between(train_sizes, test_scores_mean - test_scores_std,\n",
    "                     test_scores_mean + test_scores_std, alpha=0.1, color=\"g\")\n",
    "    plt.plot(train_sizes, train_scores_mean, 'o-', color=\"r\", label=\"Training score\")\n",
    "    plt.plot(train_sizes, test_scores_mean, 'o-', color=\"g\", label=\"Cross-validation score\")\n",
    "\n",
    "    plt.legend(loc=\"best\")\n",
    "    return plt"
   ]
  },
  {
   "cell_type": "code",
   "execution_count": 81,
   "metadata": {
    "scrolled": true
   },
   "outputs": [
    {
     "data": {
      "text/plain": [
       "<module 'matplotlib.pyplot' from 'C:\\\\Annaconda\\\\lib\\\\site-packages\\\\matplotlib\\\\pyplot.py'>"
      ]
     },
     "execution_count": 81,
     "metadata": {},
     "output_type": "execute_result"
    },
    {
     "data": {
      "image/png": "[encoded data removed]",
      "text/plain": [
       "<Figure size 432x288 with 1 Axes>"
      ]
     },
     "metadata": {},
     "output_type": "display_data"
    }
   ],
   "source": [
    "plot_learning_curve(knn, title=None,X=X_train, y=y_train)"
   ]
  },
  {
   "cell_type": "markdown",
   "metadata": {},
   "source": [
    "## RandomForestClassifier"
   ]
  },
  {
   "cell_type": "code",
   "execution_count": 84,
   "metadata": {},
   "outputs": [
    {
     "data": {
      "text/plain": [
       "RandomForestClassifier(bootstrap=True, class_weight=None, criterion='gini',\n",
       "            max_depth=None, max_features='auto', max_leaf_nodes=None,\n",
       "            min_impurity_decrease=0.0, min_impurity_split=None,\n",
       "            min_samples_leaf=1, min_samples_split=2,\n",
       "            min_weight_fraction_leaf=0.0, n_estimators='warn', n_jobs=None,\n",
       "            oob_score=False, random_state=42, verbose=0, warm_start=False)"
      ]
     },
     "execution_count": 84,
     "metadata": {},
     "output_type": "execute_result"
    }
   ],
   "source": [
    "from sklearn.ensemble import RandomForestClassifier\n",
    "rf = RandomForestClassifier(n_estimators = 400,max_depth = 5,criterion = 'entropy',class_weight = 'balanced',max_features = 3,random_state = 123)\n",
    "RandomForestClassifier(random_state= 42)"
   ]
  },
  {
   "cell_type": "code",
   "execution_count": 85,
   "metadata": {},
   "outputs": [
    {
     "data": {
      "text/plain": [
       "RandomForestClassifier(bootstrap=True, class_weight='balanced',\n",
       "            criterion='entropy', max_depth=5, max_features=3,\n",
       "            max_leaf_nodes=None, min_impurity_decrease=0.0,\n",
       "            min_impurity_split=None, min_samples_leaf=1,\n",
       "            min_samples_split=2, min_weight_fraction_leaf=0.0,\n",
       "            n_estimators=400, n_jobs=None, oob_score=False,\n",
       "            random_state=123, verbose=0, warm_start=False)"
      ]
     },
     "execution_count": 85,
     "metadata": {},
     "output_type": "execute_result"
    }
   ],
   "source": [
    "rf.fit(X_train,y_train)#fitting the model for the given data set(train set) this where the model learns "
   ]
  },
  {
   "cell_type": "code",
   "execution_count": 86,
   "metadata": {},
   "outputs": [],
   "source": [
    "#from the learnt model we are predicting for the unknowns \n",
    "rf_train_predictions_train=rf.predict(X_train)\n",
    "rf_test_predictions_test=rf.predict(X_test)"
   ]
  },
  {
   "cell_type": "code",
   "execution_count": 87,
   "metadata": {
    "scrolled": true
   },
   "outputs": [
    {
     "data": {
      "text/plain": [
       "array([[  37,    3,    5],\n",
       "       [ 134,  250,  255],\n",
       "       [2818,  883, 6261]], dtype=int64)"
      ]
     },
     "execution_count": 87,
     "metadata": {},
     "output_type": "execute_result"
    }
   ],
   "source": [
    "# from sklearn metrics we create the confusion matrix to validate the given model\n",
    "from sklearn import metrics\n",
    "cnf_matrix = metrics.confusion_matrix(y_test,rf_test_predictions_test)\n",
    "cnf_matrix"
   ]
  },
  {
   "cell_type": "code",
   "execution_count": 88,
   "metadata": {},
   "outputs": [
    {
     "name": "stdout",
     "output_type": "stream",
     "text": [
      "Accuracy: 0.7915831663326653\n",
      "Precision: 0.44991018287788337\n",
      "Recall: 0.789038419731264\n",
      "F1 score: 0.49206627476613485\n"
     ]
    }
   ],
   "source": [
    "print(\"Accuracy:\",metrics.accuracy_score(y_train, rf_train_predictions_train))\n",
    "print(\"Precision:\",metrics.precision_score(y_train, rf_train_predictions_train,average='macro'))\n",
    "print(\"Recall:\",metrics.recall_score(y_train, rf_train_predictions_train,average='macro'))\n",
    "print(\"F1 score:\",metrics.f1_score(y_train,rf_train_predictions_train,average='macro'))"
   ]
  },
  {
   "cell_type": "code",
   "execution_count": 89,
   "metadata": {},
   "outputs": [
    {
     "name": "stdout",
     "output_type": "stream",
     "text": [
      "Accuracy: 0.6150666917151982\n",
      "Precision: 0.39752598637159825\n",
      "Recall: 0.6139822614406314\n",
      "F1 score: 0.3552573961413416\n"
     ]
    }
   ],
   "source": [
    "print(\"Accuracy:\",metrics.accuracy_score(y_test, rf_test_predictions_test))\n",
    "print(\"Precision:\",metrics.precision_score(y_test, rf_test_predictions_test,average='macro'))\n",
    "print(\"Recall:\",metrics.recall_score(y_test, rf_test_predictions_test,average='macro'))\n",
    "print(\"F1 score:\",metrics.f1_score(y_test,rf_test_predictions_test,average='macro'))"
   ]
  },
  {
   "cell_type": "code",
   "execution_count": 90,
   "metadata": {
    "scrolled": true
   },
   "outputs": [
    {
     "name": "stdout",
     "output_type": "stream",
     "text": [
      "              precision    recall  f1-score   support\n",
      "\n",
      "           1       0.01      0.82      0.02        45\n",
      "           2       0.22      0.39      0.28       639\n",
      "           3       0.96      0.63      0.76      9962\n",
      "\n",
      "   micro avg       0.62      0.62      0.62     10646\n",
      "   macro avg       0.40      0.61      0.36     10646\n",
      "weighted avg       0.91      0.62      0.73     10646\n",
      "\n"
     ]
    }
   ],
   "source": [
    "# from sklearn.metrics with classification_report we can validate the model by recall in this multiclass classification\n",
    "from sklearn.metrics import classification_report\n",
    "print(classification_report(y_test, rf_test_predictions_test))\n",
    "print(classification_report(y_train, rf_train_predictions_train))"
   ]
  },
  {
   "cell_type": "code",
   "execution_count": 91,
   "metadata": {
    "scrolled": true
   },
   "outputs": [
    {
     "data": {
      "image/png": "[encoded data removed]",
      "text/plain": [
       "<Figure size 432x288 with 1 Axes>"
      ]
     },
     "metadata": {},
     "output_type": "display_data"
    }
   ],
   "source": [
    "# plotting the attribute contributing more form the given model(Random Forest)\n",
    "import numpy as np\n",
    "import matplotlib.pyplot as plt\n",
    "%matplotlib inline\n",
    "features = feat_col\n",
    "importances = rf.feature_importances_\n",
    "indices = np.argsort(importances)\n",
    "\n",
    "plt.title('Feature Importances')\n",
    "plt.barh(range(len(indices)), importances[indices], color='y', align='center')\n",
    "plt.yticks(range(len(indices)), [features[i] for i in indices])\n",
    "plt.xlabel('Relative Importance')\n",
    "plt.show()"
   ]
  },
  {
   "cell_type": "markdown",
   "metadata": {},
   "source": [
    "### Plotting Learning Curves"
   ]
  },
  {
   "cell_type": "code",
   "execution_count": 92,
   "metadata": {},
   "outputs": [],
   "source": [
    "def plot_learning_curve(estimator, title, X, y, ylim=None, cv=None,\n",
    "                        n_jobs=-1, train_sizes=np.linspace(.1, 1.0, 10)):\n",
    "    \"\"\"Generate a simple plot of the test and training learning curve\"\"\"\n",
    "    plt.figure()\n",
    "    plt.title(title)\n",
    "    if ylim is not None:\n",
    "        plt.ylim(*ylim)\n",
    "    plt.xlabel(\"Training examples\")\n",
    "    plt.ylabel(\"Score\")\n",
    "    train_sizes, train_scores, test_scores = learning_curve(estimator, X, y, cv=cv, n_jobs=n_jobs, train_sizes=train_sizes)\n",
    "    train_scores_mean = np.mean(train_scores, axis=1)\n",
    "    train_scores_std = np.std(train_scores, axis=1)\n",
    "    test_scores_mean = np.mean(test_scores, axis=1)\n",
    "    test_scores_std = np.std(test_scores, axis=1)\n",
    "    plt.grid()\n",
    "\n",
    "    plt.fill_between(train_sizes, train_scores_mean - train_scores_std,\n",
    "                     train_scores_mean + train_scores_std, alpha=0.1, color=\"r\")\n",
    "    plt.fill_between(train_sizes, test_scores_mean - test_scores_std,\n",
    "                     test_scores_mean + test_scores_std, alpha=0.1, color=\"g\")\n",
    "    plt.plot(train_sizes, train_scores_mean, 'o-', color=\"r\", label=\"Training score\")\n",
    "    plt.plot(train_sizes, test_scores_mean, 'o-', color=\"g\", label=\"Cross-validation score\")\n",
    "\n",
    "    plt.legend(loc=\"best\")\n",
    "    return plt"
   ]
  },
  {
   "cell_type": "code",
   "execution_count": 93,
   "metadata": {},
   "outputs": [
    {
     "data": {
      "text/plain": [
       "<module 'matplotlib.pyplot' from 'C:\\\\Annaconda\\\\lib\\\\site-packages\\\\matplotlib\\\\pyplot.py'>"
      ]
     },
     "execution_count": 93,
     "metadata": {},
     "output_type": "execute_result"
    },
    {
     "data": {
      "image/png": "[encoded data removed]",
      "text/plain": [
       "<Figure size 432x288 with 1 Axes>"
      ]
     },
     "metadata": {},
     "output_type": "display_data"
    }
   ],
   "source": [
    "plot_learning_curve(rf, title=None,X=X_train, y=y_train)"
   ]
  },
  {
   "cell_type": "markdown",
   "metadata": {},
   "source": [
    "## DecisionTreeClassifier"
   ]
  },
  {
   "cell_type": "code",
   "execution_count": 94,
   "metadata": {},
   "outputs": [
    {
     "data": {
      "text/plain": [
       "DecisionTreeClassifier(class_weight=None, criterion='gini', max_depth=5,\n",
       "            max_features=None, max_leaf_nodes=None,\n",
       "            min_impurity_decrease=0.0, min_impurity_split=None,\n",
       "            min_samples_leaf=1, min_samples_split=2,\n",
       "            min_weight_fraction_leaf=0.0, presort=False, random_state=123,\n",
       "            splitter='best')"
      ]
     },
     "execution_count": 94,
     "metadata": {},
     "output_type": "execute_result"
    }
   ],
   "source": [
    "from sklearn.tree import DecisionTreeClassifier, export_graphviz,DecisionTreeRegressor\n",
    "estimator = DecisionTreeClassifier(max_depth=5,random_state=123)\n",
    "estimator.fit(X_train, y_train) #fitting the model for the given data set(train set) this where the model learns "
   ]
  },
  {
   "cell_type": "code",
   "execution_count": 95,
   "metadata": {},
   "outputs": [],
   "source": [
    "#from the learnt model we are predicting for the unknowns \n",
    "estimator_train_predictions_train=estimator.predict(X_train)\n",
    "estimator_test_predictions_test=estimator.predict(X_test)"
   ]
  },
  {
   "cell_type": "code",
   "execution_count": 96,
   "metadata": {},
   "outputs": [
    {
     "name": "stdout",
     "output_type": "stream",
     "text": [
      "              precision    recall  f1-score   support\n",
      "\n",
      "           1       0.08      0.04      0.06        45\n",
      "           2       0.53      0.13      0.21       639\n",
      "           3       0.94      0.99      0.97      9962\n",
      "\n",
      "   micro avg       0.93      0.93      0.93     10646\n",
      "   macro avg       0.52      0.39      0.41     10646\n",
      "weighted avg       0.91      0.93      0.92     10646\n",
      "\n"
     ]
    }
   ],
   "source": [
    "# from sklearn.metrics with classification_report we can validate the model by recall in this multiclass classification\n",
    "from sklearn.metrics import classification_report\n",
    "print(classification_report(y_test, estimator_test_predictions_test))\n",
    "print(classification_report(y_train, estimator_train_predictions_train))"
   ]
  },
  {
   "cell_type": "markdown",
   "metadata": {},
   "source": [
    "### Plotting Learning Curves"
   ]
  },
  {
   "cell_type": "code",
   "execution_count": 97,
   "metadata": {},
   "outputs": [],
   "source": [
    "def plot_learning_curve(estimator, title, X, y, ylim=None, cv=None,\n",
    "                        n_jobs=-1, train_sizes=np.linspace(.1, 1.0, 10)):\n",
    "    \"\"\"Generate a simple plot of the test and training learning curve\"\"\"\n",
    "    plt.figure()\n",
    "    plt.title(title)\n",
    "    if ylim is not None:\n",
    "        plt.ylim(*ylim)\n",
    "    plt.xlabel(\"Training examples\")\n",
    "    plt.ylabel(\"Score\")\n",
    "    train_sizes, train_scores, test_scores = learning_curve(estimator, X, y, cv=cv, n_jobs=n_jobs, train_sizes=train_sizes)\n",
    "    train_scores_mean = np.mean(train_scores, axis=1)\n",
    "    train_scores_std = np.std(train_scores, axis=1)\n",
    "    test_scores_mean = np.mean(test_scores, axis=1)\n",
    "    test_scores_std = np.std(test_scores, axis=1)\n",
    "    plt.grid()\n",
    "\n",
    "    plt.fill_between(train_sizes, train_scores_mean - train_scores_std,\n",
    "                     train_scores_mean + train_scores_std, alpha=0.1, color=\"r\")\n",
    "    plt.fill_between(train_sizes, test_scores_mean - test_scores_std,\n",
    "                     test_scores_mean + test_scores_std, alpha=0.1, color=\"g\")\n",
    "    plt.plot(train_sizes, train_scores_mean, 'o-', color=\"r\", label=\"Training score\")\n",
    "    plt.plot(train_sizes, test_scores_mean, 'o-', color=\"g\", label=\"Cross-validation score\")\n",
    "\n",
    "    plt.legend(loc=\"best\")\n",
    "    return plt"
   ]
  },
  {
   "cell_type": "code",
   "execution_count": 98,
   "metadata": {},
   "outputs": [
    {
     "data": {
      "text/plain": [
       "<module 'matplotlib.pyplot' from 'C:\\\\Annaconda\\\\lib\\\\site-packages\\\\matplotlib\\\\pyplot.py'>"
      ]
     },
     "execution_count": 98,
     "metadata": {},
     "output_type": "execute_result"
    },
    {
     "data": {
      "image/png": "[encoded data removed]",
      "text/plain": [
       "<Figure size 432x288 with 1 Axes>"
      ]
     },
     "metadata": {},
     "output_type": "display_data"
    }
   ],
   "source": [
    "plot_learning_curve(estimator, title=None,X=X_train, y=y_train)"
   ]
  },
  {
   "cell_type": "markdown",
   "metadata": {},
   "source": [
    "##  I went with RandomForestClassifier\n",
    "looking at the learing rate RandomForestClassifier is the closet to the test scores with give a better recall than the other models "
   ]
  },
  {
   "cell_type": "markdown",
   "metadata": {},
   "source": [
    "# Cluster"
   ]
  },
  {
   "cell_type": "markdown",
   "metadata": {},
   "source": [
    "Bob feels he sould have done this first!"
   ]
  },
  {
   "cell_type": "code",
   "execution_count": 213,
   "metadata": {},
   "outputs": [],
   "source": [
    "cluster1=pd.read_excel(\"Train.xlsx\",header=0)\n",
    "cluster2=pd.read_excel(\"Test.xlsx\",header=0)"
   ]
  },
  {
   "cell_type": "code",
   "execution_count": 215,
   "metadata": {},
   "outputs": [],
   "source": [
    "cluster1[\"per_unit_price\"]=cluster1.TotalSalesValue/cluster1.Quantity\n",
    "cluster2[\"per_unit_price\"]=cluster2.TotalSalesValue/cluster2.Quantity"
   ]
  },
  {
   "cell_type": "code",
   "execution_count": 194,
   "metadata": {},
   "outputs": [],
   "source": [
    "#SalesPersonID = cluster1['SalesPersonID']"
   ]
  },
  {
   "cell_type": "code",
   "execution_count": 216,
   "metadata": {},
   "outputs": [],
   "source": [
    "y=cluster1.Suspicious\n",
    "X=cluster1.drop([\"Suspicious\",\"ReportID\",\"SalesPersonID\",\"ProductID\"],axis=1)\n",
    "test_X=cluster2.drop([\"ReportID\",\"SalesPersonID\",\"ProductID\"],axis=1)             "
   ]
  },
  {
   "cell_type": "code",
   "execution_count": 217,
   "metadata": {},
   "outputs": [],
   "source": [
    "# spilt to train and test\n",
    "X_train,X_test,y_train,y_test=train_test_split(X,y,test_size=0.2,stratify=y)"
   ]
  },
  {
   "cell_type": "code",
   "execution_count": 219,
   "metadata": {},
   "outputs": [],
   "source": [
    "# Normalizing to a range \n",
    "from sklearn.preprocessing import Normalizer\n",
    "from sklearn.cluster import KMeans"
   ]
  },
  {
   "cell_type": "code",
   "execution_count": 224,
   "metadata": {},
   "outputs": [],
   "source": [
    "norm=Normalizer().fit(X)\n",
    "X_norm=norm.transform(X)\n",
    "X_norm=norm.transform(X)\n",
    "test_norm=norm.transform(test_X)"
   ]
  },
  {
   "cell_type": "code",
   "execution_count": 225,
   "metadata": {},
   "outputs": [],
   "source": [
    "X_norm=pd.DataFrame(X_norm,columns=X.columns)"
   ]
  },
  {
   "cell_type": "code",
   "execution_count": 226,
   "metadata": {},
   "outputs": [],
   "source": [
    "kmeans = KMeans(n_clusters=3, init='k-means++', random_state=0)\n",
    "clusters = kmeans.fit_predict(X_norm)"
   ]
  },
  {
   "cell_type": "code",
   "execution_count": 227,
   "metadata": {},
   "outputs": [
    {
     "data": {
      "text/html": [
       "<div>\n",
       "<style scoped>\n",
       "    .dataframe tbody tr th:only-of-type {\n",
       "        vertical-align: middle;\n",
       "    }\n",
       "\n",
       "    .dataframe tbody tr th {\n",
       "        vertical-align: top;\n",
       "    }\n",
       "\n",
       "    .dataframe thead th {\n",
       "        text-align: right;\n",
       "    }\n",
       "</style>\n",
       "<table border=\"1\" class=\"dataframe\">\n",
       "  <thead>\n",
       "    <tr style=\"text-align: right;\">\n",
       "      <th></th>\n",
       "      <th>index</th>\n",
       "      <th>Quantity</th>\n",
       "      <th>TotalSalesValue</th>\n",
       "      <th>per_unit_price</th>\n",
       "      <th>clusters</th>\n",
       "    </tr>\n",
       "  </thead>\n",
       "  <tbody>\n",
       "    <tr>\n",
       "      <th>0</th>\n",
       "      <td>0</td>\n",
       "      <td>0.108660</td>\n",
       "      <td>0.994064</td>\n",
       "      <td>0.005462</td>\n",
       "      <td>0</td>\n",
       "    </tr>\n",
       "    <tr>\n",
       "      <th>1</th>\n",
       "      <td>1</td>\n",
       "      <td>0.104029</td>\n",
       "      <td>0.994559</td>\n",
       "      <td>0.005465</td>\n",
       "      <td>0</td>\n",
       "    </tr>\n",
       "    <tr>\n",
       "      <th>2</th>\n",
       "      <td>2</td>\n",
       "      <td>0.096656</td>\n",
       "      <td>0.995269</td>\n",
       "      <td>0.009854</td>\n",
       "      <td>0</td>\n",
       "    </tr>\n",
       "    <tr>\n",
       "      <th>3</th>\n",
       "      <td>3</td>\n",
       "      <td>0.062834</td>\n",
       "      <td>0.998018</td>\n",
       "      <td>0.003527</td>\n",
       "      <td>0</td>\n",
       "    </tr>\n",
       "    <tr>\n",
       "      <th>4</th>\n",
       "      <td>4</td>\n",
       "      <td>0.073517</td>\n",
       "      <td>0.997251</td>\n",
       "      <td>0.009234</td>\n",
       "      <td>0</td>\n",
       "    </tr>\n",
       "  </tbody>\n",
       "</table>\n",
       "</div>"
      ],
      "text/plain": [
       "   index  Quantity  TotalSalesValue  per_unit_price  clusters\n",
       "0      0  0.108660         0.994064        0.005462         0\n",
       "1      1  0.104029         0.994559        0.005465         0\n",
       "2      2  0.096656         0.995269        0.009854         0\n",
       "3      3  0.062834         0.998018        0.003527         0\n",
       "4      4  0.073517         0.997251        0.009234         0"
      ]
     },
     "execution_count": 227,
     "metadata": {},
     "output_type": "execute_result"
    }
   ],
   "source": [
    "X_norm['clusters'] = clusters\n",
    "X_norm =X_norm.reset_index()\n",
    "X_norm.head()"
   ]
  },
  {
   "cell_type": "code",
   "execution_count": 199,
   "metadata": {},
   "outputs": [
    {
     "data": {
      "image/png": "[encoded data removed]",
      "text/plain": [
       "<Figure size 432x288 with 1 Axes>"
      ]
     },
     "metadata": {},
     "output_type": "display_data"
    }
   ],
   "source": [
    "import matplotlib.pyplot as plt\n",
    "\n",
    "plt.plot(range(1,19), wcss)\n",
    "plt.title('Elbow graph')\n",
    "plt.xlabel('Cluster number')\n",
    "plt.ylabel('WCSS')\n",
    "plt.show()"
   ]
  },
  {
   "cell_type": "code",
   "execution_count": 239,
   "metadata": {},
   "outputs": [
    {
     "data": {
      "text/plain": [
       "<matplotlib.legend.Legend at 0x1d918413588>"
      ]
     },
     "execution_count": 239,
     "metadata": {},
     "output_type": "execute_result"
    },
    {
     "data": {
      "image/png": "[encoded data removed]",
      "text/plain": [
       "<Figure size 432x288 with 1 Axes>"
      ]
     },
     "metadata": {},
     "output_type": "display_data"
    }
   ],
   "source": [
    "c1 = X_norm[X_norm.clusters == 0]#indeterminate\n",
    "c2 = X_norm[X_norm.clusters == 1]#No\n",
    "c3 = X_norm[X_norm.clusters == 2]#Yes\n",
    "#c4 = rfm_segmentation[rfm_segmentation.clusters == 3]\n",
    "\n",
    "plt.scatter(c1.Quantity, c1.TotalSalesValue, c = 'blue', label = 'Cluster 1')\n",
    "plt.scatter(c2.Quantity, c2.TotalSalesValue, c = 'red', label = 'Cluster 2')\n",
    "plt.scatter(c3.Quantity, c3.TotalSalesValue, c = 'green', label = 'Cluster 3')\n",
    "#plt.scatter(c4.Recency, c4.Monetary, c = 'red', label = 'Cluster 4')\n",
    "\n",
    "plt.title('Clusters for US electrical appliances')\n",
    "plt.xlabel('Quantity')\n",
    "plt.ylabel('TotalSalesValue')\n",
    "plt.legend()"
   ]
  },
  {
   "cell_type": "code",
   "execution_count": 240,
   "metadata": {},
   "outputs": [
    {
     "data": {
      "text/plain": [
       "<matplotlib.legend.Legend at 0x1d9187e7898>"
      ]
     },
     "execution_count": 240,
     "metadata": {},
     "output_type": "execute_result"
    },
    {
     "data": {
      "image/png": "[encoded data removed]",
      "text/plain": [
       "<Figure size 432x288 with 1 Axes>"
      ]
     },
     "metadata": {},
     "output_type": "display_data"
    }
   ],
   "source": [
    "c1 = X_norm[X_norm.clusters == 0]\n",
    "c2 = X_norm[X_norm.clusters == 1]\n",
    "c3 = X_norm[X_norm.clusters == 2]\n",
    "#c4 = X_train_norm[X_train_norm.clusters == 3]\n",
    "\n",
    "plt.scatter(c1.Quantity, c1.per_unit_price, c = 'red', label = 'Cluster 1')\n",
    "plt.scatter(c2.Quantity, c2.per_unit_price, c = 'blue', label = 'Cluster 2')\n",
    "plt.scatter(c3.Quantity, c3.per_unit_price, c = 'green', label = 'Cluster 3')\n",
    "#plt.scatter(c4.Quantity, c4.RFMScore, c = 'red', label = 'Cluster 4')\n",
    "\n",
    "plt.title('Clusters for US electrical appliances')\n",
    "plt.xlabel('Quantity')\n",
    "plt.ylabel('per_unit_price')\n",
    "plt.legend()"
   ]
  },
  {
   "cell_type": "code",
   "execution_count": 173,
   "metadata": {},
   "outputs": [
    {
     "data": {
      "text/plain": [
       "pandas.core.frame.DataFrame"
      ]
     },
     "execution_count": 173,
     "metadata": {},
     "output_type": "execute_result"
    }
   ],
   "source": [
    "type(train_cluster)"
   ]
  },
  {
   "cell_type": "markdown",
   "metadata": {},
   "source": [
    "## Conclusion\n",
    "even though the model didnot perform well, insights was found \n",
    "probably with better understanding of the attribute the model could have been enhanced"
   ]
  }
 ],
 "metadata": {
  "kernelspec": {
   "display_name": "Python 3",
   "language": "python",
   "name": "python3"
  },
  "language_info": {
   "codemirror_mode": {
    "name": "ipython",
    "version": 3
   },
   "file_extension": ".py",
   "mimetype": "text/x-python",
   "name": "python",
   "nbconvert_exporter": "python",
   "pygments_lexer": "ipython3",
   "version": "3.6.5"
  }
 },
 "nbformat": 4,
 "nbformat_minor": 2
}
